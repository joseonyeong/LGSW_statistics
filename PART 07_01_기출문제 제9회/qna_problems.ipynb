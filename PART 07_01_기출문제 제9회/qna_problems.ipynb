{
 "cells": [
  {
   "cell_type": "markdown",
   "metadata": {
    "id": "JHnoUvGogcJF"
   },
   "source": [
    ">**기출문제 제9회**\n",
    ">>**03 작업형 제3유형**"
   ]
  },
  {
   "cell_type": "markdown",
   "metadata": {},
   "source": [
    "# 문제 1. \n",
    "- 직원들의 주요 생산성 요인 분석 (다중회귀)\n",
    "- Data 정보\n",
    "  + id : 데이터의 고유 식별자\n",
    "  + tenure : 사용 기간\n",
    "  + f2 : 고객의 두 번째 특성\n",
    "  + f3 : 고객의 세 번째 특성\n",
    "  + f4 : 고객의 네 번째 특성\n",
    "  + f5 : 고객의 다섯 번째 특성\n",
    "  + design : 생산성 점수 (종속변수)\n",
    "- 모든 컬럼을 활용하여 design을 예측하는 다중회귀 분석을 시행한 후 유의하지 않은 설명변수 개수를 구하시오. "
   ]
  },
  {
   "cell_type": "code",
   "execution_count": 2,
   "metadata": {
    "executionInfo": {
     "elapsed": 128,
     "status": "ok",
     "timestamp": 1741853505429,
     "user": {
      "displayName": "제쥬감귤",
      "userId": "17148962602000500758"
     },
     "user_tz": -540
    },
    "id": "6LHs9qg-jwqx"
   },
   "outputs": [
    {
     "name": "stdout",
     "output_type": "stream",
     "text": [
      "   id  tenure         f2  f3         f4         f5     design\n",
      "0   1       7  58.875116   1  58.929804   8.629778  41.297902\n",
      "1   2      20  56.054831   0  72.885964  13.040569  47.769777\n",
      "2   3      15  42.797020   1  75.951039  18.546462  50.628621\n",
      "3   4      11  47.300662   0  38.407204  14.124501  24.725309\n",
      "4   5       8  48.565378   1  24.867398  18.861890  27.777825\n"
     ]
    }
   ],
   "source": [
    "import pandas as pd\n",
    "df = pd.read_csv('9_3_1.csv')\n",
    "train = df[df['id'] <= 140]\n",
    "test = df[df['id'] > 140]\n",
    "\n",
    "print(df.head())"
   ]
  },
  {
   "cell_type": "code",
   "execution_count": 3,
   "metadata": {
    "executionInfo": {
     "elapsed": 1120,
     "status": "ok",
     "timestamp": 1741853512268,
     "user": {
      "displayName": "제쥬감귤",
      "userId": "17148962602000500758"
     },
     "user_tz": -540
    },
    "id": "vb-LzHTqj0hI"
   },
   "outputs": [
    {
     "name": "stdout",
     "output_type": "stream",
     "text": [
      "                            OLS Regression Results                            \n",
      "==============================================================================\n",
      "Dep. Variable:                 design   R-squared:                       0.837\n",
      "Model:                            OLS   Adj. R-squared:                  0.831\n",
      "Method:                 Least Squares   F-statistic:                     137.4\n",
      "Date:                Mon, 19 May 2025   Prob (F-statistic):           5.91e-51\n",
      "Time:                        09:41:12   Log-Likelihood:                -421.42\n",
      "No. Observations:                 140   AIC:                             854.8\n",
      "Df Residuals:                     134   BIC:                             872.5\n",
      "Df Model:                           5                                         \n",
      "Covariance Type:            nonrobust                                         \n",
      "==============================================================================\n",
      "                 coef    std err          t      P>|t|      [0.025      0.975]\n",
      "------------------------------------------------------------------------------\n",
      "Intercept      2.5393      2.584      0.983      0.327      -2.571       7.649\n",
      "tenure         0.5411      0.077      6.993      0.000       0.388       0.694\n",
      "f2             0.2081      0.043      4.800      0.000       0.122       0.294\n",
      "f3            -0.4736      0.853     -0.556      0.579      -2.160       1.213\n",
      "f4             0.3931      0.016     24.950      0.000       0.362       0.424\n",
      "f5             0.0144      0.073      0.197      0.844      -0.130       0.159\n",
      "==============================================================================\n",
      "Omnibus:                        6.999   Durbin-Watson:                   1.992\n",
      "Prob(Omnibus):                  0.030   Jarque-Bera (JB):                6.709\n",
      "Skew:                          -0.523   Prob(JB):                       0.0349\n",
      "Kurtosis:                       3.234   Cond. No.                         457.\n",
      "==============================================================================\n",
      "\n",
      "Notes:\n",
      "[1] Standard Errors assume that the covariance matrix of the errors is correctly specified.\n"
     ]
    }
   ],
   "source": [
    "# 라이브러리\n",
    "from statsmodels.formula.api import ols\n",
    "formula = \"design ~ tenure + f2 + f3 + f4 + f5\"\n",
    "model = ols(formula, data = train).fit()\n",
    "print(model.summary())"
   ]
  },
  {
   "cell_type": "code",
   "execution_count": 7,
   "metadata": {},
   "outputs": [
    {
     "name": "stdout",
     "output_type": "stream",
     "text": [
      "2\n"
     ]
    }
   ],
   "source": [
    "p_values = model.pvalues\n",
    "# p_values\n",
    "# p_values[1:] >= 0.05 # intercept은 고려하지 않음. 따라서 1~\n",
    "print((p_values[1:] >= 0.05).sum())"
   ]
  },
  {
   "cell_type": "markdown",
   "metadata": {},
   "source": [
    "- 훈련 데이터(학습용) 데이터의 예측값과 실제값의 피어슨 상관계수를 구하시오. "
   ]
  },
  {
   "cell_type": "code",
   "execution_count": 9,
   "metadata": {
    "colab": {
     "base_uri": "https://localhost:8080/"
    },
    "executionInfo": {
     "elapsed": 128,
     "status": "ok",
     "timestamp": 1741853531401,
     "user": {
      "displayName": "제쥬감귤",
      "userId": "17148962602000500758"
     },
     "user_tz": -540
    },
    "id": "4we4KOYVj435",
    "outputId": "f6d7e61f-699d-4eae-81ab-b9037f5e11ef"
   },
   "outputs": [
    {
     "name": "stdout",
     "output_type": "stream",
     "text": [
      "0.914750154303963 3.57192642903042e-56\n"
     ]
    }
   ],
   "source": [
    "y_pred = model.predict(train) # 예측값을 구하는 코드\n",
    "y_real = train['design'] # 실제값을 구하는 코드\n",
    "\n",
    "from scipy.stats import pearsonr\n",
    "# pearsonr(y_pred, y_real)\n",
    "corr, p_value = pearsonr(y_pred, y_real)\n",
    "print(corr, p_value)"
   ]
  },
  {
   "cell_type": "code",
   "execution_count": 10,
   "metadata": {
    "colab": {
     "base_uri": "https://localhost:8080/"
    },
    "executionInfo": {
     "elapsed": 17,
     "status": "ok",
     "timestamp": 1741853537862,
     "user": {
      "displayName": "제쥬감귤",
      "userId": "17148962602000500758"
     },
     "user_tz": -540
    },
    "id": "pKAWrYFMj6rx",
    "outputId": "ea283854-a66c-489c-e820-873bcd652179"
   },
   "outputs": [
    {
     "name": "stdout",
     "output_type": "stream",
     "text": [
      "0.914750154303963\n"
     ]
    }
   ],
   "source": [
    "print(corr)"
   ]
  },
  {
   "cell_type": "code",
   "execution_count": null,
   "metadata": {},
   "outputs": [],
   "source": [
    "# pandas 메서드 활용\n",
    "y_pred_series = pd.Series(y_pred)\n",
    "y_real_series = pd.Series(y_real)\n",
    "\n",
    "correlation = y_pred_series.corr(y_real_series)\n",
    "print(\"상관계수:\", correlation)"
   ]
  },
  {
   "cell_type": "markdown",
   "metadata": {},
   "source": [
    "# 문제 2. \n",
    "- 한 통신 회사에서는 고객 이탈을 줄이고자 주요 요인들을 분석하기로 결정하였다.\n",
    "- Data 정보\n",
    "  + col1 : 고객의 첫 번째 특성\n",
    "  + col2 : 고객의 두 번째 특성\n",
    "  + Phone_Service : 폰 서비스 가입 여부\n",
    "  + Tech_Insurance : 기술 보험 가입 여부\n",
    "  + churn : 이탈 여부"
   ]
  },
  {
   "cell_type": "code",
   "execution_count": 21,
   "metadata": {
    "executionInfo": {
     "elapsed": 102,
     "status": "ok",
     "timestamp": 1741853554473,
     "user": {
      "displayName": "제쥬감귤",
      "userId": "17148962602000500758"
     },
     "user_tz": -540
    },
    "id": "GyzweFhlj_Hx"
   },
   "outputs": [
    {
     "data": {
      "text/html": [
       "<div>\n",
       "<style scoped>\n",
       "    .dataframe tbody tr th:only-of-type {\n",
       "        vertical-align: middle;\n",
       "    }\n",
       "\n",
       "    .dataframe tbody tr th {\n",
       "        vertical-align: top;\n",
       "    }\n",
       "\n",
       "    .dataframe thead th {\n",
       "        text-align: right;\n",
       "    }\n",
       "</style>\n",
       "<table border=\"1\" class=\"dataframe\">\n",
       "  <thead>\n",
       "    <tr style=\"text-align: right;\">\n",
       "      <th></th>\n",
       "      <th>col1</th>\n",
       "      <th>col2</th>\n",
       "      <th>Phone_Service</th>\n",
       "      <th>Tech_Insurance</th>\n",
       "      <th>churn</th>\n",
       "    </tr>\n",
       "  </thead>\n",
       "  <tbody>\n",
       "    <tr>\n",
       "      <th>0</th>\n",
       "      <td>54.967142</td>\n",
       "      <td>34.630888</td>\n",
       "      <td>0</td>\n",
       "      <td>1</td>\n",
       "      <td>0</td>\n",
       "    </tr>\n",
       "    <tr>\n",
       "      <th>1</th>\n",
       "      <td>48.617357</td>\n",
       "      <td>39.547083</td>\n",
       "      <td>0</td>\n",
       "      <td>0</td>\n",
       "      <td>0</td>\n",
       "    </tr>\n",
       "    <tr>\n",
       "      <th>2</th>\n",
       "      <td>56.476885</td>\n",
       "      <td>23.007162</td>\n",
       "      <td>1</td>\n",
       "      <td>0</td>\n",
       "      <td>1</td>\n",
       "    </tr>\n",
       "    <tr>\n",
       "      <th>3</th>\n",
       "      <td>65.230299</td>\n",
       "      <td>32.814846</td>\n",
       "      <td>1</td>\n",
       "      <td>0</td>\n",
       "      <td>1</td>\n",
       "    </tr>\n",
       "    <tr>\n",
       "      <th>4</th>\n",
       "      <td>47.658466</td>\n",
       "      <td>26.746787</td>\n",
       "      <td>0</td>\n",
       "      <td>1</td>\n",
       "      <td>1</td>\n",
       "    </tr>\n",
       "  </tbody>\n",
       "</table>\n",
       "</div>"
      ],
      "text/plain": [
       "        col1       col2  Phone_Service  Tech_Insurance  churn\n",
       "0  54.967142  34.630888              0               1      0\n",
       "1  48.617357  39.547083              0               0      0\n",
       "2  56.476885  23.007162              1               0      1\n",
       "3  65.230299  32.814846              1               0      1\n",
       "4  47.658466  26.746787              0               1      1"
      ]
     },
     "execution_count": 21,
     "metadata": {},
     "output_type": "execute_result"
    }
   ],
   "source": [
    "import numpy as np\n",
    "df = pd.read_csv('9_3_2.csv')\n",
    "\n",
    "df.head()"
   ]
  },
  {
   "cell_type": "code",
   "execution_count": 26,
   "metadata": {
    "colab": {
     "base_uri": "https://localhost:8080/"
    },
    "executionInfo": {
     "elapsed": 51,
     "status": "ok",
     "timestamp": 1741853559281,
     "user": {
      "displayName": "제쥬감귤",
      "userId": "17148962602000500758"
     },
     "user_tz": -540
    },
    "id": "FX2Dg9VdkAVB",
    "outputId": "8a7fe63e-128e-4e36-9dca-808ae49b3a4a"
   },
   "outputs": [
    {
     "name": "stdout",
     "output_type": "stream",
     "text": [
      "Optimization terminated successfully.\n",
      "         Current function value: 0.640721\n",
      "         Iterations 5\n",
      "                           Logit Regression Results                           \n",
      "==============================================================================\n",
      "Dep. Variable:                  churn   No. Observations:                  500\n",
      "Model:                          Logit   Df Residuals:                      495\n",
      "Method:                           MLE   Df Model:                            4\n",
      "Date:                Mon, 19 May 2025   Pseudo R-squ.:                 0.07562\n",
      "Time:                        10:12:55   Log-Likelihood:                -320.36\n",
      "converged:                       True   LL-Null:                       -346.57\n",
      "Covariance Type:            nonrobust   LLR p-value:                 1.128e-10\n",
      "==================================================================================\n",
      "                     coef    std err          z      P>|z|      [0.025      0.975]\n",
      "----------------------------------------------------------------------------------\n",
      "Intercept         -1.5390      0.824     -1.868      0.062      -3.154       0.076\n",
      "col1               0.0545      0.010      5.292      0.000       0.034       0.075\n",
      "col2              -0.0430      0.020     -2.197      0.028      -0.081      -0.005\n",
      "Phone_Service      0.6244      0.194      3.210      0.001       0.243       1.006\n",
      "Tech_Insurance    -0.3770      0.207     -1.824      0.068      -0.782       0.028\n",
      "==================================================================================\n"
     ]
    }
   ],
   "source": [
    "from statsmodels.formula.api import logit\n",
    "formula = \"churn ~ col1 + col2 + Phone_Service + Tech_Insurance\"\n",
    "model = logit(formula, data=df).fit()\n",
    "print(model.summary())"
   ]
  },
  {
   "cell_type": "markdown",
   "metadata": {},
   "source": [
    "- 고객 이탈을 예측하는 로지스틱 회귀를 시행한 후 col1 칼럼의 p-value를 구하시오."
   ]
  },
  {
   "cell_type": "code",
   "execution_count": 27,
   "metadata": {
    "colab": {
     "base_uri": "https://localhost:8080/"
    },
    "executionInfo": {
     "elapsed": 18,
     "status": "ok",
     "timestamp": 1741853568038,
     "user": {
      "displayName": "제쥬감귤",
      "userId": "17148962602000500758"
     },
     "user_tz": -540
    },
    "id": "eUgfCTikkCRB",
    "outputId": "75d2692c-ab98-4071-f8b1-6a28dc7fbc4c"
   },
   "outputs": [
    {
     "data": {
      "text/plain": [
       "np.float64(1.207060854990542e-07)"
      ]
     },
     "execution_count": 27,
     "metadata": {},
     "output_type": "execute_result"
    }
   ],
   "source": [
    "model.pvalues['col1']"
   ]
  },
  {
   "cell_type": "markdown",
   "metadata": {},
   "source": [
    "- 폰 서비스를 받지 않은 고객 대비 받은 고객의 이탈 확률 오즈비를 구하시오. "
   ]
  },
  {
   "cell_type": "code",
   "execution_count": 28,
   "metadata": {
    "colab": {
     "base_uri": "https://localhost:8080/"
    },
    "executionInfo": {
     "elapsed": 5,
     "status": "ok",
     "timestamp": 1741853574154,
     "user": {
      "displayName": "제쥬감귤",
      "userId": "17148962602000500758"
     },
     "user_tz": -540
    },
    "id": "vhbflBuukD9B",
    "outputId": "dcf1d6ea-0ec9-4950-8b54-c2891b4baa95"
   },
   "outputs": [
    {
     "data": {
      "text/plain": [
       "np.float64(1.8670723445425637)"
      ]
     },
     "execution_count": 28,
     "metadata": {},
     "output_type": "execute_result"
    }
   ],
   "source": [
    "import numpy as np\n",
    "np.exp(model.params['Phone_Service'])"
   ]
  },
  {
   "cell_type": "code",
   "execution_count": null,
   "metadata": {},
   "outputs": [],
   "source": []
  },
  {
   "cell_type": "code",
   "execution_count": null,
   "metadata": {},
   "outputs": [],
   "source": []
  }
 ],
 "metadata": {
  "colab": {
   "authorship_tag": "ABX9TyOtWrQcShNgNl+6yBEd27EO",
   "provenance": []
  },
  "kernelspec": {
   "display_name": "Python 3 (ipykernel)",
   "language": "python",
   "name": "python3"
  },
  "language_info": {
   "codemirror_mode": {
    "name": "ipython",
    "version": 3
   },
   "file_extension": ".py",
   "mimetype": "text/x-python",
   "name": "python",
   "nbconvert_exporter": "python",
   "pygments_lexer": "ipython3",
   "version": "3.11.12"
  }
 },
 "nbformat": 4,
 "nbformat_minor": 4
}
