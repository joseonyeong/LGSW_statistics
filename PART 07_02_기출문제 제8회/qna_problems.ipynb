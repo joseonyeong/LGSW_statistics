{
 "cells": [
  {
   "cell_type": "markdown",
   "metadata": {
    "id": "i4TsEdb3n0PN"
   },
   "source": [
    ">**기출문제 제8회**\n",
    ">>**03 작업형 제3유형**"
   ]
  },
  {
   "cell_type": "markdown",
   "metadata": {},
   "source": [
    "# 문제 1. \n",
    "- 어느 회사에서 직원들의 업무 효율성을 높이기 위한 새로운 소프트웨어를 도입하였다.\n",
    "- 도입 전과 도입 후의 업무 처리 시간을 각각 측정하여 새로운 소프트웨어의 효과를 검증하고자 한다.\n",
    "- 대응표본 t 검정에서 출발\n",
    "  + 차이값의 정규성 검정을 통해서 만약에 정규성에 위배가 되면 비모수 검정"
   ]
  },
  {
   "cell_type": "code",
   "execution_count": 3,
   "metadata": {
    "executionInfo": {
     "elapsed": 215,
     "status": "ok",
     "timestamp": 1741854575971,
     "user": {
      "displayName": "제쥬감귤",
      "userId": "17148962602000500758"
     },
     "user_tz": -540
    },
    "id": "pZM0A19zn3Xj"
   },
   "outputs": [
    {
     "data": {
      "text/html": [
       "<div>\n",
       "<style scoped>\n",
       "    .dataframe tbody tr th:only-of-type {\n",
       "        vertical-align: middle;\n",
       "    }\n",
       "\n",
       "    .dataframe tbody tr th {\n",
       "        vertical-align: top;\n",
       "    }\n",
       "\n",
       "    .dataframe thead th {\n",
       "        text-align: right;\n",
       "    }\n",
       "</style>\n",
       "<table border=\"1\" class=\"dataframe\">\n",
       "  <thead>\n",
       "    <tr style=\"text-align: right;\">\n",
       "      <th></th>\n",
       "      <th>before</th>\n",
       "      <th>after</th>\n",
       "    </tr>\n",
       "  </thead>\n",
       "  <tbody>\n",
       "    <tr>\n",
       "      <th>0</th>\n",
       "      <td>10.646079</td>\n",
       "      <td>10.541545</td>\n",
       "    </tr>\n",
       "    <tr>\n",
       "      <th>1</th>\n",
       "      <td>8.600236</td>\n",
       "      <td>7.213333</td>\n",
       "    </tr>\n",
       "    <tr>\n",
       "      <th>2</th>\n",
       "      <td>9.468107</td>\n",
       "      <td>8.978912</td>\n",
       "    </tr>\n",
       "    <tr>\n",
       "      <th>3</th>\n",
       "      <td>11.361340</td>\n",
       "      <td>11.541972</td>\n",
       "    </tr>\n",
       "    <tr>\n",
       "      <th>4</th>\n",
       "      <td>10.801337</td>\n",
       "      <td>9.829519</td>\n",
       "    </tr>\n",
       "  </tbody>\n",
       "</table>\n",
       "</div>"
      ],
      "text/plain": [
       "      before      after\n",
       "0  10.646079  10.541545\n",
       "1   8.600236   7.213333\n",
       "2   9.468107   8.978912\n",
       "3  11.361340  11.541972\n",
       "4  10.801337   9.829519"
      ]
     },
     "execution_count": 3,
     "metadata": {},
     "output_type": "execute_result"
    }
   ],
   "source": [
    "import pandas as pd\n",
    "data = pd.read_csv('8_3_1.csv')\n",
    "data.head()"
   ]
  },
  {
   "cell_type": "code",
   "execution_count": 4,
   "metadata": {},
   "outputs": [
    {
     "data": {
      "text/plain": [
       "(50, 2)"
      ]
     },
     "execution_count": 4,
     "metadata": {},
     "output_type": "execute_result"
    }
   ],
   "source": [
    "data.shape"
   ]
  },
  {
   "cell_type": "markdown",
   "metadata": {},
   "source": [
    "- 도입 전과 도입 후의 업무처리 시간의 평균과 표준편차를 구하시오. (소수점 둘째 자리까지 반올림)"
   ]
  },
  {
   "cell_type": "code",
   "execution_count": 6,
   "metadata": {
    "colab": {
     "base_uri": "https://localhost:8080/"
    },
    "executionInfo": {
     "elapsed": 25,
     "status": "ok",
     "timestamp": 1741854587507,
     "user": {
      "displayName": "제쥬감귤",
      "userId": "17148962602000500758"
     },
     "user_tz": -540
    },
    "id": "0lcA3qvXn5yD",
    "outputId": "522c8457-3a59-41ad-ba69-87e35e46a03f"
   },
   "outputs": [
    {
     "name": "stdout",
     "output_type": "stream",
     "text": [
      "8.210838908469647 1.70542476322547\n",
      "7.2317821497137755 1.9627599923988477\n"
     ]
    }
   ],
   "source": [
    "# 코드\n",
    "print(data['before'].mean(), data['before'].std())\n",
    "print(data['after'].mean(), data['after'].std())"
   ]
  },
  {
   "cell_type": "markdown",
   "metadata": {},
   "source": [
    "- 도입 전후의 업무처리 시간 차이가 유의미한지 부호 순위 검정을 실시하고, 검정통계량을 계산하시오. (p-value 소수점 둘째 자리까지 반올림\n",
    "- HINT : 윌콕슨 부호 순위 검정 (비모수 검정 메서드도 익힐 필요 있음, 빅데이터 분석기사 시험)\n",
    "- 가설설정\n",
    "  + 귀무가설 : 전과 후의 중앙값 차이는 0이다.\n",
    "  + 대립가설 : 전과 후의 중앙값 차이는 0이 아니다. "
   ]
  },
  {
   "cell_type": "markdown",
   "metadata": {},
   "source": [
    "### 기본 개념 설명\n",
    "- `+` 순위 합 없음 --> 0\n",
    "- `-` 순위 합 : 1+2+3+4 = 10\n",
    "- Wilcoxon 검정 통계량 w는 부호 순위합 중 더 작은 값\n",
    "  + min(0, 10) = 0, 관측된 통계량보다 더 극단적인 경우가 나올 확률 계산\n",
    "  + 이 통계량으로부터 p-value 값 구함\n",
    "  + 관측된 통계량(여기선 0)보다 더 극단적인 경우가 나올 확률을 계산함"
   ]
  },
  {
   "cell_type": "code",
   "execution_count": 2,
   "metadata": {},
   "outputs": [
    {
     "data": {
      "text/html": [
       "<div>\n",
       "<style scoped>\n",
       "    .dataframe tbody tr th:only-of-type {\n",
       "        vertical-align: middle;\n",
       "    }\n",
       "\n",
       "    .dataframe tbody tr th {\n",
       "        vertical-align: top;\n",
       "    }\n",
       "\n",
       "    .dataframe thead th {\n",
       "        text-align: right;\n",
       "    }\n",
       "</style>\n",
       "<table border=\"1\" class=\"dataframe\">\n",
       "  <thead>\n",
       "    <tr style=\"text-align: right;\">\n",
       "      <th></th>\n",
       "      <th>사람</th>\n",
       "      <th>전 체중(kg)</th>\n",
       "      <th>후 체중(kg)</th>\n",
       "      <th>차이</th>\n",
       "      <th>절댓값</th>\n",
       "      <th>순위</th>\n",
       "      <th>부호</th>\n",
       "    </tr>\n",
       "  </thead>\n",
       "  <tbody>\n",
       "    <tr>\n",
       "      <th>0</th>\n",
       "      <td>A</td>\n",
       "      <td>70</td>\n",
       "      <td>68</td>\n",
       "      <td>-2</td>\n",
       "      <td>2.0</td>\n",
       "      <td>2.0</td>\n",
       "      <td>-</td>\n",
       "    </tr>\n",
       "    <tr>\n",
       "      <th>1</th>\n",
       "      <td>B</td>\n",
       "      <td>60</td>\n",
       "      <td>59</td>\n",
       "      <td>-1</td>\n",
       "      <td>1.0</td>\n",
       "      <td>1.0</td>\n",
       "      <td>-</td>\n",
       "    </tr>\n",
       "    <tr>\n",
       "      <th>2</th>\n",
       "      <td>C</td>\n",
       "      <td>80</td>\n",
       "      <td>77</td>\n",
       "      <td>-3</td>\n",
       "      <td>3.0</td>\n",
       "      <td>3.0</td>\n",
       "      <td>-</td>\n",
       "    </tr>\n",
       "    <tr>\n",
       "      <th>3</th>\n",
       "      <td>D</td>\n",
       "      <td>75</td>\n",
       "      <td>75</td>\n",
       "      <td>0</td>\n",
       "      <td>NaN</td>\n",
       "      <td>NaN</td>\n",
       "      <td>None</td>\n",
       "    </tr>\n",
       "    <tr>\n",
       "      <th>4</th>\n",
       "      <td>E</td>\n",
       "      <td>90</td>\n",
       "      <td>85</td>\n",
       "      <td>-5</td>\n",
       "      <td>5.0</td>\n",
       "      <td>4.0</td>\n",
       "      <td>-</td>\n",
       "    </tr>\n",
       "  </tbody>\n",
       "</table>\n",
       "</div>"
      ],
      "text/plain": [
       "  사람  전 체중(kg)  후 체중(kg)  차이  절댓값   순위    부호\n",
       "0  A        70        68  -2  2.0  2.0     -\n",
       "1  B        60        59  -1  1.0  1.0     -\n",
       "2  C        80        77  -3  3.0  3.0     -\n",
       "3  D        75        75   0  NaN  NaN  None\n",
       "4  E        90        85  -5  5.0  4.0     -"
      ]
     },
     "execution_count": 2,
     "metadata": {},
     "output_type": "execute_result"
    }
   ],
   "source": [
    "import pandas as pd\n",
    "\n",
    "# 데이터 생성\n",
    "data = {\n",
    "    '사람': ['A', 'B', 'C', 'D', 'E'],\n",
    "    '전 체중(kg)': [70, 60, 80, 75, 90],\n",
    "    '후 체중(kg)': [68, 59, 77, 75, 85],\n",
    "    '차이': [-2, -1, -3, 0, -5],\n",
    "    '절댓값': [2, 1, 3, None, 5],\n",
    "    '순위': [2, 1, 3, None, 4],\n",
    "    '부호': ['-', '-', '-', None, '-']\n",
    "}\n",
    "\n",
    "df = pd.DataFrame(data)\n",
    "\n",
    "# 출력\n",
    "df"
   ]
  },
  {
   "cell_type": "code",
   "execution_count": 10,
   "metadata": {
    "colab": {
     "base_uri": "https://localhost:8080/"
    },
    "executionInfo": {
     "elapsed": 19,
     "status": "ok",
     "timestamp": 1741854598634,
     "user": {
      "displayName": "제쥬감귤",
      "userId": "17148962602000500758"
     },
     "user_tz": -540
    },
    "id": "S3OKIqoHn9x7",
    "outputId": "2ffabdf7-f34f-4761-bf54-d0aadc8b2e5f"
   },
   "outputs": [
    {
     "name": "stdout",
     "output_type": "stream",
     "text": [
      "72.0\n"
     ]
    }
   ],
   "source": [
    "from scipy.stats import wilcoxon\n",
    "\n",
    "# 코드\n",
    "statistic, p_value = wilcoxon(data['before'], data['after'])\n",
    "print(statistic.round())"
   ]
  },
  {
   "cell_type": "markdown",
   "metadata": {},
   "source": [
    "- p-value를 바탕으로 `유의수준 5%`에서 귀무가설의 기각/채택 여부를 결정하시오.\n",
    "- p-value는 소수점 셋째 자리까지 반올림"
   ]
  },
  {
   "cell_type": "code",
   "execution_count": 13,
   "metadata": {
    "colab": {
     "base_uri": "https://localhost:8080/"
    },
    "executionInfo": {
     "elapsed": 17,
     "status": "ok",
     "timestamp": 1741854612550,
     "user": {
      "displayName": "제쥬감귤",
      "userId": "17148962602000500758"
     },
     "user_tz": -540
    },
    "id": "MjQHh7cGn_ez",
    "outputId": "e3cef501-823c-4b23-88f1-64a689df0c7e"
   },
   "outputs": [
    {
     "name": "stdout",
     "output_type": "stream",
     "text": [
      "귀무가설 기각 => 대립가설 채택\n"
     ]
    }
   ],
   "source": [
    "# 코드\n",
    "if p_value < 0.05:\n",
    "    print(\"귀무가설 기각 => 대립가설 채택\")\n",
    "else:\n",
    "    print(\"귀무가설 채택\")"
   ]
  },
  {
   "cell_type": "markdown",
   "metadata": {},
   "source": [
    "# 문제 2. \n",
    "- 어느 회사에서 직원들의 업무 효율성을 높이기 위한 새로운 소프트웨어를 도입하였다.\n",
    "- 도입 전과 도입 후의 업무 처리 시간을 각각 측정하여 새로운 소프트웨어의 효과를 검증하고자 한다."
   ]
  },
  {
   "cell_type": "code",
   "execution_count": 15,
   "metadata": {
    "executionInfo": {
     "elapsed": 599,
     "status": "ok",
     "timestamp": 1741854620179,
     "user": {
      "displayName": "제쥬감귤",
      "userId": "17148962602000500758"
     },
     "user_tz": -540
    },
    "id": "jCEYBf3toDFj"
   },
   "outputs": [
    {
     "data": {
      "text/html": [
       "<div>\n",
       "<style scoped>\n",
       "    .dataframe tbody tr th:only-of-type {\n",
       "        vertical-align: middle;\n",
       "    }\n",
       "\n",
       "    .dataframe tbody tr th {\n",
       "        vertical-align: top;\n",
       "    }\n",
       "\n",
       "    .dataframe thead th {\n",
       "        text-align: right;\n",
       "    }\n",
       "</style>\n",
       "<table border=\"1\" class=\"dataframe\">\n",
       "  <thead>\n",
       "    <tr style=\"text-align: right;\">\n",
       "      <th></th>\n",
       "      <th>productivity</th>\n",
       "      <th>hours</th>\n",
       "      <th>age</th>\n",
       "      <th>experience</th>\n",
       "    </tr>\n",
       "  </thead>\n",
       "  <tbody>\n",
       "    <tr>\n",
       "      <th>0</th>\n",
       "      <td>201.358765</td>\n",
       "      <td>49.753877</td>\n",
       "      <td>34</td>\n",
       "      <td>24</td>\n",
       "    </tr>\n",
       "  </tbody>\n",
       "</table>\n",
       "</div>"
      ],
      "text/plain": [
       "   productivity      hours  age  experience\n",
       "0    201.358765  49.753877   34          24"
      ]
     },
     "execution_count": 15,
     "metadata": {},
     "output_type": "execute_result"
    }
   ],
   "source": [
    "import pandas as pd\n",
    "train_data = pd.read_csv('8_3_2_train.csv')\n",
    "test_data = pd.read_csv('8_3_2_test.csv')\n",
    "\n",
    "train_data.head(1)"
   ]
  },
  {
   "cell_type": "code",
   "execution_count": 16,
   "metadata": {},
   "outputs": [
    {
     "data": {
      "text/html": [
       "<div>\n",
       "<style scoped>\n",
       "    .dataframe tbody tr th:only-of-type {\n",
       "        vertical-align: middle;\n",
       "    }\n",
       "\n",
       "    .dataframe tbody tr th {\n",
       "        vertical-align: top;\n",
       "    }\n",
       "\n",
       "    .dataframe thead th {\n",
       "        text-align: right;\n",
       "    }\n",
       "</style>\n",
       "<table border=\"1\" class=\"dataframe\">\n",
       "  <thead>\n",
       "    <tr style=\"text-align: right;\">\n",
       "      <th></th>\n",
       "      <th>productivity</th>\n",
       "      <th>hours</th>\n",
       "      <th>age</th>\n",
       "      <th>experience</th>\n",
       "    </tr>\n",
       "  </thead>\n",
       "  <tbody>\n",
       "    <tr>\n",
       "      <th>0</th>\n",
       "      <td>160.320183</td>\n",
       "      <td>40.228793</td>\n",
       "      <td>35</td>\n",
       "      <td>8</td>\n",
       "    </tr>\n",
       "  </tbody>\n",
       "</table>\n",
       "</div>"
      ],
      "text/plain": [
       "   productivity      hours  age  experience\n",
       "0    160.320183  40.228793   35           8"
      ]
     },
     "execution_count": 16,
     "metadata": {},
     "output_type": "execute_result"
    }
   ],
   "source": [
    "test_data.head(1)"
   ]
  },
  {
   "cell_type": "markdown",
   "metadata": {},
   "source": [
    "- 훈련 데이터를 기준으로 생산성 점수(productivity)를 종속변수로 하고 근무 시간, 연령, 그리고 경력을 독립변수로 하는 다중회귀 분석을 수행한 후, 회귀계수가 가장 높은 변수를 구하시오. "
   ]
  },
  {
   "cell_type": "code",
   "execution_count": 17,
   "metadata": {
    "colab": {
     "base_uri": "https://localhost:8080/"
    },
    "executionInfo": {
     "elapsed": 3462,
     "status": "ok",
     "timestamp": 1741854641798,
     "user": {
      "displayName": "제쥬감귤",
      "userId": "17148962602000500758"
     },
     "user_tz": -540
    },
    "id": "YoFrCp6woEsk",
    "outputId": "25fd1643-d4ba-4b50-9894-7d2a3cd431e6"
   },
   "outputs": [
    {
     "name": "stdout",
     "output_type": "stream",
     "text": [
      "                            OLS Regression Results                            \n",
      "==============================================================================\n",
      "Dep. Variable:           productivity   R-squared:                       0.732\n",
      "Model:                            OLS   Adj. R-squared:                  0.721\n",
      "Method:                 Least Squares   F-statistic:                     69.03\n",
      "Date:                Tue, 20 May 2025   Prob (F-statistic):           1.20e-21\n",
      "Time:                        09:46:20   Log-Likelihood:                -297.10\n",
      "No. Observations:                  80   AIC:                             602.2\n",
      "Df Residuals:                      76   BIC:                             611.7\n",
      "Df Model:                           3                                         \n",
      "Covariance Type:            nonrobust                                         \n",
      "==============================================================================\n",
      "                 coef    std err          t      P>|t|      [0.025      0.975]\n",
      "------------------------------------------------------------------------------\n",
      "const         67.2310     11.097      6.059      0.000      45.130      89.332\n",
      "hours          1.6182      0.226      7.169      0.000       1.169       2.068\n",
      "age            0.4311      0.110      3.904      0.000       0.211       0.651\n",
      "experience     1.5323      0.124     12.380      0.000       1.286       1.779\n",
      "==============================================================================\n",
      "Omnibus:                        3.122   Durbin-Watson:                   1.692\n",
      "Prob(Omnibus):                  0.210   Jarque-Bera (JB):                2.381\n",
      "Skew:                           0.380   Prob(JB):                        0.304\n",
      "Kurtosis:                       3.372   Cond. No.                         611.\n",
      "==============================================================================\n",
      "\n",
      "Notes:\n",
      "[1] Standard Errors assume that the covariance matrix of the errors is correctly specified.\n"
     ]
    }
   ],
   "source": [
    "import statsmodels.api as sm\n",
    "\n",
    "# 독립 변수와 종속 변수 설정 (train 데이터 사용)\n",
    "# 머신러닝 수업 할 때 자주 보는 코드 형태\n",
    "X_train = train_data[['hours', 'age', 'experience']]\n",
    "y_train = train_data['productivity']\n",
    "\n",
    "X_train = sm.add_constant(X_train) # 상수항 추가\n",
    "model = sm.OLS(y_train, X_train).fit() # 다중회귀 분석 모델 적합 (train 데이터 사용)\n",
    "print(model.summary()) # 회귀계수 출력"
   ]
  },
  {
   "cell_type": "code",
   "execution_count": 18,
   "metadata": {
    "colab": {
     "base_uri": "https://localhost:8080/"
    },
    "executionInfo": {
     "elapsed": 7,
     "status": "ok",
     "timestamp": 1741854645555,
     "user": {
      "displayName": "제쥬감귤",
      "userId": "17148962602000500758"
     },
     "user_tz": -540
    },
    "id": "ehLngAfpoJdj",
    "outputId": "860fb5c9-ea64-4a70-9f18-e5e65270b5f5"
   },
   "outputs": [
    {
     "name": "stdout",
     "output_type": "stream",
     "text": [
      "회귀계수가 가장 큰 변수: hours\n"
     ]
    }
   ],
   "source": [
    "# 회귀계수 추출\n",
    "coefficients = model.params[1:]\n",
    "print('회귀계수가 가장 큰 변수:', coefficients.idxmax())"
   ]
  },
  {
   "cell_type": "markdown",
   "metadata": {},
   "source": [
    "- 유의수준 5% 하에서 각 독립변수가 생산성에 미치는 영향이 통계적으로 유의미한지 판단하고, 유의미한 변수 개수를 구하시오.\n",
    "- p-value는 소수점 넷째 자리까지 반올림"
   ]
  },
  {
   "cell_type": "code",
   "execution_count": 19,
   "metadata": {
    "colab": {
     "base_uri": "https://localhost:8080/"
    },
    "executionInfo": {
     "elapsed": 20,
     "status": "ok",
     "timestamp": 1741854656900,
     "user": {
      "displayName": "제쥬감귤",
      "userId": "17148962602000500758"
     },
     "user_tz": -540
    },
    "id": "sDsFWsULoMFT",
    "outputId": "6292f3a1-f5c0-426d-b96a-0d041ae24e71"
   },
   "outputs": [
    {
     "name": "stdout",
     "output_type": "stream",
     "text": [
      "유의미한 변수 개수: 3\n",
      "hours         0.0000\n",
      "age           0.0002\n",
      "experience    0.0000\n",
      "dtype: float64\n"
     ]
    }
   ],
   "source": [
    "# 코드\n",
    "p_values = model.pvalues[1:].round(4)\n",
    "significant_vars = p_values[p_values < 0.05]\n",
    "num_significant_vars = len(significant_vars)\n",
    "\n",
    "print('유의미한 변수 개수:', num_significant_vars)\n",
    "print(significant_vars)"
   ]
  },
  {
   "cell_type": "markdown",
   "metadata": {},
   "source": [
    "- (옵션) 테스트 데이터로 모델의 성능을 평가하시오."
   ]
  },
  {
   "cell_type": "code",
   "execution_count": 20,
   "metadata": {
    "colab": {
     "base_uri": "https://localhost:8080/"
    },
    "executionInfo": {
     "elapsed": 48,
     "status": "ok",
     "timestamp": 1741854672202,
     "user": {
      "displayName": "제쥬감귤",
      "userId": "17148962602000500758"
     },
     "user_tz": -540
    },
    "id": "qB-b_Y4woOw8",
    "outputId": "46ea506e-5edc-45a4-bc60-ca2f69d399fa"
   },
   "outputs": [
    {
     "name": "stdout",
     "output_type": "stream",
     "text": [
      "테스트 데이터 Rsquared: 0.804\n"
     ]
    }
   ],
   "source": [
    "# 코드\n",
    "from sklearn.metrics import r2_score\n",
    "\n",
    "# 독립 변수와 종속 변수 설정 (test 데이터 사용)\n",
    "X_test = test_data[['hours', 'age', 'experience']]\n",
    "y_test = test_data['productivity']\n",
    "\n",
    "X_test = sm.add_constant(X_test) # 상수항 추가\n",
    "y_pred = model.predict(X_test) # 예측 수행\n",
    "r2 = r2_score(y_test, y_pred) # R2 계산\n",
    "print('테스트 데이터 Rsquared:', round(r2, 3))"
   ]
  }
 ],
 "metadata": {
  "colab": {
   "authorship_tag": "ABX9TyO9aYJCmNH5domS7aUuHPrG",
   "provenance": []
  },
  "kernelspec": {
   "display_name": "Python 3 (ipykernel)",
   "language": "python",
   "name": "python3"
  },
  "language_info": {
   "codemirror_mode": {
    "name": "ipython",
    "version": 3
   },
   "file_extension": ".py",
   "mimetype": "text/x-python",
   "name": "python",
   "nbconvert_exporter": "python",
   "pygments_lexer": "ipython3",
   "version": "3.11.12"
  }
 },
 "nbformat": 4,
 "nbformat_minor": 4
}
