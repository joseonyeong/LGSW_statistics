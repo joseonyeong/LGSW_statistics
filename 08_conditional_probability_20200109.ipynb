{
 "cells": [
  {
   "cell_type": "markdown",
   "metadata": {},
   "source": [
    "# 파이썬 기반의 AI를 위한 기초수학, 확률및통계"
   ]
  },
  {
   "cell_type": "code",
   "execution_count": 3,
   "metadata": {},
   "outputs": [],
   "source": [
    "## 강봉주 \n",
    "## bonjour.kang@gmail.com\n",
    "## 조건부 확률과 독립\n",
    "##"
   ]
  },
  {
   "cell_type": "code",
   "execution_count": 4,
   "metadata": {},
   "outputs": [
    {
     "data": {
      "text/plain": [
       "'1.0.0'"
      ]
     },
     "execution_count": 4,
     "metadata": {},
     "output_type": "execute_result"
    }
   ],
   "source": [
    "# 필요한 패키지\n",
    "import numpy as np\n",
    "import scipy\n",
    "from scipy import linalg as la\n",
    "import matplotlib.pyplot as plt\n",
    "\n",
    "import scipy.stats as ss\n",
    "import sympy\n",
    "\n",
    "# 한글출력\n",
    "plt.rcParams['font.family'] = 'AppleGothic' #  Windows 'Malgun Gothic' \n",
    "plt.rcParams['axes.unicode_minus'] = False\n",
    "\n",
    "# 필요한 패키지 2\n",
    "from pgmpy.factors.discrete import JointProbabilityDistribution as JPD\n",
    "import pgmpy\n",
    "pgmpy.__version__"
   ]
  },
  {
   "cell_type": "markdown",
   "metadata": {},
   "source": [
    "# 조건부 확률의 개념\n",
    "- 어떤 사건 a가 이미 일어났다는 조건 하에 사건 b가 일어날 확률\n",
    "- 예시\n",
    "  + 전체 학생 중 60%가 수학을 좋아함, P(A) = 0.6 (수학을 좋아하지 앟ㄴ는 확률 0.4)\n",
    "  + 수학을 좋아하는 학생의 70%가 시험에 합격 P(B|A) = 0.7\n",
    "  + 질문: 전체 학생 중, 수학을 좋아하면서 시험에 합격한 비율은?"
   ]
  },
  {
   "cell_type": "code",
   "execution_count": 5,
   "metadata": {},
   "outputs": [
    {
     "name": "stdout",
     "output_type": "stream",
     "text": [
      "0.42\n"
     ]
    }
   ],
   "source": [
    "P_A = 0.6\n",
    "P_B_given_A = 0.7\n",
    "\n",
    "# 조건부 확률 공식\n",
    "P_A_and_B = P_A * P_B_given_A\n",
    "print(P_A_and_B)"
   ]
  },
  {
   "cell_type": "markdown",
   "metadata": {},
   "source": [
    "## 주변 분포와 조건부 분포\n",
    "- 다변량 데이터 분석을 활용할 때도 조건부 확률의 개념이 들어가지 않을까? 추측\n",
    "  + 상관분석, 회귀분석"
   ]
  },
  {
   "cell_type": "markdown",
   "metadata": {},
   "source": [
    "- p.155\n",
    "- p.158"
   ]
  },
  {
   "cell_type": "code",
   "execution_count": 6,
   "metadata": {
    "scrolled": true
   },
   "outputs": [
    {
     "name": "stdout",
     "output_type": "stream",
     "text": [
      "+-------+-------+------------+\n",
      "| X1    | X2    |   P(X1,X2) |\n",
      "+=======+=======+============+\n",
      "| X1(0) | X2(0) |     0.0952 |\n",
      "+-------+-------+------------+\n",
      "| X1(0) | X2(1) |     0.1429 |\n",
      "+-------+-------+------------+\n",
      "| X1(1) | X2(0) |     0.1429 |\n",
      "+-------+-------+------------+\n",
      "| X1(1) | X2(1) |     0.1905 |\n",
      "+-------+-------+------------+\n",
      "| X1(2) | X2(0) |     0.1905 |\n",
      "+-------+-------+------------+\n",
      "| X1(2) | X2(1) |     0.2381 |\n",
      "+-------+-------+------------+\n"
     ]
    }
   ],
   "source": [
    "# 결합 확률 정의\n",
    "from pgmpy.factors.discrete import JointProbabilityDistribution as JPD\n",
    "\n",
    "## 하나의 사건만을 가지고 확률 얘기\n",
    "# 지금은 두 개의 사건을 조합 해서 확률 값을 구할 수 있다.\n",
    "# 결합확률밀도 함수\n",
    "prob = list()\n",
    "for i in np.arange(1, 4):\n",
    "    for j in np.arange(1,3):\n",
    "        prob.append((i+j)/21)\n",
    "        \n",
    "fxy = JPD(['X1', 'X2'],[3, 2], prob)\n",
    "print(fxy)"
   ]
  },
  {
   "cell_type": "code",
   "execution_count": 7,
   "metadata": {},
   "outputs": [
    {
     "data": {
      "text/plain": [
       "np.float64(1.0)"
      ]
     },
     "execution_count": 7,
     "metadata": {},
     "output_type": "execute_result"
    }
   ],
   "source": [
    "# 확률 밀도 함수 확인\n",
    "np.sum(fxy.values)"
   ]
  },
  {
   "cell_type": "code",
   "execution_count": 8,
   "metadata": {
    "scrolled": true
   },
   "outputs": [
    {
     "name": "stdout",
     "output_type": "stream",
     "text": [
      "+-------+---------+\n",
      "| X1    |   P(X1) |\n",
      "+=======+=========+\n",
      "| X1(0) |  0.2381 |\n",
      "+-------+---------+\n",
      "| X1(1) |  0.3333 |\n",
      "+-------+---------+\n",
      "| X1(2) |  0.4286 |\n",
      "+-------+---------+\n"
     ]
    }
   ],
   "source": [
    "# 주변 확률 구하기\n",
    "fx = fxy.marginal_distribution(['X1'], inplace=False)\n",
    "print(fx)"
   ]
  },
  {
   "cell_type": "markdown",
   "metadata": {},
   "source": [
    "[예제] $X_1=1$ 일 때 $X_2$ 의 조건부 확률"
   ]
  },
  {
   "cell_type": "code",
   "execution_count": 11,
   "metadata": {
    "scrolled": true
   },
   "outputs": [
    {
     "ename": "ValueError",
     "evalue": "The variable: X1 is not in the factor",
     "output_type": "error",
     "traceback": [
      "\u001b[31m---------------------------------------------------------------------------\u001b[39m",
      "\u001b[31mValueError\u001b[39m                                Traceback (most recent call last)",
      "\u001b[36mCell\u001b[39m\u001b[36m \u001b[39m\u001b[32mIn[11]\u001b[39m\u001b[32m, line 1\u001b[39m\n\u001b[32m----> \u001b[39m\u001b[32m1\u001b[39m prob = \u001b[43mfxy\u001b[49m\u001b[43m.\u001b[49m\u001b[43mconditional_distribution\u001b[49m\u001b[43m(\u001b[49m\u001b[43m[\u001b[49m\u001b[43m(\u001b[49m\u001b[33;43m'\u001b[39;49m\u001b[33;43mX1\u001b[39;49m\u001b[33;43m'\u001b[39;49m\u001b[43m,\u001b[49m\u001b[43m \u001b[49m\u001b[32;43m0\u001b[39;49m\u001b[43m)\u001b[49m\u001b[43m]\u001b[49m\u001b[43m,\u001b[49m\u001b[43m \u001b[49m\u001b[43minplace\u001b[49m\u001b[43m=\u001b[49m\u001b[38;5;28;43;01mFalse\u001b[39;49;00m\u001b[43m)\u001b[49m\n\u001b[32m      2\u001b[39m \u001b[38;5;28mprint\u001b[39m(prob)\n",
      "\u001b[36mFile \u001b[39m\u001b[32m~\\Desktop\\ai_statistics\\.venv\\Lib\\site-packages\\pgmpy\\factors\\discrete\\JointProbabilityDistribution.py:276\u001b[39m, in \u001b[36mJointProbabilityDistribution.conditional_distribution\u001b[39m\u001b[34m(self, values, inplace)\u001b[39m\n\u001b[32m    250\u001b[39m \u001b[38;5;250m\u001b[39m\u001b[33;03m\"\"\"\u001b[39;00m\n\u001b[32m    251\u001b[39m \u001b[33;03mReturns Conditional Probability Distribution after setting values to 1.\u001b[39;00m\n\u001b[32m    252\u001b[39m \n\u001b[32m   (...)\u001b[39m\u001b[32m    273\u001b[39m \u001b[33;03mx2_1  x3_1      0.2500\u001b[39;00m\n\u001b[32m    274\u001b[39m \u001b[33;03m\"\"\"\u001b[39;00m\n\u001b[32m    275\u001b[39m JPD = \u001b[38;5;28mself\u001b[39m \u001b[38;5;28;01mif\u001b[39;00m inplace \u001b[38;5;28;01melse\u001b[39;00m \u001b[38;5;28mself\u001b[39m.copy()\n\u001b[32m--> \u001b[39m\u001b[32m276\u001b[39m \u001b[43mJPD\u001b[49m\u001b[43m.\u001b[49m\u001b[43mreduce\u001b[49m\u001b[43m(\u001b[49m\u001b[43mvalues\u001b[49m\u001b[43m)\u001b[49m\n\u001b[32m    277\u001b[39m JPD.normalize()\n\u001b[32m    278\u001b[39m \u001b[38;5;28;01mif\u001b[39;00m \u001b[38;5;129;01mnot\u001b[39;00m inplace:\n",
      "\u001b[36mFile \u001b[39m\u001b[32m~\\Desktop\\ai_statistics\\.venv\\Lib\\site-packages\\pgmpy\\factors\\discrete\\DiscreteFactor.py:540\u001b[39m, in \u001b[36mDiscreteFactor.reduce\u001b[39m\u001b[34m(self, values, inplace, show_warnings)\u001b[39m\n\u001b[32m    538\u001b[39m \u001b[38;5;28;01mfor\u001b[39;00m var, _ \u001b[38;5;129;01min\u001b[39;00m values:\n\u001b[32m    539\u001b[39m     \u001b[38;5;28;01mif\u001b[39;00m var \u001b[38;5;129;01mnot\u001b[39;00m \u001b[38;5;129;01min\u001b[39;00m \u001b[38;5;28mself\u001b[39m.variables:\n\u001b[32m--> \u001b[39m\u001b[32m540\u001b[39m         \u001b[38;5;28;01mraise\u001b[39;00m \u001b[38;5;167;01mValueError\u001b[39;00m(\u001b[33mf\u001b[39m\u001b[33m\"\u001b[39m\u001b[33mThe variable: \u001b[39m\u001b[38;5;132;01m{\u001b[39;00mvar\u001b[38;5;132;01m}\u001b[39;00m\u001b[33m is not in the factor\u001b[39m\u001b[33m\"\u001b[39m)\n\u001b[32m    542\u001b[39m phi = \u001b[38;5;28mself\u001b[39m \u001b[38;5;28;01mif\u001b[39;00m inplace \u001b[38;5;28;01melse\u001b[39;00m \u001b[38;5;28mself\u001b[39m.copy()\n\u001b[32m    544\u001b[39m \u001b[38;5;66;03m# Convert the state names to state number. If state name not found treat them as\u001b[39;00m\n\u001b[32m    545\u001b[39m \u001b[38;5;66;03m# state numbers.\u001b[39;00m\n",
      "\u001b[31mValueError\u001b[39m: The variable: X1 is not in the factor"
     ]
    }
   ],
   "source": [
    "prob = fxy.conditional_distribution([('X1', 0)], inplace=False)\n",
    "print(prob)"
   ]
  },
  {
   "cell_type": "markdown",
   "metadata": {},
   "source": [
    "## 상관계수"
   ]
  },
  {
   "cell_type": "code",
   "execution_count": 12,
   "metadata": {},
   "outputs": [
    {
     "name": "stdout",
     "output_type": "stream",
     "text": [
      "+------+------+----------+\n",
      "| X    | Y    |   P(X,Y) |\n",
      "+======+======+==========+\n",
      "| X(0) | Y(0) |   0.1333 |\n",
      "+------+------+----------+\n",
      "| X(0) | Y(1) |   0.2667 |\n",
      "+------+------+----------+\n",
      "| X(0) | Y(2) |   0.2000 |\n",
      "+------+------+----------+\n",
      "| X(1) | Y(0) |   0.0667 |\n",
      "+------+------+----------+\n",
      "| X(1) | Y(1) |   0.0667 |\n",
      "+------+------+----------+\n",
      "| X(1) | Y(2) |   0.2667 |\n",
      "+------+------+----------+\n"
     ]
    }
   ],
   "source": [
    "# 결합확률 정의\n",
    "prob = np.array([2, 4, 3, 1, 1, 4])/15\n",
    "fxy = JPD(['X', 'Y'],[2, 3], prob)\n",
    "print(fxy)"
   ]
  },
  {
   "cell_type": "markdown",
   "metadata": {},
   "source": [
    "## 결합 확률밀도함수 시각화, 해석"
   ]
  },
  {
   "cell_type": "code",
   "execution_count": 13,
   "metadata": {},
   "outputs": [
    {
     "data": {
      "text/plain": [
       "array([[1., 1., 1., ..., 1., 1., 1.],\n",
       "       [1., 1., 1., ..., 1., 1., 1.],\n",
       "       [1., 1., 1., ..., 1., 1., 1.],\n",
       "       ...,\n",
       "       [1., 1., 1., ..., 1., 1., 1.],\n",
       "       [1., 1., 1., ..., 1., 1., 1.],\n",
       "       [1., 1., 1., ..., 1., 1., 1.]], shape=(100, 100))"
      ]
     },
     "execution_count": 13,
     "metadata": {},
     "output_type": "execute_result"
    }
   ],
   "source": [
    "x = np.linspace(0,1,100) # 독립적인 사건, 서로 다른 수치형 필드\n",
    "y = np.linspace(0,1,100) # 독립적인 사건, 서로 다른 수치형 필드\n",
    "X, Y = np.meshgrid(x,y)\n",
    "\n",
    "# 결합 확률 밀도 함수\n",
    "Z = np.ones_like(X) # 모든 구간에서 밀도는 1 # 특정한 시공간이 있는데, 데이터의 밀도는 일정\n",
    "Z\n"
   ]
  },
  {
   "cell_type": "code",
   "execution_count": 8,
   "metadata": {},
   "outputs": [
    {
     "data": {
      "text/plain": [
       "np.float64(1.0)"
      ]
     },
     "execution_count": 8,
     "metadata": {},
     "output_type": "execute_result"
    }
   ],
   "source": [
    "# 확률 분포 확인\n",
    "np.sum(fxy.values)"
   ]
  },
  {
   "cell_type": "markdown",
   "metadata": {},
   "source": [
    "예시 강아지, 고양이, 새\n",
    "- 특정한 이미지를 투영하면\n",
    "  + 사람 : 이 이미지는 강아지, 고양이, 새\n",
    "  + 딥러닝 : 강아지일 확률 60%, 고양이일 확률 30%, 새일 확률 10%\n",
    "    - 결과는 강아지다."
   ]
  },
  {
   "cell_type": "code",
   "execution_count": 9,
   "metadata": {
    "scrolled": true
   },
   "outputs": [
    {
     "name": "stdout",
     "output_type": "stream",
     "text": [
      "+------+--------+\n",
      "| X    |   P(X) |\n",
      "+======+========+\n",
      "| X(0) | 0.6000 |\n",
      "+------+--------+\n",
      "| X(1) | 0.4000 |\n",
      "+------+--------+\n"
     ]
    }
   ],
   "source": [
    "# X 주변 확률 구하기\n",
    "# 딥러닝 softmax 함수 확률\n",
    "# 다중분류 나오는 개념 유시\n",
    "fx = fxy.marginal_distribution(['X'], inplace=False)\n",
    "print(fx)"
   ]
  },
  {
   "cell_type": "code",
   "execution_count": 10,
   "metadata": {},
   "outputs": [
    {
     "data": {
      "text/plain": [
       "np.float64(1.4)"
      ]
     },
     "execution_count": 10,
     "metadata": {},
     "output_type": "execute_result"
    }
   ],
   "source": [
    "# X의 기대값 구하기\n",
    "x = np.array([1, 2])\n",
    "EX = np.dot(x,fx.values )\n",
    "EX.round(3)"
   ]
  },
  {
   "cell_type": "code",
   "execution_count": 11,
   "metadata": {},
   "outputs": [
    {
     "data": {
      "text/plain": [
       "np.float64(2.2)"
      ]
     },
     "execution_count": 11,
     "metadata": {},
     "output_type": "execute_result"
    }
   ],
   "source": [
    "# X의 제곱 기대값 구하기\n",
    "EXX = np.dot(x*x, fx.values)\n",
    "EXX.round(3)"
   ]
  },
  {
   "cell_type": "code",
   "execution_count": 12,
   "metadata": {},
   "outputs": [
    {
     "data": {
      "text/plain": [
       "np.float64(0.49)"
      ]
     },
     "execution_count": 12,
     "metadata": {},
     "output_type": "execute_result"
    }
   ],
   "source": [
    "# X의 표준편차 구하기\n",
    "SDX = np.sqrt(EXX-EX**2)\n",
    "SDX.round(3)"
   ]
  },
  {
   "cell_type": "code",
   "execution_count": 13,
   "metadata": {},
   "outputs": [],
   "source": [
    "# Y의 주변 분포, 기대값, 제곱합, 표준편차\n",
    "\n",
    "# Y의 주변 분포\n",
    "fy = fxy.marginal_distribution(['Y'], inplace=False)\n",
    "\n",
    "# Y의 기대값\n",
    "y = np.array([1, 2, 3])\n",
    "EY = np.dot(y,fy.values )\n",
    "\n",
    "# Y의 제곱 기대값\n",
    "EYY = np.dot(y*y, fy.values)\n",
    "\n",
    "# Y의 표준편차\n",
    "SDY = np.sqrt(EYY-EY**2)"
   ]
  },
  {
   "cell_type": "code",
   "execution_count": 14,
   "metadata": {},
   "outputs": [
    {
     "data": {
      "text/plain": [
       "array([1, 2, 3, 2, 4, 6])"
      ]
     },
     "execution_count": 14,
     "metadata": {},
     "output_type": "execute_result"
    }
   ],
   "source": [
    "# 공분산 구하기\n",
    "# xy 값 구성\n",
    "xy = np.outer(x, y).reshape(-1,)\n",
    "xy"
   ]
  },
  {
   "cell_type": "code",
   "execution_count": 15,
   "metadata": {},
   "outputs": [
    {
     "data": {
      "text/plain": [
       "np.float64(3.267)"
      ]
     },
     "execution_count": 15,
     "metadata": {},
     "output_type": "execute_result"
    }
   ],
   "source": [
    "# XY 기대값\n",
    "EXY = np.dot(xy, fxy.values.reshape(-1, ))\n",
    "EXY.round(3)"
   ]
  },
  {
   "cell_type": "code",
   "execution_count": 16,
   "metadata": {},
   "outputs": [
    {
     "data": {
      "text/plain": [
       "np.float64(0.093)"
      ]
     },
     "execution_count": 16,
     "metadata": {},
     "output_type": "execute_result"
    }
   ],
   "source": [
    "# 공분산 계산\n",
    "CovXY = EXY - EX*EY\n",
    "CovXY.round(3)"
   ]
  },
  {
   "cell_type": "code",
   "execution_count": 17,
   "metadata": {},
   "outputs": [
    {
     "data": {
      "text/plain": [
       "np.float64(0.247)"
      ]
     },
     "execution_count": 17,
     "metadata": {},
     "output_type": "execute_result"
    }
   ],
   "source": [
    "# 상관계수 값\n",
    "rho = CovXY / (SDX * SDY)\n",
    "rho.round(3)"
   ]
  },
  {
   "cell_type": "code",
   "execution_count": 18,
   "metadata": {},
   "outputs": [
    {
     "data": {
      "text/plain": [
       "False"
      ]
     },
     "execution_count": 18,
     "metadata": {},
     "output_type": "execute_result"
    }
   ],
   "source": [
    "# 두 변수 간의 독립성 여부 확인\n",
    "fxy.check_independence(['X'], ['Y'])"
   ]
  }
 ],
 "metadata": {
  "kernelspec": {
   "display_name": "Python 3 (ipykernel)",
   "language": "python",
   "name": "python3"
  },
  "language_info": {
   "codemirror_mode": {
    "name": "ipython",
    "version": 3
   },
   "file_extension": ".py",
   "mimetype": "text/x-python",
   "name": "python",
   "nbconvert_exporter": "python",
   "pygments_lexer": "ipython3",
   "version": "3.11.12"
  }
 },
 "nbformat": 4,
 "nbformat_minor": 4
}
