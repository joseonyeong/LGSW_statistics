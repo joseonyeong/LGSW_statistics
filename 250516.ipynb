{
 "cells": [
  {
   "cell_type": "code",
   "execution_count": 2,
   "id": "55074dfa-0e44-4fc4-9327-c8b50a5ae2f9",
   "metadata": {},
   "outputs": [
    {
     "data": {
      "text/plain": [
       "'2.2.3'"
      ]
     },
     "execution_count": 2,
     "metadata": {},
     "output_type": "execute_result"
    }
   ],
   "source": [
    "# 필요한 패키지\n",
    "import numpy as np\n",
    "import pandas as pd\n",
    "import matplotlib.pyplot as plt\n",
    "\n",
    "# 한글출력\n",
    "plt.rcParams['font.family'] = 'Malgun Gothic' #  Windows 'Malgun Gothic' \n",
    "plt.rcParams['axes.unicode_minus'] = False\n",
    "\n",
    "pd.__version__"
   ]
  },
  {
   "cell_type": "markdown",
   "id": "3e2e41a3-d261-475f-812e-95c74c984642",
   "metadata": {},
   "source": [
    "# 상관계수\n",
    "- 피어슨 상관계수 ( 두 연속형 변수)\n",
    "- 계수 ($$표시 latex(수식) 문법 적용)\n",
    "  + $r$ = +/-1 : 완벽한 상관관계를 가짐\n",
    "  + $r$ = 0 : 두 변수 간에는 선형적 관계가 없음\n",
    "- 가설설정\n",
    "  + 귀무가설 : 상관계수가 0이다. ( 두 변수 간 상관관계가 없음 )\n",
    "  + 대립가설 : 상관계수는 0이 아니다. ( 두 변수 간 상관관계가 있음 )"
   ]
  },
  {
   "cell_type": "code",
   "execution_count": 4,
   "id": "c0472380-1204-4fab-bbb1-6c7d27fad036",
   "metadata": {},
   "outputs": [
    {
     "name": "stdout",
     "output_type": "stream",
     "text": [
      "0.9761870601839526 0.004395375691816597\n"
     ]
    }
   ],
   "source": [
    "import numpy as np\n",
    "import scipy.stats as stats # 수치해석, 통계 관련 라이브러리\n",
    "\n",
    "# 샘플 데이터\n",
    "x = np.array([10,20,30,40,50])\n",
    "y = np.array([5,15,30,35,40])\n",
    "\n",
    "coeff, p_value = stats.pearsonr(x,y)\n",
    "# coeff:상관계수, p_value\n",
    "print(coeff, p_value)"
   ]
  },
  {
   "cell_type": "markdown",
   "id": "987d3f10-8c2a-4ea3-a666-63cb9f28d20e",
   "metadata": {},
   "source": [
    "# 회귀분석"
   ]
  },
  {
   "cell_type": "markdown",
   "id": "cac6e641-9595-4479-8d77-f04814661d61",
   "metadata": {},
   "source": [
    "- 머신러닝/딥러닝 ==> 내부 알고리즘, 수식과 통계이론으로 점철된 분야\n",
    "- 머신러닝 학습하기 전에는 반드시 모든 데이터가 숫자로 구성이 되어 있어야 함"
   ]
  },
  {
   "cell_type": "code",
   "execution_count": 12,
   "id": "1ef28e04-16b4-4f4c-be93-4214e9b54522",
   "metadata": {},
   "outputs": [
    {
     "data": {
      "text/html": [
       "<div>\n",
       "<style scoped>\n",
       "    .dataframe tbody tr th:only-of-type {\n",
       "        vertical-align: middle;\n",
       "    }\n",
       "\n",
       "    .dataframe tbody tr th {\n",
       "        vertical-align: top;\n",
       "    }\n",
       "\n",
       "    .dataframe thead th {\n",
       "        text-align: right;\n",
       "    }\n",
       "</style>\n",
       "<table border=\"1\" class=\"dataframe\">\n",
       "  <thead>\n",
       "    <tr style=\"text-align: right;\">\n",
       "      <th></th>\n",
       "      <th>Sepal_Length</th>\n",
       "      <th>Sepal_Width</th>\n",
       "      <th>Petal_Length</th>\n",
       "      <th>Petal_Width</th>\n",
       "      <th>species</th>\n",
       "    </tr>\n",
       "  </thead>\n",
       "  <tbody>\n",
       "    <tr>\n",
       "      <th>0</th>\n",
       "      <td>5.1</td>\n",
       "      <td>3.5</td>\n",
       "      <td>1.4</td>\n",
       "      <td>0.2</td>\n",
       "      <td>setosa</td>\n",
       "    </tr>\n",
       "    <tr>\n",
       "      <th>1</th>\n",
       "      <td>4.9</td>\n",
       "      <td>3.0</td>\n",
       "      <td>1.4</td>\n",
       "      <td>0.2</td>\n",
       "      <td>setosa</td>\n",
       "    </tr>\n",
       "    <tr>\n",
       "      <th>2</th>\n",
       "      <td>4.7</td>\n",
       "      <td>3.2</td>\n",
       "      <td>1.3</td>\n",
       "      <td>0.2</td>\n",
       "      <td>setosa</td>\n",
       "    </tr>\n",
       "    <tr>\n",
       "      <th>3</th>\n",
       "      <td>4.6</td>\n",
       "      <td>3.1</td>\n",
       "      <td>1.5</td>\n",
       "      <td>0.2</td>\n",
       "      <td>setosa</td>\n",
       "    </tr>\n",
       "    <tr>\n",
       "      <th>4</th>\n",
       "      <td>5.0</td>\n",
       "      <td>3.6</td>\n",
       "      <td>1.4</td>\n",
       "      <td>0.2</td>\n",
       "      <td>setosa</td>\n",
       "    </tr>\n",
       "    <tr>\n",
       "      <th>...</th>\n",
       "      <td>...</td>\n",
       "      <td>...</td>\n",
       "      <td>...</td>\n",
       "      <td>...</td>\n",
       "      <td>...</td>\n",
       "    </tr>\n",
       "    <tr>\n",
       "      <th>145</th>\n",
       "      <td>6.7</td>\n",
       "      <td>3.0</td>\n",
       "      <td>5.2</td>\n",
       "      <td>2.3</td>\n",
       "      <td>virginica</td>\n",
       "    </tr>\n",
       "    <tr>\n",
       "      <th>146</th>\n",
       "      <td>6.3</td>\n",
       "      <td>2.5</td>\n",
       "      <td>5.0</td>\n",
       "      <td>1.9</td>\n",
       "      <td>virginica</td>\n",
       "    </tr>\n",
       "    <tr>\n",
       "      <th>147</th>\n",
       "      <td>6.5</td>\n",
       "      <td>3.0</td>\n",
       "      <td>5.2</td>\n",
       "      <td>2.0</td>\n",
       "      <td>virginica</td>\n",
       "    </tr>\n",
       "    <tr>\n",
       "      <th>148</th>\n",
       "      <td>6.2</td>\n",
       "      <td>3.4</td>\n",
       "      <td>5.4</td>\n",
       "      <td>2.3</td>\n",
       "      <td>virginica</td>\n",
       "    </tr>\n",
       "    <tr>\n",
       "      <th>149</th>\n",
       "      <td>5.9</td>\n",
       "      <td>3.0</td>\n",
       "      <td>5.1</td>\n",
       "      <td>1.8</td>\n",
       "      <td>virginica</td>\n",
       "    </tr>\n",
       "  </tbody>\n",
       "</table>\n",
       "<p>150 rows × 5 columns</p>\n",
       "</div>"
      ],
      "text/plain": [
       "     Sepal_Length  Sepal_Width  Petal_Length  Petal_Width    species\n",
       "0             5.1          3.5           1.4          0.2     setosa\n",
       "1             4.9          3.0           1.4          0.2     setosa\n",
       "2             4.7          3.2           1.3          0.2     setosa\n",
       "3             4.6          3.1           1.5          0.2     setosa\n",
       "4             5.0          3.6           1.4          0.2     setosa\n",
       "..            ...          ...           ...          ...        ...\n",
       "145           6.7          3.0           5.2          2.3  virginica\n",
       "146           6.3          2.5           5.0          1.9  virginica\n",
       "147           6.5          3.0           5.2          2.0  virginica\n",
       "148           6.2          3.4           5.4          2.3  virginica\n",
       "149           5.9          3.0           5.1          1.8  virginica\n",
       "\n",
       "[150 rows x 5 columns]"
      ]
     },
     "execution_count": 12,
     "metadata": {},
     "output_type": "execute_result"
    }
   ],
   "source": [
    "import numpy as np\n",
    "from sklearn.datasets import load_iris\n",
    "# https://scikit-learn.org/stable/\n",
    "import pandas as pd\n",
    "\n",
    "df_iris = load_iris()\n",
    "\n",
    "# pandas dataframe으로 변환\n",
    "iris = pd.DataFrame(data = df_iris.data, columns = df_iris.feature_names)\n",
    "# target 설정\n",
    "iris.columns = ['Sepal_Length','Sepal_Width','Petal_Length','Petal_Width']\n",
    "\n",
    "# target class명 추가\n",
    "iris['species'] = df_iris.target\n",
    "\n",
    "# species 라벨을 실제 이름으로 변경\n",
    "# https://pandas.pydata.org/docs/reference/api/pandas.Series.map.html\n",
    "iris[\"species\"] = iris[\"species\"].map({0: \"setosa\", 1: \"versicolor\", 2: \"virginica\"})\n",
    "iris"
   ]
  },
  {
   "cell_type": "markdown",
   "id": "a5ef2996-88dc-4635-903f-26b492046eb7",
   "metadata": {},
   "source": [
    "## 통계적 관점에서의 회귀모델\n",
    "- statsmodels 라이브러리 활용\n",
    "- 링크 : 추가"
   ]
  },
  {
   "cell_type": "markdown",
   "id": "99ac4036-4a91-40c8-a4e3-d598f4a13bb6",
   "metadata": {},
   "source": [
    "- 회귀모형\n",
    "  + 모형이 유의한가 -> 기울기 관점에서 이해,\n",
    "     - 1차 함수, y = b0 + b1*x1 + b2*x2 + e (x = 필드, e = 오차)\n",
    "  + 모형을 사용할 수 있는가\n",
    "  + 가설설정\n",
    "    - 귀무가설 : 기울기가 0인가?\n",
    "    - 대립가설 : 기울기가 0이 아니다.\n",
    "- 회귀식 자체에 대해서 살표보는 통계량 -> F통계량 (실전에서 F통계량은 중요하지 않음)\n",
    "- 개별적인 필드(컬럼)에 관한 기울기 통계량 -> t통계량 (특정 필드 선정을 해야하기에 중요)"
   ]
  },
  {
   "cell_type": "code",
   "execution_count": 14,
   "id": "128f4eca-2cec-4854-8340-43d82bb3b39c",
   "metadata": {},
   "outputs": [
    {
     "name": "stdout",
     "output_type": "stream",
     "text": [
      "                            OLS Regression Results                            \n",
      "==============================================================================\n",
      "Dep. Variable:           Petal_Length   R-squared:                       0.949\n",
      "Model:                            OLS   Adj. R-squared:                  0.948\n",
      "Method:                 Least Squares   F-statistic:                     1354.\n",
      "Date:                Fri, 16 May 2025   Prob (F-statistic):           2.01e-95\n",
      "Time:                        09:49:08   Log-Likelihood:                -75.090\n",
      "No. Observations:                 150   AIC:                             156.2\n",
      "Df Residuals:                     147   BIC:                             165.2\n",
      "Df Model:                           2                                         \n",
      "Covariance Type:            nonrobust                                         \n",
      "================================================================================\n",
      "                   coef    std err          t      P>|t|      [0.025      0.975]\n",
      "--------------------------------------------------------------------------------\n",
      "Intercept       -1.5071      0.337     -4.473      0.000      -2.173      -0.841\n",
      "Petal_Width      1.7481      0.075     23.205      0.000       1.599       1.897\n",
      "Sepal_Length     0.5423      0.069      7.820      0.000       0.405       0.679\n",
      "==============================================================================\n",
      "Omnibus:                        1.243   Durbin-Watson:                   1.339\n",
      "Prob(Omnibus):                  0.537   Jarque-Bera (JB):                0.840\n",
      "Skew:                          -0.058   Prob(JB):                        0.657\n",
      "Kurtosis:                       3.348   Cond. No.                         64.7\n",
      "==============================================================================\n",
      "\n",
      "Notes:\n",
      "[1] Standard Errors assume that the covariance matrix of the errors is correctly specified.\n"
     ]
    }
   ],
   "source": [
    "import statsmodels.api as sm\n",
    "import statsmodels.formula.api as smf\n",
    "\n",
    "# 방법 1\n",
    "# 실제 프젝 시 어려운 것은 y값 정하기 -> y값은 프젝 주제와 관련있는 변수\n",
    "model = smf.ols('Petal_Length ~ Petal_Width + Sepal_Length', data = iris).fit()\n",
    "print(model.summary())\n",
    "# 분석가는 해당 결과를 모두 이해해야함.\n",
    "\n",
    "\n",
    "# aic : 정보료? 낮은 게 채택"
   ]
  },
  {
   "cell_type": "code",
   "execution_count": 18,
   "id": "86c5e167-e71a-43ef-837f-8071c3890967",
   "metadata": {},
   "outputs": [
    {
     "name": "stdout",
     "output_type": "stream",
     "text": [
      "                 Generalized Linear Model Regression Results                  \n",
      "==============================================================================\n",
      "Dep. Variable:           Petal_Length   No. Observations:                  150\n",
      "Model:                            GLM   Df Residuals:                      147\n",
      "Model Family:                Gaussian   Df Model:                            2\n",
      "Link Function:               Identity   Scale:                         0.16260\n",
      "Method:                          IRLS   Log-Likelihood:                -75.090\n",
      "Date:                Fri, 16 May 2025   Deviance:                       23.902\n",
      "Time:                        10:06:43   Pearson chi2:                     23.9\n",
      "No. Iterations:                     3   Pseudo R-squ. (CS):              1.000\n",
      "Covariance Type:            nonrobust                                         \n",
      "================================================================================\n",
      "                   coef    std err          z      P>|z|      [0.025      0.975]\n",
      "--------------------------------------------------------------------------------\n",
      "Intercept       -1.5071      0.337     -4.473      0.000      -2.168      -0.847\n",
      "Petal_Width      1.7481      0.075     23.205      0.000       1.600       1.896\n",
      "Sepal_Length     0.5423      0.069      7.820      0.000       0.406       0.678\n",
      "================================================================================\n"
     ]
    }
   ],
   "source": [
    "# 가우시안 ==> 다중회귀모델\n",
    "model2 = smf.glm(\"Petal_Length ~ Petal_Width + Sepal_Length\", family = sm.families.Gaussian(), data = iris).fit()\n",
    "print(model2.summary())"
   ]
  },
  {
   "cell_type": "code",
   "execution_count": 17,
   "id": "4327ae20-5ccf-4583-ac0c-c1d873452e10",
   "metadata": {},
   "outputs": [
    {
     "name": "stdout",
     "output_type": "stream",
     "text": [
      "                            OLS Regression Results                            \n",
      "==============================================================================\n",
      "Dep. Variable:           Petal_Length   R-squared:                       0.978\n",
      "Model:                            OLS   Adj. R-squared:                  0.977\n",
      "Method:                 Least Squares   F-statistic:                     1600.\n",
      "Date:                Fri, 16 May 2025   Prob (F-statistic):          8.06e-119\n",
      "Time:                        10:06:37   Log-Likelihood:                -11.867\n",
      "No. Observations:                 150   AIC:                             33.73\n",
      "Df Residuals:                     145   BIC:                             48.79\n",
      "Df Model:                           4                                         \n",
      "Covariance Type:            nonrobust                                         \n",
      "============================================================================================\n",
      "                               coef    std err          t      P>|t|      [0.025      0.975]\n",
      "--------------------------------------------------------------------------------------------\n",
      "Intercept                   -1.4596      0.224     -6.520      0.000      -1.902      -1.017\n",
      "C(species)[T.versicolor]     1.7315      0.128     13.567      0.000       1.479       1.984\n",
      "C(species)[T.virginica]      2.3047      0.198     11.617      0.000       1.913       2.697\n",
      "Petal_Width                  0.5064      0.115      4.393      0.000       0.279       0.734\n",
      "Sepal_Length                 0.5587      0.046     12.191      0.000       0.468       0.649\n",
      "==============================================================================\n",
      "Omnibus:                        1.189   Durbin-Watson:                   1.620\n",
      "Prob(Omnibus):                  0.552   Jarque-Bera (JB):                0.786\n",
      "Skew:                          -0.059   Prob(JB):                        0.675\n",
      "Kurtosis:                       3.335   Cond. No.                         72.1\n",
      "==============================================================================\n",
      "\n",
      "Notes:\n",
      "[1] Standard Errors assume that the covariance matrix of the errors is correctly specified.\n"
     ]
    }
   ],
   "source": [
    "# 범주형 데이터 삽입 시\n",
    "# c()로 작성해서 해당 필드가 범주형 변수라는 것을 명시해야 함. 자체적으로 인코딩 됨\n",
    "model3 = smf.ols(\"Petal_Length ~ Petal_Width + Sepal_Length + C(species)\", data = iris).fit()\n",
    "print(model3.summary())"
   ]
  },
  {
   "cell_type": "code",
   "execution_count": 20,
   "id": "86dfe8b9-3d59-4f07-a120-431ecc6976a0",
   "metadata": {},
   "outputs": [
    {
     "name": "stdout",
     "output_type": "stream",
     "text": [
      "                            OLS Regression Results                            \n",
      "==============================================================================\n",
      "Dep. Variable:           Petal_Length   R-squared:                       0.949\n",
      "Model:                            OLS   Adj. R-squared:                  0.948\n",
      "Method:                 Least Squares   F-statistic:                     1354.\n",
      "Date:                Fri, 16 May 2025   Prob (F-statistic):           2.01e-95\n",
      "Time:                        10:44:12   Log-Likelihood:                -75.090\n",
      "No. Observations:                 150   AIC:                             156.2\n",
      "Df Residuals:                     147   BIC:                             165.2\n",
      "Df Model:                           2                                         \n",
      "Covariance Type:            nonrobust                                         \n",
      "================================================================================\n",
      "                   coef    std err          t      P>|t|      [0.025      0.975]\n",
      "--------------------------------------------------------------------------------\n",
      "const           -1.5071      0.337     -4.473      0.000      -2.173      -0.841\n",
      "Petal_Width      1.7481      0.075     23.205      0.000       1.599       1.897\n",
      "Sepal_Length     0.5423      0.069      7.820      0.000       0.405       0.679\n",
      "==============================================================================\n",
      "Omnibus:                        1.243   Durbin-Watson:                   1.339\n",
      "Prob(Omnibus):                  0.537   Jarque-Bera (JB):                0.840\n",
      "Skew:                          -0.058   Prob(JB):                        0.657\n",
      "Kurtosis:                       3.348   Cond. No.                         64.7\n",
      "==============================================================================\n",
      "\n",
      "Notes:\n",
      "[1] Standard Errors assume that the covariance matrix of the errors is correctly specified.\n"
     ]
    }
   ],
   "source": [
    "## 방법 4 -> 행렬 활용\n",
    "X = iris[['Petal_Width', 'Sepal_Length']]\n",
    "y = iris['Petal_Length']\n",
    "\n",
    "X = sm.add_constant(X)\n",
    "\n",
    "model = sm.OLS(y, X).fit()\n",
    "\n",
    "print(model.summary())"
   ]
  },
  {
   "cell_type": "code",
   "execution_count": 21,
   "id": "edf7bb50-7623-4259-900d-31a94457395a",
   "metadata": {},
   "outputs": [
    {
     "name": "stdout",
     "output_type": "stream",
     "text": [
      "                            OLS Regression Results                            \n",
      "==============================================================================\n",
      "Dep. Variable:           Petal_Length   R-squared:                       0.949\n",
      "Model:                            OLS   Adj. R-squared:                  0.948\n",
      "Method:                 Least Squares   F-statistic:                     1354.\n",
      "Date:                Fri, 16 May 2025   Prob (F-statistic):           2.01e-95\n",
      "Time:                        10:44:30   Log-Likelihood:                -75.090\n",
      "No. Observations:                 150   AIC:                             156.2\n",
      "Df Residuals:                     147   BIC:                             165.2\n",
      "Df Model:                           2                                         \n",
      "Covariance Type:            nonrobust                                         \n",
      "================================================================================\n",
      "                   coef    std err          t      P>|t|      [0.025      0.975]\n",
      "--------------------------------------------------------------------------------\n",
      "Intercept       -1.5071      0.337     -4.473      0.000      -2.173      -0.841\n",
      "Petal_Width      1.7481      0.075     23.205      0.000       1.599       1.897\n",
      "Sepal_Length     0.5423      0.069      7.820      0.000       0.405       0.679\n",
      "==============================================================================\n",
      "Omnibus:                        1.243   Durbin-Watson:                   1.339\n",
      "Prob(Omnibus):                  0.537   Jarque-Bera (JB):                0.840\n",
      "Skew:                          -0.058   Prob(JB):                        0.657\n",
      "Kurtosis:                       3.348   Cond. No.                         64.7\n",
      "==============================================================================\n",
      "\n",
      "Notes:\n",
      "[1] Standard Errors assume that the covariance matrix of the errors is correctly specified.\n"
     ]
    }
   ],
   "source": [
    "model = smf.ols('Petal_Length ~ Petal_Width + Sepal_Length', data = iris).fit()\n",
    "print(model.summary())\n",
    "# coef가 기울기"
   ]
  },
  {
   "cell_type": "code",
   "execution_count": 29,
   "id": "a6043ab3-5793-4e08-aca2-3b0837a94ab5",
   "metadata": {},
   "outputs": [
    {
     "data": {
      "text/plain": [
       "'Petal_Width'"
      ]
     },
     "execution_count": 29,
     "metadata": {},
     "output_type": "execute_result"
    }
   ],
   "source": [
    "# 회귀식\n",
    "# Petal_Length_result = -1.5071 + 1.7481xPetal_Width + 0.5423xSepal_Length\n",
    "\n",
    "# 만약 필드가 10개 있는데, 그 중 p > 0.05 이상인 필드가 3개 있음. -> 기울기가 0이라는 말\n",
    "# 어떻게 해야할까\n",
    "# -> 선정 방법은 항상 aic, bic를 같이 봐야함.\n",
    "# 통계량(t)이 가장 낮은 거 부터 봐야함. 가장 낮은 것을 제거하고 9개 필드를 활용해서 모델 다시 만들기\n",
    "# 이후 기존 모델과 비교 -> (aic, bic, r-squared 를 활용해서 종합적으로 판단)\n",
    "\n",
    "# 회귀계수 추출\n",
    "model.params[1:]\n",
    "\n",
    "# 회귀계수가 가장 큰 변수 출력 (idxmax())\n",
    "model.params[1:].idxmax()"
   ]
  },
  {
   "cell_type": "code",
   "execution_count": 27,
   "id": "a09a1ba2-d931-4947-9428-042dd6a29886",
   "metadata": {},
   "outputs": [
    {
     "name": "stdout",
     "output_type": "stream",
     "text": [
      "Intercept       -4.472752\n",
      "Petal_Width     23.205443\n",
      "Sepal_Length     7.819907\n",
      "dtype: float64\n",
      "Intercept       1.535178e-05\n",
      "Petal_Width     5.257543e-51\n",
      "Sepal_Length    9.414477e-13\n",
      "dtype: float64\n"
     ]
    }
   ],
   "source": [
    "t_values = model.tvalues\n",
    "print(t_values)\n",
    "\n",
    "p_values = model.pvalues\n",
    "print(p_values)"
   ]
  },
  {
   "cell_type": "code",
   "execution_count": 26,
   "id": "be256f48-6bcd-48d6-be30-3064415fa643",
   "metadata": {},
   "outputs": [
    {
     "data": {
      "text/html": [
       "<div>\n",
       "<style scoped>\n",
       "    .dataframe tbody tr th:only-of-type {\n",
       "        vertical-align: middle;\n",
       "    }\n",
       "\n",
       "    .dataframe tbody tr th {\n",
       "        vertical-align: top;\n",
       "    }\n",
       "\n",
       "    .dataframe thead th {\n",
       "        text-align: right;\n",
       "    }\n",
       "</style>\n",
       "<table border=\"1\" class=\"dataframe\">\n",
       "  <thead>\n",
       "    <tr style=\"text-align: right;\">\n",
       "      <th></th>\n",
       "      <th>0</th>\n",
       "      <th>1</th>\n",
       "    </tr>\n",
       "  </thead>\n",
       "  <tbody>\n",
       "    <tr>\n",
       "      <th>Intercept</th>\n",
       "      <td>-2.064903</td>\n",
       "      <td>-0.949373</td>\n",
       "    </tr>\n",
       "    <tr>\n",
       "      <th>Petal_Width</th>\n",
       "      <td>1.623408</td>\n",
       "      <td>1.872798</td>\n",
       "    </tr>\n",
       "    <tr>\n",
       "      <th>Sepal_Length</th>\n",
       "      <td>0.427473</td>\n",
       "      <td>0.657038</td>\n",
       "    </tr>\n",
       "  </tbody>\n",
       "</table>\n",
       "</div>"
      ],
      "text/plain": [
       "                     0         1\n",
       "Intercept    -2.064903 -0.949373\n",
       "Petal_Width   1.623408  1.872798\n",
       "Sepal_Length  0.427473  0.657038"
      ]
     },
     "execution_count": 26,
     "metadata": {},
     "output_type": "execute_result"
    }
   ],
   "source": [
    "#  [0.025      0.975] -> 신뢰구간\n",
    "# 구간 추정으로 진행\n",
    "\n",
    "conf_intervals = model.conf_int(alpha = 0.10) # 신뢰구간 추출 -> 90%\n",
    "conf_intervals"
   ]
  },
  {
   "cell_type": "markdown",
   "id": "516e6db8-f4db-42c8-85b0-dc435a43aefd",
   "metadata": {},
   "source": [
    "### 모델 평가 지표\n",
    "- 결정계수 (SST = SSR + SSE)\n",
    "  + 회귀제곱합(SSR)만 집중적으로 공부해서 이해되면 됨\n",
    "- F통계량 "
   ]
  },
  {
   "cell_type": "code",
   "execution_count": 28,
   "id": "97cf3ba3-6cb0-4b59-8c50-5bff666970e8",
   "metadata": {},
   "outputs": [
    {
     "data": {
      "text/plain": [
       "(np.float64(0.9485236349446816), np.float64(0.947823276236446))"
      ]
     },
     "execution_count": 28,
     "metadata": {},
     "output_type": "execute_result"
    }
   ],
   "source": [
    "# 결정계수, 수정된 결정계수\n",
    "model.rsquared, model.rsquared_adj"
   ]
  },
  {
   "cell_type": "markdown",
   "id": "977cdc21-b627-4ae4-a437-4b0a22d67f97",
   "metadata": {},
   "source": [
    "### 모델 비교"
   ]
  },
  {
   "cell_type": "code",
   "execution_count": 33,
   "id": "ab22b5a5-7a3b-40cd-a545-b23682d5da72",
   "metadata": {},
   "outputs": [
    {
     "data": {
      "text/plain": [
       "(np.float64(156.17922963502622),\n",
       " np.float64(33.733547285926875),\n",
       " np.float64(165.21113551731497),\n",
       " np.float64(48.78672375640815))"
      ]
     },
     "execution_count": 33,
     "metadata": {},
     "output_type": "execute_result"
    }
   ],
   "source": [
    "model = smf.ols('Petal_Length ~ Petal_Width + Sepal_Length', data = iris).fit()\n",
    "model3 = smf.ols('Petal_Length ~ Petal_Width + Sepal_Length + C(species)', data = iris).fit()\n",
    "\n",
    "# 두 모델을 비교할 때 어느것이 좋은 모델?\n",
    "model.aic, model3.aic, model.bic, model3.bic"
   ]
  },
  {
   "cell_type": "markdown",
   "id": "6d2614eb-96ea-4030-8a00-309d195f7e39",
   "metadata": {},
   "source": [
    "### 범주형 데이터가 있을 때 해석 방법\n",
    "- 계수 해석 방법\n",
    "- 모든 값들이 출력이 안됨. setosa가 제외 됨\n",
    "- https://dschloe.github.io/python/2024/01/statsmodels_category_variable_regression/\n",
    "    + (통계분석에서) get_dum뭐시기는 추천 안 함\n",
    " <!-- P>|t| (p-value)값이 크면 기존과 크게 다른 점이 없다? -->\n",
    " "
   ]
  },
  {
   "cell_type": "code",
   "execution_count": 34,
   "id": "14769e62-9a98-420a-bc62-0936664a33d1",
   "metadata": {},
   "outputs": [
    {
     "name": "stdout",
     "output_type": "stream",
     "text": [
      "                            OLS Regression Results                            \n",
      "==============================================================================\n",
      "Dep. Variable:           Petal_Length   R-squared:                       0.978\n",
      "Model:                            OLS   Adj. R-squared:                  0.977\n",
      "Method:                 Least Squares   F-statistic:                     1600.\n",
      "Date:                Fri, 16 May 2025   Prob (F-statistic):          8.06e-119\n",
      "Time:                        11:28:35   Log-Likelihood:                -11.867\n",
      "No. Observations:                 150   AIC:                             33.73\n",
      "Df Residuals:                     145   BIC:                             48.79\n",
      "Df Model:                           4                                         \n",
      "Covariance Type:            nonrobust                                         \n",
      "============================================================================================\n",
      "                               coef    std err          t      P>|t|      [0.025      0.975]\n",
      "--------------------------------------------------------------------------------------------\n",
      "Intercept                   -1.4596      0.224     -6.520      0.000      -1.902      -1.017\n",
      "C(species)[T.versicolor]     1.7315      0.128     13.567      0.000       1.479       1.984\n",
      "C(species)[T.virginica]      2.3047      0.198     11.617      0.000       1.913       2.697\n",
      "Petal_Width                  0.5064      0.115      4.393      0.000       0.279       0.734\n",
      "Sepal_Length                 0.5587      0.046     12.191      0.000       0.468       0.649\n",
      "==============================================================================\n",
      "Omnibus:                        1.189   Durbin-Watson:                   1.620\n",
      "Prob(Omnibus):                  0.552   Jarque-Bera (JB):                0.786\n",
      "Skew:                          -0.059   Prob(JB):                        0.675\n",
      "Kurtosis:                       3.335   Cond. No.                         72.1\n",
      "==============================================================================\n",
      "\n",
      "Notes:\n",
      "[1] Standard Errors assume that the covariance matrix of the errors is correctly specified.\n"
     ]
    }
   ],
   "source": [
    "print(model3.summary())"
   ]
  },
  {
   "cell_type": "markdown",
   "id": "6fb37f5d-53ea-4cd9-8598-4c92bf11f121",
   "metadata": {},
   "source": [
    "### 위 모형을 사용할 수 있는가?\n",
    "(통계 모델 만들기) -> 예측 시 해당 과정 불필요\n",
    "- 독립성 가정 체크 (더빈-왓슨 통계량)\n",
    "  + d = 2 : 잔차 간의 자기상관이 존재하지 않는다.\n",
    "  + d < 2 or d > 2 : 잔차 간의 자기 상관이 존재\n",
    "- 잔차의 정규성 체크\n",
    "  - 샤피로 윌크스 검정, 앤더슨-달링 테스트 (자주 사용 x)\n",
    "- 잔차의 등분산성 체크\n",
    "  + Breusch-Pagan 검정\n",
    "- 다중공선성 체크 (VIF)\n",
    "  + 수치데이터 100개 존재, 상관관계 매트릭스, 0.95. 0.90\n",
    "  + 매출 예측 모델\n",
    "    + VIF가 10 이상이면 다른 독립변수들간의 선형적인 관계가 높음 => 해당 필드 제거 후 모델 다시 만들기\n",
    "    + 독립변수 : 광고비, 클릭률, 전환율, 광고노출용\n",
    "    + 종속변수 : 매출"
   ]
  }
 ],
 "metadata": {
  "kernelspec": {
   "display_name": "Python 3 (ipykernel)",
   "language": "python",
   "name": "python3"
  },
  "language_info": {
   "codemirror_mode": {
    "name": "ipython",
    "version": 3
   },
   "file_extension": ".py",
   "mimetype": "text/x-python",
   "name": "python",
   "nbconvert_exporter": "python",
   "pygments_lexer": "ipython3",
   "version": "3.11.12"
  }
 },
 "nbformat": 4,
 "nbformat_minor": 5
}
