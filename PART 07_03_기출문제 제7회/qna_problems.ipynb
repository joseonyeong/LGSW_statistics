{
 "cells": [
  {
   "cell_type": "markdown",
   "metadata": {
    "id": "JjgvYBAv48CY"
   },
   "source": [
    ">**기출문제 제7회**\n",
    ">>**03 작업형 제3유형**"
   ]
  },
  {
   "cell_type": "code",
   "execution_count": 8,
   "metadata": {},
   "outputs": [],
   "source": [
    "from statsmodels.tsa.statespace.sarimax import SARIMAX\n",
    "from statsmodels.tsa.arima_process import ArmaProcess\n",
    "from statsmodels.graphics.tsaplots import plot_acf\n",
    "from statsmodels.tsa.stattools import adfuller\n",
    "import matplotlib.pyplot as plt\n",
    "import numpy as np\n",
    "import pandas as pd\n",
    "\n",
    "import warnings\n",
    "warnings.filterwarnings('ignore')\n",
    "\n",
    "%matplotlib inline"
   ]
  },
  {
   "cell_type": "markdown",
   "metadata": {},
   "source": [
    "# 문제 1. \n",
    "- 어느 학교에서 50명의 학생들을 대상으로 새로운 학습 프로그램의 효과를 조사하고자 한다.\n",
    "- 각 학생에 대해 학습 전과 학습 후의 시험 점수를 측정하였다. "
   ]
  },
  {
   "cell_type": "markdown",
   "metadata": {},
   "source": [
    "대본표본?은 평균을 가지고 결과 -> 데이터가 있을 떄 사용"
   ]
  },
  {
   "cell_type": "code",
   "execution_count": 1,
   "metadata": {
    "executionInfo": {
     "elapsed": 169,
     "status": "ok",
     "timestamp": 1741909394217,
     "user": {
      "displayName": "제쥬감귤",
      "userId": "17148962602000500758"
     },
     "user_tz": -540
    },
    "id": "5i9v5FJj4-0v"
   },
   "outputs": [
    {
     "data": {
      "text/html": [
       "<div>\n",
       "<style scoped>\n",
       "    .dataframe tbody tr th:only-of-type {\n",
       "        vertical-align: middle;\n",
       "    }\n",
       "\n",
       "    .dataframe tbody tr th {\n",
       "        vertical-align: top;\n",
       "    }\n",
       "\n",
       "    .dataframe thead th {\n",
       "        text-align: right;\n",
       "    }\n",
       "</style>\n",
       "<table border=\"1\" class=\"dataframe\">\n",
       "  <thead>\n",
       "    <tr style=\"text-align: right;\">\n",
       "      <th></th>\n",
       "      <th>before</th>\n",
       "      <th>after</th>\n",
       "    </tr>\n",
       "  </thead>\n",
       "  <tbody>\n",
       "    <tr>\n",
       "      <th>0</th>\n",
       "      <td>87.640523</td>\n",
       "      <td>88.163191</td>\n",
       "    </tr>\n",
       "    <tr>\n",
       "      <th>1</th>\n",
       "      <td>74.001572</td>\n",
       "      <td>80.936085</td>\n",
       "    </tr>\n",
       "    <tr>\n",
       "      <th>2</th>\n",
       "      <td>79.787380</td>\n",
       "      <td>82.233354</td>\n",
       "    </tr>\n",
       "    <tr>\n",
       "      <th>3</th>\n",
       "      <td>92.408932</td>\n",
       "      <td>91.505771</td>\n",
       "    </tr>\n",
       "    <tr>\n",
       "      <th>4</th>\n",
       "      <td>88.675580</td>\n",
       "      <td>93.534669</td>\n",
       "    </tr>\n",
       "  </tbody>\n",
       "</table>\n",
       "</div>"
      ],
      "text/plain": [
       "      before      after\n",
       "0  87.640523  88.163191\n",
       "1  74.001572  80.936085\n",
       "2  79.787380  82.233354\n",
       "3  92.408932  91.505771\n",
       "4  88.675580  93.534669"
      ]
     },
     "execution_count": 1,
     "metadata": {},
     "output_type": "execute_result"
    }
   ],
   "source": [
    "import pandas as pd\n",
    "data = pd.read_csv('7_3_1.csv')\n",
    "data.head()"
   ]
  },
  {
   "cell_type": "code",
   "execution_count": 2,
   "metadata": {},
   "outputs": [
    {
     "data": {
      "text/plain": [
       "(50, 2)"
      ]
     },
     "execution_count": 2,
     "metadata": {},
     "output_type": "execute_result"
    }
   ],
   "source": [
    "data.shape"
   ]
  },
  {
   "cell_type": "markdown",
   "metadata": {},
   "source": [
    "- 학습 전과 후의 시험 점수의 평균과 표준편차를 구하시오. (소수점 둘째 자리까지 반올림)"
   ]
  },
  {
   "cell_type": "code",
   "execution_count": 7,
   "metadata": {},
   "outputs": [
    {
     "name": "stdout",
     "output_type": "stream",
     "text": [
      "71.41 11.37\n",
      "76.3 11.94\n"
     ]
    }
   ],
   "source": [
    "# 코드\n",
    "print(data['before'].mean().round(2), data['before'].std().round(2))\n",
    "print(data['after'].mean().round(2), data['after'].std().round(2))"
   ]
  },
  {
   "cell_type": "code",
   "execution_count": 8,
   "metadata": {
    "colab": {
     "base_uri": "https://localhost:8080/"
    },
    "executionInfo": {
     "elapsed": 50,
     "status": "ok",
     "timestamp": 1741909411218,
     "user": {
      "displayName": "제쥬감귤",
      "userId": "17148962602000500758"
     },
     "user_tz": -540
    },
    "id": "7-HGvd_M5BQf",
    "outputId": "7090d114-f0d3-4bec-c91c-d0a8f653af95"
   },
   "outputs": [
    {
     "name": "stdout",
     "output_type": "stream",
     "text": [
      "학습 전 점수 평균: 71.41\n",
      "학습 전 점수 표준편차: 11.37\n",
      "학습 후 점수 평균: 76.3\n",
      "학습 후 점수 표준편차: 11.94\n"
     ]
    }
   ],
   "source": []
  },
  {
   "cell_type": "markdown",
   "metadata": {},
   "source": [
    "- 학습 전후의 점수 차이가 유의미한 지 검정하기 위해 대응표본 t-검정을 수행하고, 검정통계량을 계산하시오. (소수점 둘째 자리까지 반올림)"
   ]
  },
  {
   "cell_type": "code",
   "execution_count": 12,
   "metadata": {},
   "outputs": [
    {
     "data": {
      "text/plain": [
       "np.float64(-7.9)"
      ]
     },
     "execution_count": 12,
     "metadata": {},
     "output_type": "execute_result"
    }
   ],
   "source": [
    "from scipy.stats import ttest_rel\n",
    "\n",
    "t_stat, p_value = ttest_rel(data['before'], data['after'])\n",
    "t_stat.round(2)"
   ]
  },
  {
   "cell_type": "code",
   "execution_count": 9,
   "metadata": {
    "colab": {
     "base_uri": "https://localhost:8080/"
    },
    "executionInfo": {
     "elapsed": 11,
     "status": "ok",
     "timestamp": 1741909417768,
     "user": {
      "displayName": "제쥬감귤",
      "userId": "17148962602000500758"
     },
     "user_tz": -540
    },
    "id": "ZKfDp85D5Fc_",
    "outputId": "af70c83f-d57a-4b13-a73c-afba675cf18d"
   },
   "outputs": [
    {
     "name": "stdout",
     "output_type": "stream",
     "text": [
      "t-통계량: -7.9\n"
     ]
    }
   ],
   "source": []
  },
  {
   "cell_type": "markdown",
   "metadata": {},
   "source": [
    "- p-value를 바탕으로 `유의수준 5%`에서 귀무가설의 기각/채택 여부를 결정하시오. "
   ]
  },
  {
   "cell_type": "code",
   "execution_count": 15,
   "metadata": {
    "colab": {
     "base_uri": "https://localhost:8080/"
    },
    "executionInfo": {
     "elapsed": 16,
     "status": "ok",
     "timestamp": 1741909431303,
     "user": {
      "displayName": "제쥬감귤",
      "userId": "17148962602000500758"
     },
     "user_tz": -540
    },
    "id": "bygruwxx5HLn",
    "outputId": "ab383d75-b7ff-48b6-ab43-0e795e14a2b6"
   },
   "outputs": [
    {
     "name": "stdout",
     "output_type": "stream",
     "text": [
      "귀무가설 기각 => 대립가설 채택\n"
     ]
    }
   ],
   "source": [
    "if p_value > 0.05:\n",
    "    print('귀무가설 채택')\n",
    "else:\n",
    "    print('귀무가설 기각 => 대립가설 채택')"
   ]
  },
  {
   "cell_type": "markdown",
   "metadata": {},
   "source": [
    "# 문제 2. \n",
    "- 각 샘플에는 고객의 나이, 소득, 가족 수, 그리고 제품 구매 여부가 포함되어 있다.\n",
    "- 로지스틱 회귀 분석을 통해 고객의 제품 구매 여부를 예측하고자 한다. (임곗값 0.5 기준)\n",
    "- 로지스틱 회귀 분석을 수행하고, 소득 변수의 오즈비를 계산하시오. "
   ]
  },
  {
   "cell_type": "code",
   "execution_count": 14,
   "metadata": {
    "executionInfo": {
     "elapsed": 357,
     "status": "ok",
     "timestamp": 1741909439548,
     "user": {
      "displayName": "제쥬감귤",
      "userId": "17148962602000500758"
     },
     "user_tz": -540
    },
    "id": "kkeOuiH85K0R"
   },
   "outputs": [],
   "source": [
    "import pandas as pd\n",
    "train_data = pd.read_csv('7_3_2_train.csv')\n",
    "test_data = pd.read_csv('7_3_2_test.csv')"
   ]
  },
  {
   "cell_type": "code",
   "execution_count": 17,
   "metadata": {},
   "outputs": [
    {
     "data": {
      "text/plain": [
       "((80, 3), (80,))"
      ]
     },
     "execution_count": 17,
     "metadata": {},
     "output_type": "execute_result"
    }
   ],
   "source": [
    "import statsmodels.api as sm\n",
    "\n",
    "# 독립변수 종속변수 (train 데이터 설정)\n",
    "x_train = train_data[['age', 'income','family_members']]\n",
    "y_train = train_data['purchase']\n",
    "x_train.shape, y_train.shape"
   ]
  },
  {
   "cell_type": "code",
   "execution_count": 25,
   "metadata": {
    "colab": {
     "base_uri": "https://localhost:8080/"
    },
    "executionInfo": {
     "elapsed": 2651,
     "status": "ok",
     "timestamp": 1741909454490,
     "user": {
      "displayName": "제쥬감귤",
      "userId": "17148962602000500758"
     },
     "user_tz": -540
    },
    "id": "CKeLj0ZL5MQw",
    "outputId": "0953d7bb-3f2c-43b7-be94-5f2013e3de6c"
   },
   "outputs": [
    {
     "name": "stdout",
     "output_type": "stream",
     "text": [
      "Optimization terminated successfully.\n",
      "         Current function value: 0.676174\n",
      "         Iterations 4\n",
      "                           Logit Regression Results                           \n",
      "==============================================================================\n",
      "Dep. Variable:               purchase   No. Observations:                   80\n",
      "Model:                          Logit   Df Residuals:                       76\n",
      "Method:                           MLE   Df Model:                            3\n",
      "Date:                Wed, 21 May 2025   Pseudo R-squ.:                 0.02405\n",
      "Time:                        09:40:57   Log-Likelihood:                -54.094\n",
      "converged:                       True   LL-Null:                       -55.427\n",
      "Covariance Type:            nonrobust   LLR p-value:                    0.4461\n",
      "==================================================================================\n",
      "                     coef    std err          z      P>|z|      [0.025      0.975]\n",
      "----------------------------------------------------------------------------------\n",
      "const             -0.9261      1.127     -0.821      0.411      -3.136       1.284\n",
      "age               -0.0066      0.014     -0.459      0.646      -0.035       0.022\n",
      "income          1.521e-05   1.65e-05      0.919      0.358   -1.72e-05    4.76e-05\n",
      "family_members     0.2042      0.202      1.008      0.313      -0.193       0.601\n",
      "==================================================================================\n"
     ]
    }
   ],
   "source": [
    "import statsmodels.api as sm\n",
    "\n",
    "# 독립변수 종속변수 (train 데이터 설정)\n",
    "x_train = train_data[['age', 'income','family_members']]\n",
    "y_train = train_data['purchase']\n",
    "\n",
    "## 상상 추가 방식\n",
    "x_train = sm.add_constant(x_train) # 상수항 추가\n",
    "logit_model = sm.Logit(y_train, x_train).fit() # 로지스틱 회귀분석 모델 적합\n",
    "print(logit_model.summary())"
   ]
  },
  {
   "cell_type": "code",
   "execution_count": 26,
   "metadata": {
    "colab": {
     "base_uri": "https://localhost:8080/"
    },
    "executionInfo": {
     "elapsed": 12,
     "status": "ok",
     "timestamp": 1741909460915,
     "user": {
      "displayName": "제쥬감귤",
      "userId": "17148962602000500758"
     },
     "user_tz": -540
    },
    "id": "-MnOGRMp5QBf",
    "outputId": "c21a6d14-1027-45a8-c426-664bba917c3c"
   },
   "outputs": [
    {
     "data": {
      "text/plain": [
       "const             0.396114\n",
       "age               0.993421\n",
       "income            1.000015\n",
       "family_members    1.226499\n",
       "dtype: float64"
      ]
     },
     "execution_count": 26,
     "metadata": {},
     "output_type": "execute_result"
    }
   ],
   "source": [
    "import numpy as np\n",
    "\n",
    "odds_ratios = np.exp(logit_model.params)\n",
    "odds_ratios\n",
    "\n",
    "## odss비는 1에 수렴할 수록 변화가 없다. (좋은 값이 아님)"
   ]
  },
  {
   "cell_type": "markdown",
   "metadata": {},
   "source": [
    "- train 데이터 기준의 잔차 이탈도(Residual Deviance)를 계산하시오. "
   ]
  },
  {
   "cell_type": "code",
   "execution_count": 27,
   "metadata": {
    "colab": {
     "base_uri": "https://localhost:8080/"
    },
    "executionInfo": {
     "elapsed": 16,
     "status": "ok",
     "timestamp": 1741909465917,
     "user": {
      "displayName": "제쥬감귤",
      "userId": "17148962602000500758"
     },
     "user_tz": -540
    },
    "id": "tjRlaq2U5RXe",
    "outputId": "14708aca-8367-4263-cd1b-3182de6efd31"
   },
   "outputs": [
    {
     "data": {
      "text/plain": [
       "np.float64(108.18783555703051)"
      ]
     },
     "execution_count": 27,
     "metadata": {},
     "output_type": "execute_result"
    }
   ],
   "source": [
    "# 잔차 이탈도 수식\n",
    "## 잔차 이탈도는 * -2 임.\n",
    "-2 * logit_model.llf"
   ]
  }
 ],
 "metadata": {
  "colab": {
   "authorship_tag": "ABX9TyOd5FRhyno/X9Xdypl85Ff+",
   "provenance": []
  },
  "kernelspec": {
   "display_name": "Python 3 (ipykernel)",
   "language": "python",
   "name": "python3"
  },
  "language_info": {
   "codemirror_mode": {
    "name": "ipython",
    "version": 3
   },
   "file_extension": ".py",
   "mimetype": "text/x-python",
   "name": "python",
   "nbconvert_exporter": "python",
   "pygments_lexer": "ipython3",
   "version": "3.11.12"
  }
 },
 "nbformat": 4,
 "nbformat_minor": 4
}
