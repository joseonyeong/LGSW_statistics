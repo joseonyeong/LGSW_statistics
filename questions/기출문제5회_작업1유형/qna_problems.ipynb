{
 "cells": [
  {
   "cell_type": "markdown",
   "metadata": {},
   "source": [
    ">**기출문제 제5회**\n",
    ">>**01 작업형 제1유형**"
   ]
  },
  {
   "cell_type": "markdown",
   "metadata": {},
   "source": [
    "## 옵션 설정"
   ]
  },
  {
   "cell_type": "code",
   "execution_count": 2,
   "metadata": {},
   "outputs": [],
   "source": [
    "import pandas as pd\n",
    "import numpy as np\n",
    "pd.set_option('display.max_columns', None) # 모든 칼럼이 출력되게 조절"
   ]
  },
  {
   "cell_type": "markdown",
   "metadata": {},
   "source": [
    "## 문제 1. \n",
    "- 다음 데이터에서 conventional 컬럼의 특수문자를 제거하고, IQR(3분위수-1분위수)를 구하시오. \n",
    "- 소수점 첫째 자리에서 반올림"
   ]
  },
  {
   "cell_type": "code",
   "execution_count": 5,
   "metadata": {},
   "outputs": [],
   "source": [
    "data1 = pd.read_csv('5_1_1.csv')"
   ]
  },
  {
   "cell_type": "code",
   "execution_count": 7,
   "metadata": {},
   "outputs": [
    {
     "data": {
      "text/html": [
       "<div>\n",
       "<style scoped>\n",
       "    .dataframe tbody tr th:only-of-type {\n",
       "        vertical-align: middle;\n",
       "    }\n",
       "\n",
       "    .dataframe tbody tr th {\n",
       "        vertical-align: top;\n",
       "    }\n",
       "\n",
       "    .dataframe thead th {\n",
       "        text-align: right;\n",
       "    }\n",
       "</style>\n",
       "<table border=\"1\" class=\"dataframe\">\n",
       "  <thead>\n",
       "    <tr style=\"text-align: right;\">\n",
       "      <th></th>\n",
       "      <th>minority</th>\n",
       "      <th>crime</th>\n",
       "      <th>poverty</th>\n",
       "      <th>language</th>\n",
       "      <th>highschool</th>\n",
       "      <th>housing</th>\n",
       "      <th>city</th>\n",
       "      <th>conventional</th>\n",
       "      <th>undercount</th>\n",
       "      <th>date</th>\n",
       "    </tr>\n",
       "  </thead>\n",
       "  <tbody>\n",
       "    <tr>\n",
       "      <th>0</th>\n",
       "      <td>26.1</td>\n",
       "      <td>49</td>\n",
       "      <td>18.9</td>\n",
       "      <td>0.2</td>\n",
       "      <td>43.5</td>\n",
       "      <td>7.6</td>\n",
       "      <td>state</td>\n",
       "      <td></td>\n",
       "      <td>-0.04</td>\n",
       "      <td>2023-01-01</td>\n",
       "    </tr>\n",
       "  </tbody>\n",
       "</table>\n",
       "</div>"
      ],
      "text/plain": [
       "   minority  crime  poverty  language  highschool  housing   city  \\\n",
       "0      26.1     49     18.9       0.2        43.5      7.6  state   \n",
       "\n",
       "  conventional  undercount        date  \n",
       "0                    -0.04  2023-01-01  "
      ]
     },
     "execution_count": 7,
     "metadata": {},
     "output_type": "execute_result"
    }
   ],
   "source": [
    "# 영어, 숫자, 한국어를 제외한 모든 문자 제거 \n",
    "# 코드 \n",
    "data1.loc[:,'conventional'] = data1.loc[:, 'conventional'].str.replace(r'[^a-aA-z0-9가-힣]','',regex=True)\n",
    "data1.head(1)"
   ]
  },
  {
   "cell_type": "code",
   "execution_count": 10,
   "metadata": {},
   "outputs": [
    {
     "name": "stdout",
     "output_type": "stream",
     "text": [
      "IQR: 8.75\n"
     ]
    }
   ],
   "source": [
    "data1.loc[:,'conventional'] = data1.loc[:, 'conventional'].replace('',np.nan)\n",
    "data1.loc[:,'conventional'] = data1.loc[:, 'conventional'].astype(float)\n",
    "\n",
    "# IQR\n",
    "Q1 = data1.loc[:, 'conventional'].quantile(0.25)\n",
    "Q3 = data1.loc[:, 'conventional'].quantile(0.75)\n",
    "IQR = Q3 - Q1\n",
    "print(f'IQR: {IQR}')"
   ]
  },
  {
   "cell_type": "markdown",
   "metadata": {},
   "source": [
    "## 문제 2. \n",
    "- 위 데이터에서 흑인 또는 히스패닉 비율(minority) / 빈곤율(poverty) > 2이며, 도시 유형(city)이 state인 도시의 범죄율(crime) 평균을 구하시오. \n",
    "- 소수점 첫째 자리에서 반올림"
   ]
  },
  {
   "cell_type": "code",
   "execution_count": 12,
   "metadata": {},
   "outputs": [
    {
     "data": {
      "text/html": [
       "<div>\n",
       "<style scoped>\n",
       "    .dataframe tbody tr th:only-of-type {\n",
       "        vertical-align: middle;\n",
       "    }\n",
       "\n",
       "    .dataframe tbody tr th {\n",
       "        vertical-align: top;\n",
       "    }\n",
       "\n",
       "    .dataframe thead th {\n",
       "        text-align: right;\n",
       "    }\n",
       "</style>\n",
       "<table border=\"1\" class=\"dataframe\">\n",
       "  <thead>\n",
       "    <tr style=\"text-align: right;\">\n",
       "      <th></th>\n",
       "      <th>minority</th>\n",
       "      <th>poverty</th>\n",
       "    </tr>\n",
       "  </thead>\n",
       "  <tbody>\n",
       "    <tr>\n",
       "      <th>0</th>\n",
       "      <td>26.1</td>\n",
       "      <td>18.9</td>\n",
       "    </tr>\n",
       "    <tr>\n",
       "      <th>1</th>\n",
       "      <td>5.7</td>\n",
       "      <td>10.7</td>\n",
       "    </tr>\n",
       "    <tr>\n",
       "      <th>2</th>\n",
       "      <td>18.9</td>\n",
       "      <td>13.2</td>\n",
       "    </tr>\n",
       "    <tr>\n",
       "      <th>3</th>\n",
       "      <td>16.9</td>\n",
       "      <td>19.0</td>\n",
       "    </tr>\n",
       "    <tr>\n",
       "      <th>4</th>\n",
       "      <td>24.3</td>\n",
       "      <td>10.4</td>\n",
       "    </tr>\n",
       "  </tbody>\n",
       "</table>\n",
       "</div>"
      ],
      "text/plain": [
       "   minority  poverty\n",
       "0      26.1     18.9\n",
       "1       5.7     10.7\n",
       "2      18.9     13.2\n",
       "3      16.9     19.0\n",
       "4      24.3     10.4"
      ]
     },
     "execution_count": 12,
     "metadata": {},
     "output_type": "execute_result"
    }
   ],
   "source": [
    "data1.loc[:, ['minority','poverty']].head()"
   ]
  },
  {
   "cell_type": "code",
   "execution_count": 16,
   "metadata": {},
   "outputs": [
    {
     "data": {
      "text/html": [
       "<div>\n",
       "<style scoped>\n",
       "    .dataframe tbody tr th:only-of-type {\n",
       "        vertical-align: middle;\n",
       "    }\n",
       "\n",
       "    .dataframe tbody tr th {\n",
       "        vertical-align: top;\n",
       "    }\n",
       "\n",
       "    .dataframe thead th {\n",
       "        text-align: right;\n",
       "    }\n",
       "</style>\n",
       "<table border=\"1\" class=\"dataframe\">\n",
       "  <thead>\n",
       "    <tr style=\"text-align: right;\">\n",
       "      <th></th>\n",
       "      <th>minority</th>\n",
       "      <th>crime</th>\n",
       "      <th>poverty</th>\n",
       "      <th>language</th>\n",
       "      <th>highschool</th>\n",
       "      <th>housing</th>\n",
       "      <th>city</th>\n",
       "      <th>conventional</th>\n",
       "      <th>undercount</th>\n",
       "      <th>date</th>\n",
       "    </tr>\n",
       "  </thead>\n",
       "  <tbody>\n",
       "    <tr>\n",
       "      <th>4</th>\n",
       "      <td>24.3</td>\n",
       "      <td>73</td>\n",
       "      <td>10.4</td>\n",
       "      <td>5.0</td>\n",
       "      <td>26.0</td>\n",
       "      <td>11.8</td>\n",
       "      <td>state</td>\n",
       "      <td>4.0</td>\n",
       "      <td>3.60</td>\n",
       "      <td>2023-01-05</td>\n",
       "    </tr>\n",
       "    <tr>\n",
       "      <th>19</th>\n",
       "      <td>16.7</td>\n",
       "      <td>58</td>\n",
       "      <td>6.8</td>\n",
       "      <td>0.8</td>\n",
       "      <td>28.2</td>\n",
       "      <td>10.5</td>\n",
       "      <td>state</td>\n",
       "      <td>0.0</td>\n",
       "      <td>2.03</td>\n",
       "      <td>2023-01-20</td>\n",
       "    </tr>\n",
       "    <tr>\n",
       "      <th>30</th>\n",
       "      <td>38.4</td>\n",
       "      <td>59</td>\n",
       "      <td>17.6</td>\n",
       "      <td>4.6</td>\n",
       "      <td>31.1</td>\n",
       "      <td>10.7</td>\n",
       "      <td>state</td>\n",
       "      <td>58.0</td>\n",
       "      <td>2.69</td>\n",
       "      <td>2023-01-31</td>\n",
       "    </tr>\n",
       "    <tr>\n",
       "      <th>42</th>\n",
       "      <td>30.6</td>\n",
       "      <td>55</td>\n",
       "      <td>15.0</td>\n",
       "      <td>4.7</td>\n",
       "      <td>38.7</td>\n",
       "      <td>7.7</td>\n",
       "      <td>state</td>\n",
       "      <td>1.0</td>\n",
       "      <td>0.27</td>\n",
       "      <td>2023-02-12</td>\n",
       "    </tr>\n",
       "    <tr>\n",
       "      <th>50</th>\n",
       "      <td>55.5</td>\n",
       "      <td>100</td>\n",
       "      <td>22.9</td>\n",
       "      <td>0.7</td>\n",
       "      <td>51.6</td>\n",
       "      <td>23.3</td>\n",
       "      <td>city</td>\n",
       "      <td>0.0</td>\n",
       "      <td>6.15</td>\n",
       "      <td>2023-02-20</td>\n",
       "    </tr>\n",
       "    <tr>\n",
       "      <th>52</th>\n",
       "      <td>53.7</td>\n",
       "      <td>66</td>\n",
       "      <td>20.3</td>\n",
       "      <td>6.7</td>\n",
       "      <td>43.8</td>\n",
       "      <td>51.4</td>\n",
       "      <td>city</td>\n",
       "      <td>0.0</td>\n",
       "      <td>5.42</td>\n",
       "      <td>2023-02-22</td>\n",
       "    </tr>\n",
       "    <tr>\n",
       "      <th>53</th>\n",
       "      <td>46.7</td>\n",
       "      <td>101</td>\n",
       "      <td>22.1</td>\n",
       "      <td>1.6</td>\n",
       "      <td>49.1</td>\n",
       "      <td>36.4</td>\n",
       "      <td>city</td>\n",
       "      <td>0.0</td>\n",
       "      <td>5.01</td>\n",
       "      <td>2023-02-23</td>\n",
       "    </tr>\n",
       "    <tr>\n",
       "      <th>54</th>\n",
       "      <td>41.6</td>\n",
       "      <td>118</td>\n",
       "      <td>14.2</td>\n",
       "      <td>3.1</td>\n",
       "      <td>31.5</td>\n",
       "      <td>12.9</td>\n",
       "      <td>city</td>\n",
       "      <td>0.0</td>\n",
       "      <td>8.18</td>\n",
       "      <td>2023-02-24</td>\n",
       "    </tr>\n",
       "    <tr>\n",
       "      <th>55</th>\n",
       "      <td>65.4</td>\n",
       "      <td>106</td>\n",
       "      <td>21.9</td>\n",
       "      <td>1.6</td>\n",
       "      <td>45.8</td>\n",
       "      <td>18.6</td>\n",
       "      <td>city</td>\n",
       "      <td>0.0</td>\n",
       "      <td>4.33</td>\n",
       "      <td>2023-02-25</td>\n",
       "    </tr>\n",
       "    <tr>\n",
       "      <th>56</th>\n",
       "      <td>45.1</td>\n",
       "      <td>80</td>\n",
       "      <td>12.7</td>\n",
       "      <td>5.1</td>\n",
       "      <td>31.6</td>\n",
       "      <td>8.9</td>\n",
       "      <td>city</td>\n",
       "      <td>0.0</td>\n",
       "      <td>5.79</td>\n",
       "      <td>2023-02-26</td>\n",
       "    </tr>\n",
       "    <tr>\n",
       "      <th>58</th>\n",
       "      <td>44.4</td>\n",
       "      <td>100</td>\n",
       "      <td>16.4</td>\n",
       "      <td>12.7</td>\n",
       "      <td>31.4</td>\n",
       "      <td>15.0</td>\n",
       "      <td>city</td>\n",
       "      <td>0.0</td>\n",
       "      <td>7.52</td>\n",
       "      <td>2023-02-28</td>\n",
       "    </tr>\n",
       "    <tr>\n",
       "      <th>60</th>\n",
       "      <td>44.0</td>\n",
       "      <td>101</td>\n",
       "      <td>20.0</td>\n",
       "      <td>8.9</td>\n",
       "      <td>39.8</td>\n",
       "      <td>32.2</td>\n",
       "      <td>city</td>\n",
       "      <td>0.0</td>\n",
       "      <td>7.39</td>\n",
       "      <td>2023-03-02</td>\n",
       "    </tr>\n",
       "    <tr>\n",
       "      <th>61</th>\n",
       "      <td>41.3</td>\n",
       "      <td>60</td>\n",
       "      <td>20.6</td>\n",
       "      <td>2.2</td>\n",
       "      <td>45.7</td>\n",
       "      <td>21.7</td>\n",
       "      <td>city</td>\n",
       "      <td>0.0</td>\n",
       "      <td>6.41</td>\n",
       "      <td>2023-03-03</td>\n",
       "    </tr>\n",
       "    <tr>\n",
       "      <th>62</th>\n",
       "      <td>46.7</td>\n",
       "      <td>143</td>\n",
       "      <td>21.8</td>\n",
       "      <td>0.5</td>\n",
       "      <td>51.8</td>\n",
       "      <td>40.9</td>\n",
       "      <td>city</td>\n",
       "      <td>0.0</td>\n",
       "      <td>3.60</td>\n",
       "      <td>2023-03-04</td>\n",
       "    </tr>\n",
       "    <tr>\n",
       "      <th>65</th>\n",
       "      <td>72.6</td>\n",
       "      <td>102</td>\n",
       "      <td>18.6</td>\n",
       "      <td>1.1</td>\n",
       "      <td>32.9</td>\n",
       "      <td>21.0</td>\n",
       "      <td>city</td>\n",
       "      <td>0.0</td>\n",
       "      <td>5.93</td>\n",
       "      <td>2023-03-07</td>\n",
       "    </tr>\n",
       "  </tbody>\n",
       "</table>\n",
       "</div>"
      ],
      "text/plain": [
       "    minority  crime  poverty  language  highschool  housing   city  \\\n",
       "4       24.3     73     10.4       5.0        26.0     11.8  state   \n",
       "19      16.7     58      6.8       0.8        28.2     10.5  state   \n",
       "30      38.4     59     17.6       4.6        31.1     10.7  state   \n",
       "42      30.6     55     15.0       4.7        38.7      7.7  state   \n",
       "50      55.5    100     22.9       0.7        51.6     23.3   city   \n",
       "52      53.7     66     20.3       6.7        43.8     51.4   city   \n",
       "53      46.7    101     22.1       1.6        49.1     36.4   city   \n",
       "54      41.6    118     14.2       3.1        31.5     12.9   city   \n",
       "55      65.4    106     21.9       1.6        45.8     18.6   city   \n",
       "56      45.1     80     12.7       5.1        31.6      8.9   city   \n",
       "58      44.4    100     16.4      12.7        31.4     15.0   city   \n",
       "60      44.0    101     20.0       8.9        39.8     32.2   city   \n",
       "61      41.3     60     20.6       2.2        45.7     21.7   city   \n",
       "62      46.7    143     21.8       0.5        51.8     40.9   city   \n",
       "65      72.6    102     18.6       1.1        32.9     21.0   city   \n",
       "\n",
       "   conventional  undercount        date  \n",
       "4           4.0        3.60  2023-01-05  \n",
       "19          0.0        2.03  2023-01-20  \n",
       "30         58.0        2.69  2023-01-31  \n",
       "42          1.0        0.27  2023-02-12  \n",
       "50          0.0        6.15  2023-02-20  \n",
       "52          0.0        5.42  2023-02-22  \n",
       "53          0.0        5.01  2023-02-23  \n",
       "54          0.0        8.18  2023-02-24  \n",
       "55          0.0        4.33  2023-02-25  \n",
       "56          0.0        5.79  2023-02-26  \n",
       "58          0.0        7.52  2023-02-28  \n",
       "60          0.0        7.39  2023-03-02  \n",
       "61          0.0        6.41  2023-03-03  \n",
       "62          0.0        3.60  2023-03-04  \n",
       "65          0.0        5.93  2023-03-07  "
      ]
     },
     "execution_count": 16,
     "metadata": {},
     "output_type": "execute_result"
    }
   ],
   "source": [
    "# 코드\n",
    "# minority / poverty > 2 & city : state\n",
    "result_df = data1.loc[(data1.loc[:,'minority']/data1.loc[:, 'poverty']>2), :]\n",
    "result_df"
   ]
  },
  {
   "cell_type": "code",
   "execution_count": 18,
   "metadata": {},
   "outputs": [
    {
     "data": {
      "text/plain": [
       "np.float64(61.2)"
      ]
     },
     "execution_count": 18,
     "metadata": {},
     "output_type": "execute_result"
    }
   ],
   "source": [
    "result_df = data1.loc[(data1.loc[:,'minority']/data1.loc[:, 'poverty']>2) & (data1.loc[:, 'city'] == 'state'), :]\n",
    "\n",
    "# crime 평균 계산\n",
    "round(result_df.loc[:, 'crime'].mean(),1)"
   ]
  },
  {
   "cell_type": "markdown",
   "metadata": {},
   "source": [
    "## 문제 3. \n",
    "- 다음 데이터에서 2016년 9월 이후, 온도(actual)의 평균을 구하시오. (소수점 첫째 자리에서 반올림)\n"
   ]
  },
  {
   "cell_type": "code",
   "execution_count": 9,
   "metadata": {},
   "outputs": [
    {
     "data": {
      "text/html": [
       "<div>\n",
       "<style scoped>\n",
       "    .dataframe tbody tr th:only-of-type {\n",
       "        vertical-align: middle;\n",
       "    }\n",
       "\n",
       "    .dataframe tbody tr th {\n",
       "        vertical-align: top;\n",
       "    }\n",
       "\n",
       "    .dataframe thead th {\n",
       "        text-align: right;\n",
       "    }\n",
       "</style>\n",
       "<table border=\"1\" class=\"dataframe\">\n",
       "  <thead>\n",
       "    <tr style=\"text-align: right;\">\n",
       "      <th></th>\n",
       "      <th>year</th>\n",
       "      <th>month</th>\n",
       "      <th>day</th>\n",
       "      <th>week</th>\n",
       "      <th>temp_2</th>\n",
       "      <th>temp_1</th>\n",
       "      <th>average</th>\n",
       "      <th>actual</th>\n",
       "      <th>friend</th>\n",
       "    </tr>\n",
       "  </thead>\n",
       "  <tbody>\n",
       "    <tr>\n",
       "      <th>0</th>\n",
       "      <td>2016</td>\n",
       "      <td>1</td>\n",
       "      <td>1</td>\n",
       "      <td>Fri</td>\n",
       "      <td>45</td>\n",
       "      <td>45</td>\n",
       "      <td>45.6</td>\n",
       "      <td>45</td>\n",
       "      <td>29</td>\n",
       "    </tr>\n",
       "  </tbody>\n",
       "</table>\n",
       "</div>"
      ],
      "text/plain": [
       "   year  month  day week  temp_2  temp_1  average  actual  friend\n",
       "0  2016      1    1  Fri      45      45     45.6      45      29"
      ]
     },
     "execution_count": 9,
     "metadata": {},
     "output_type": "execute_result"
    }
   ],
   "source": [
    "# 2016년 9월 이후 데이터 필터링\n",
    "filtered_data = data3.loc[(data3.loc[:, 'year'] == 2016) & (data3.loc[:, 'month'] >= 9)]\n",
    "\n",
    "# 필터링된 데이터의 actual 평균 계산 및 반올림\n",
    "actual_mean = round(filtered_data.loc[:, 'actual'].mean(), 0)\n",
    "\n",
    "print(f'2016년 9월 이후 온도 평균: {actual_mean}')"
   ]
  },
  {
   "cell_type": "code",
   "execution_count": 10,
   "metadata": {},
   "outputs": [
    {
     "name": "stdout",
     "output_type": "stream",
     "text": [
      "2016년 9월 이후 온도 평균: 58.0\n"
     ]
    }
   ],
   "source": [
    "# 코드 "
   ]
  },
  {
   "cell_type": "code",
   "execution_count": 16,
   "metadata": {},
   "outputs": [
    {
     "name": "stdout",
     "output_type": "stream",
     "text": [
      "2016년 9월 이후 온도 평균: 58.0\n"
     ]
    }
   ],
   "source": [
    "data3['date'] = pd.to_datetime(dict(year=data3['year'], month=data3['month'], day = data3['day']))\n",
    "\n",
    "data4 = data3.copy()\n",
    "data4.set_index('date', inplace=True)\n",
    "data4.loc['2016-09-01':, 'actual'].mean()"
   ]
  }
 ],
 "metadata": {
  "kernelspec": {
   "display_name": "Python 3 (ipykernel)",
   "language": "python",
   "name": "python3"
  },
  "language_info": {
   "codemirror_mode": {
    "name": "ipython",
    "version": 3
   },
   "file_extension": ".py",
   "mimetype": "text/x-python",
   "name": "python",
   "nbconvert_exporter": "python",
   "pygments_lexer": "ipython3",
   "version": "3.11.12"
  }
 },
 "nbformat": 4,
 "nbformat_minor": 4
}
