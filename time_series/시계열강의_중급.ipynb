{
 "cells": [
  {
   "cell_type": "markdown",
   "metadata": {
    "id": "VFwQs6Jpi8_A"
   },
   "source": [
    "# Google Colab 한글 폰트 설치"
   ]
  },
  {
   "cell_type": "code",
   "execution_count": 4,
   "metadata": {
    "colab": {
     "base_uri": "https://localhost:8080/"
    },
    "executionInfo": {
     "elapsed": 22539,
     "status": "ok",
     "timestamp": 1729657278852,
     "user": {
      "displayName": "Ji-hoon Jung",
      "userId": "03169308685755834042"
     },
     "user_tz": -540
    },
    "id": "Yvj4_gyhi6VJ",
    "outputId": "0f6dece2-cfeb-43c3-b5f0-360528fbf495"
   },
   "outputs": [],
   "source": [
    "import sys\n",
    "\n",
    "# Google Colab 환경에서 실행 중인지 확인\n",
    "if 'google.colab' in sys.modules:\n",
    "    # debconf를 Noninteractive 모드로 설정\n",
    "    !echo 'debconf debconf/frontend select Noninteractive' | \\\n",
    "    debconf-set-selections\n",
    "\n",
    "    # fonts-nanum 패키지를 설치\n",
    "    !sudo apt-get -qq -y install fonts-nanum\n",
    "\n",
    "    # Matplotlib의 폰트 매니저 가져오기\n",
    "    import matplotlib.font_manager as fm\n",
    "\n",
    "    # 나눔 폰트의 시스템 경로 찾기\n",
    "    font_files = fm.findSystemFonts(fontpaths=['/usr/share/fonts/truetype/nanum'])\n",
    "\n",
    "    # 찾은 각 나눔 폰트를 Matplotlib 폰트 매니저에 추가\n",
    "    for fpath in font_files:\n",
    "        fm.fontManager.addfont(fpath)"
   ]
  },
  {
   "cell_type": "code",
   "execution_count": 5,
   "metadata": {
    "colab": {
     "base_uri": "https://localhost:8080/"
    },
    "executionInfo": {
     "elapsed": 4,
     "status": "ok",
     "timestamp": 1729657278853,
     "user": {
      "displayName": "Ji-hoon Jung",
      "userId": "03169308685755834042"
     },
     "user_tz": -540
    },
    "id": "JTopSdDDpro9",
    "outputId": "6df52a3e-4669-48f1-9837-8c4dec79e068"
   },
   "outputs": [
    {
     "data": {
      "text/plain": [
       "'1.15.3'"
      ]
     },
     "execution_count": 5,
     "metadata": {},
     "output_type": "execute_result"
    }
   ],
   "source": [
    "# 필요한 패키지\n",
    "import numpy as np\n",
    "import matplotlib.pyplot as plt\n",
    "\n",
    "import scipy\n",
    "from scipy import linalg as la\n",
    "import scipy.stats as ss\n",
    "import scipy.special\n",
    "\n",
    "# 한글출력\n",
    "plt.rcParams['font.family'] = 'Malgun Gothic' #  Windows 'Malgun Gothic' \n",
    "plt.rcParams['axes.unicode_minus'] = False\n",
    "\n",
    "# 필요한 패키지 2\n",
    "from pgmpy.factors.discrete import JointProbabilityDistribution as JPD\n",
    "import sympy\n",
    "\n",
    "scipy.__version__"
   ]
  },
  {
   "cell_type": "markdown",
   "metadata": {
    "id": "aNHYHG2Vptrd"
   },
   "source": [
    "- 테스트"
   ]
  },
  {
   "cell_type": "code",
   "execution_count": 3,
   "metadata": {
    "colab": {
     "base_uri": "https://localhost:8080/",
     "height": 455
    },
    "executionInfo": {
     "elapsed": 1653,
     "status": "ok",
     "timestamp": 1729657280504,
     "user": {
      "displayName": "Ji-hoon Jung",
      "userId": "03169308685755834042"
     },
     "user_tz": -540
    },
    "id": "Q25lV0i1ps0e",
    "outputId": "8d27e9d8-db79-4f2c-bc81-eaf5aa7e4eea"
   },
   "outputs": [
    {
     "data": {
      "image/png": "[encoded data removed]",
      "text/plain": [
       "<Figure size 640x480 with 1 Axes>"
      ]
     },
     "metadata": {},
     "output_type": "display_data"
    }
   ],
   "source": [
    "plt.plot([1, 2, 3])\n",
    "plt.title(\"한글 잘 나옵니까?\")\n",
    "plt.show()"
   ]
  },
  {
   "cell_type": "code",
   "execution_count": 4,
   "metadata": {
    "colab": {
     "base_uri": "https://localhost:8080/"
    },
    "executionInfo": {
     "elapsed": 27152,
     "status": "ok",
     "timestamp": 1729657307654,
     "user": {
      "displayName": "Ji-hoon Jung",
      "userId": "03169308685755834042"
     },
     "user_tz": -540
    },
    "id": "LvSC43A0p0Gg",
    "outputId": "f34bb77c-2044-45f6-be9a-3947b5c6d224"
   },
   "outputs": [
    {
     "ename": "ModuleNotFoundError",
     "evalue": "No module named 'google.colab'",
     "output_type": "error",
     "traceback": [
      "\u001b[31m---------------------------------------------------------------------------\u001b[39m",
      "\u001b[31mModuleNotFoundError\u001b[39m                       Traceback (most recent call last)",
      "\u001b[36mCell\u001b[39m\u001b[36m \u001b[39m\u001b[32mIn[4]\u001b[39m\u001b[32m, line 1\u001b[39m\n\u001b[32m----> \u001b[39m\u001b[32m1\u001b[39m \u001b[38;5;28;01mfrom\u001b[39;00m\u001b[38;5;250m \u001b[39m\u001b[34;01mgoogle\u001b[39;00m\u001b[34;01m.\u001b[39;00m\u001b[34;01mcolab\u001b[39;00m\u001b[38;5;250m \u001b[39m\u001b[38;5;28;01mimport\u001b[39;00m drive\n\u001b[32m      2\u001b[39m drive.mount(\u001b[33m\"\u001b[39m\u001b[33m/content/drive\u001b[39m\u001b[33m\"\u001b[39m)\n",
      "\u001b[31mModuleNotFoundError\u001b[39m: No module named 'google.colab'"
     ]
    }
   ],
   "source": [
    "from google.colab import drive\n",
    "drive.mount(\"/content/drive\")"
   ]
  },
  {
   "cell_type": "markdown",
   "metadata": {
    "id": "rI5hUc6fqGEO"
   },
   "source": [
    "# 라이브러리 불러오기"
   ]
  },
  {
   "cell_type": "code",
   "execution_count": 6,
   "metadata": {
    "id": "n9W77-66qHgE"
   },
   "outputs": [],
   "source": [
    "from statsmodels.tsa.statespace.sarimax import SARIMAX\n",
    "from statsmodels.tsa.arima_process import ArmaProcess\n",
    "from statsmodels.graphics.tsaplots import plot_acf\n",
    "from statsmodels.tsa.stattools import adfuller\n",
    "import matplotlib.pyplot as plt\n",
    "import numpy as np\n",
    "import pandas as pd\n",
    "\n",
    "import warnings\n",
    "warnings.filterwarnings('ignore')\n",
    "\n",
    "%matplotlib inline"
   ]
  },
  {
   "cell_type": "markdown",
   "metadata": {
    "id": "JkzZZubUtx-y"
   },
   "source": [
    "# 시계열 시각화 맛보기"
   ]
  },
  {
   "cell_type": "markdown",
   "metadata": {
    "id": "mQlJJvUysXOI"
   },
   "source": [
    "## matplotlib 설정"
   ]
  },
  {
   "cell_type": "code",
   "execution_count": 6,
   "metadata": {
    "id": "pIeTLlC7sZZd"
   },
   "outputs": [],
   "source": [
    "plt.rcParams['axes.unicode_minus'] = False"
   ]
  },
  {
   "cell_type": "markdown",
   "metadata": {
    "id": "mwjjLazZ6MFt"
   },
   "source": [
    "# 정상적 ARMA 프로세스\n",
    "- ARMA(1, 1) 프로세스 시뮬레이션"
   ]
  },
  {
   "cell_type": "code",
   "execution_count": 7,
   "metadata": {
    "id": "std1ZPDZ6zC9"
   },
   "outputs": [],
   "source": [
    "from sklearn.metrics import mean_squared_error, mean_absolute_error\n",
    "from statsmodels.graphics.tsaplots import plot_acf, plot_pacf\n",
    "from statsmodels.tsa.statespace.sarimax import SARIMAX\n",
    "from statsmodels.tsa.arima_process import ArmaProcess\n",
    "from statsmodels.tsa.stattools import adfuller\n",
    "# from tqdm.auto import tqdm\n",
    "from tqdm.auto import tqdm  # 일반 CLI용 progress bar\n",
    "from itertools import product\n",
    "\n",
    "import matplotlib.pyplot as plt\n",
    "import numpy as np\n",
    "import pandas as pd\n",
    "\n",
    "import warnings\n",
    "warnings.filterwarnings('ignore')\n",
    "\n",
    "%matplotlib inline\n",
    "\n",
    "np.random.seed(42)\n",
    "\n",
    "ar1 = np.array([1, -0.33])\n",
    "ma1 = np.array([1, 0.9])\n",
    "\n",
    "ARMA_1_1 = ArmaProcess(ar1, ma1).generate_sample(nsample=1000)"
   ]
  },
  {
   "cell_type": "markdown",
   "metadata": {
    "id": "Jq6mz5EZ68iB"
   },
   "source": [
    "- 귀무가설 기각 : 정상성"
   ]
  },
  {
   "cell_type": "code",
   "execution_count": 8,
   "metadata": {
    "colab": {
     "base_uri": "https://localhost:8080/"
    },
    "executionInfo": {
     "elapsed": 9,
     "status": "ok",
     "timestamp": 1729657311217,
     "user": {
      "displayName": "Ji-hoon Jung",
      "userId": "03169308685755834042"
     },
     "user_tz": -540
    },
    "id": "f6C9HYDO66ib",
    "outputId": "80ed6570-2f68-4dc6-f109-d914d0ff1501"
   },
   "outputs": [
    {
     "name": "stdout",
     "output_type": "stream",
     "text": [
      "ADF Statistic: -6.4298786820426965\n",
      "p-value: 1.707846668009642e-08\n"
     ]
    }
   ],
   "source": [
    "ADF_result = adfuller(ARMA_1_1)\n",
    "\n",
    "print(f'ADF Statistic: {ADF_result[0]}')\n",
    "print(f'p-value: {ADF_result[1]}')"
   ]
  },
  {
   "cell_type": "markdown",
   "metadata": {
    "id": "jcb9Zaod7RAH"
   },
   "source": [
    "## 자기상관관계\n",
    "- 사인 곡선 패턴\n",
    "- 계수의 마지막은 유의한 시점이 지연2로 보일 수도 있음\n",
    "- 시뮬레이션 데이터는 MA(1) 프로세스 기반, 즉 지연1까지만 유효\n",
    "- 결론 : 차수 q에 대한 유용한 정보 제공 못함"
   ]
  },
  {
   "cell_type": "code",
   "execution_count": 9,
   "metadata": {
    "colab": {
     "base_uri": "https://localhost:8080/",
     "height": 484
    },
    "executionInfo": {
     "elapsed": 10,
     "status": "ok",
     "timestamp": 1729657311218,
     "user": {
      "displayName": "Ji-hoon Jung",
      "userId": "03169308685755834042"
     },
     "user_tz": -540
    },
    "id": "F9nNDvfd7AjY",
    "outputId": "f2e8f3ba-12db-4056-c173-e3809498154e"
   },
   "outputs": [
    {
     "data": {
      "image/png": "[encoded data removed]",
      "text/plain": [
       "<Figure size 640x480 with 1 Axes>"
      ]
     },
     "metadata": {},
     "output_type": "display_data"
    }
   ],
   "source": [
    "plot_acf(ARMA_1_1, lags=20);\n",
    "plt.tight_layout()"
   ]
  },
  {
   "cell_type": "markdown",
   "metadata": {
    "id": "sW23ewl07tEj"
   },
   "source": [
    "## 편자기상관관계\n",
    "- 사인 곡선 패턴\n",
    "- 차수 p의 값을 유추할 수 없음\n",
    "- ARMA(1, 1) 프로세스 시뮬레이션한 데이터이지만 지연 1을 지난 후에도 계수가 유의함.\n",
    "- PACF로도 차수 확인 불가"
   ]
  },
  {
   "cell_type": "code",
   "execution_count": 10,
   "metadata": {
    "colab": {
     "base_uri": "https://localhost:8080/",
     "height": 484
    },
    "executionInfo": {
     "elapsed": 9,
     "status": "ok",
     "timestamp": 1729657311218,
     "user": {
      "displayName": "Ji-hoon Jung",
      "userId": "03169308685755834042"
     },
     "user_tz": -540
    },
    "id": "dAGB8T507Jjn",
    "outputId": "d535a794-9ad6-470c-f071-8c7b0aa49951"
   },
   "outputs": [
    {
     "data": {
      "image/png": "[encoded data removed]",
      "text/plain": [
       "<Figure size 640x480 with 1 Axes>"
      ]
     },
     "metadata": {},
     "output_type": "display_data"
    }
   ],
   "source": [
    "plot_pacf(ARMA_1_1, lags=20);\n",
    "plt.tight_layout()"
   ]
  },
  {
   "cell_type": "markdown",
   "metadata": {
    "id": "w9aetna-Uq9z"
   },
   "source": [
    "# AIC 활용한 모델 선택"
   ]
  },
  {
   "cell_type": "code",
   "execution_count": 11,
   "metadata": {
    "colab": {
     "base_uri": "https://localhost:8080/"
    },
    "executionInfo": {
     "elapsed": 8,
     "status": "ok",
     "timestamp": 1729657311218,
     "user": {
      "displayName": "Ji-hoon Jung",
      "userId": "03169308685755834042"
     },
     "user_tz": -540
    },
    "id": "EYk5WryQUuP9",
    "outputId": "f7311e3f-6a52-4598-b63b-7a2fdb6841c6"
   },
   "outputs": [
    {
     "name": "stdout",
     "output_type": "stream",
     "text": [
      "[(0, 0), (0, 1), (0, 2), (0, 3), (1, 0), (1, 1), (1, 2), (1, 3), (2, 0), (2, 1), (2, 2), (2, 3), (3, 0), (3, 1), (3, 2), (3, 3)]\n"
     ]
    }
   ],
   "source": [
    "ps = range(0, 4, 1)\n",
    "qs = range(0, 4, 1)\n",
    "\n",
    "order_list = list(product(ps, qs))\n",
    "print(order_list)"
   ]
  },
  {
   "cell_type": "markdown",
   "metadata": {
    "id": "A1JwAYZIU7_7"
   },
   "source": [
    "## ARMA 모델 적합 위한 함수"
   ]
  },
  {
   "cell_type": "code",
   "execution_count": 12,
   "metadata": {
    "id": "GM2PsnT7VAX9"
   },
   "outputs": [],
   "source": [
    "from typing import Union\n",
    "\n",
    "def optimize_ARMA(endog: Union[pd.Series, list], order_list: list) -> pd.DataFrame:\n",
    "\n",
    "    results = []\n",
    "\n",
    "    for order in tqdm(order_list):\n",
    "        try:\n",
    "            model = SARIMAX(endog, order=(order[0], 0, order[1]), simple_differencing=False).fit(disp=False)\n",
    "        except:\n",
    "            continue\n",
    "\n",
    "        aic = model.aic\n",
    "        results.append([order, aic])\n",
    "\n",
    "    result_df = pd.DataFrame(results)\n",
    "    result_df.columns = ['(p,q)', 'AIC']\n",
    "\n",
    "    #Sort in ascending order, lower AIC is better\n",
    "    result_df = result_df.sort_values(by='AIC', ascending=True).reset_index(drop=True)\n",
    "\n",
    "    return result_df"
   ]
  },
  {
   "cell_type": "code",
   "execution_count": 14,
   "metadata": {
    "colab": {
     "base_uri": "https://localhost:8080/",
     "height": 583,
     "referenced_widgets": [
      "a632d3e497304a23b03bbc0f4b95195a",
      "234035b9a74b463e985b52f8b13fd3e5",
      "6d8ab260072e4a2b99a446c106366502",
      "402776a141e54b7b939ee447b9ab8afd",
      "4aa368d145c04fb8966807517db487d6",
      "aa59124c6ce445359db389065e4dfdc5",
      "e8476e877abf43b280247e6ee893cf23",
      "289adaba50f14d5f9d71d1100cb0d95c",
      "c63b7f9aa26e46908dcff3044060d938",
      "0c1309868ee4475bb89e39fb886ac0e4",
      "58ed5182875648b59ace17a1807f057f"
     ]
    },
    "executionInfo": {
     "elapsed": 10930,
     "status": "ok",
     "timestamp": 1729657322141,
     "user": {
      "displayName": "Ji-hoon Jung",
      "userId": "03169308685755834042"
     },
     "user_tz": -540
    },
    "id": "MNY46MXXVCXC",
    "outputId": "e0aed527-d5c3-463c-cb23-83caba22a8d7"
   },
   "outputs": [
    {
     "name": "stderr",
     "output_type": "stream",
     "text": [
      "100%|██████████████████████████████████████████| 16/16 [00:01<00:00,  9.76it/s]\n"
     ]
    },
    {
     "data": {
      "text/html": [
       "<div>\n",
       "<style scoped>\n",
       "    .dataframe tbody tr th:only-of-type {\n",
       "        vertical-align: middle;\n",
       "    }\n",
       "\n",
       "    .dataframe tbody tr th {\n",
       "        vertical-align: top;\n",
       "    }\n",
       "\n",
       "    .dataframe thead th {\n",
       "        text-align: right;\n",
       "    }\n",
       "</style>\n",
       "<table border=\"1\" class=\"dataframe\">\n",
       "  <thead>\n",
       "    <tr style=\"text-align: right;\">\n",
       "      <th></th>\n",
       "      <th>(p,q)</th>\n",
       "      <th>AIC</th>\n",
       "    </tr>\n",
       "  </thead>\n",
       "  <tbody>\n",
       "    <tr>\n",
       "      <th>0</th>\n",
       "      <td>(1, 1)</td>\n",
       "      <td>2801.407785</td>\n",
       "    </tr>\n",
       "    <tr>\n",
       "      <th>1</th>\n",
       "      <td>(2, 1)</td>\n",
       "      <td>2802.906070</td>\n",
       "    </tr>\n",
       "    <tr>\n",
       "      <th>2</th>\n",
       "      <td>(1, 2)</td>\n",
       "      <td>2802.967762</td>\n",
       "    </tr>\n",
       "    <tr>\n",
       "      <th>3</th>\n",
       "      <td>(0, 3)</td>\n",
       "      <td>2803.666793</td>\n",
       "    </tr>\n",
       "    <tr>\n",
       "      <th>4</th>\n",
       "      <td>(1, 3)</td>\n",
       "      <td>2804.524027</td>\n",
       "    </tr>\n",
       "    <tr>\n",
       "      <th>5</th>\n",
       "      <td>(3, 1)</td>\n",
       "      <td>2804.588567</td>\n",
       "    </tr>\n",
       "    <tr>\n",
       "      <th>6</th>\n",
       "      <td>(2, 2)</td>\n",
       "      <td>2804.822282</td>\n",
       "    </tr>\n",
       "    <tr>\n",
       "      <th>7</th>\n",
       "      <td>(3, 3)</td>\n",
       "      <td>2806.001496</td>\n",
       "    </tr>\n",
       "    <tr>\n",
       "      <th>8</th>\n",
       "      <td>(2, 3)</td>\n",
       "      <td>2806.175380</td>\n",
       "    </tr>\n",
       "    <tr>\n",
       "      <th>9</th>\n",
       "      <td>(3, 2)</td>\n",
       "      <td>2806.894930</td>\n",
       "    </tr>\n",
       "    <tr>\n",
       "      <th>10</th>\n",
       "      <td>(0, 2)</td>\n",
       "      <td>2812.840730</td>\n",
       "    </tr>\n",
       "    <tr>\n",
       "      <th>11</th>\n",
       "      <td>(0, 1)</td>\n",
       "      <td>2891.869245</td>\n",
       "    </tr>\n",
       "    <tr>\n",
       "      <th>12</th>\n",
       "      <td>(3, 0)</td>\n",
       "      <td>2981.643911</td>\n",
       "    </tr>\n",
       "    <tr>\n",
       "      <th>13</th>\n",
       "      <td>(2, 0)</td>\n",
       "      <td>3042.627787</td>\n",
       "    </tr>\n",
       "    <tr>\n",
       "      <th>14</th>\n",
       "      <td>(1, 0)</td>\n",
       "      <td>3207.291261</td>\n",
       "    </tr>\n",
       "    <tr>\n",
       "      <th>15</th>\n",
       "      <td>(0, 0)</td>\n",
       "      <td>3780.418416</td>\n",
       "    </tr>\n",
       "  </tbody>\n",
       "</table>\n",
       "</div>"
      ],
      "text/plain": [
       "     (p,q)          AIC\n",
       "0   (1, 1)  2801.407785\n",
       "1   (2, 1)  2802.906070\n",
       "2   (1, 2)  2802.967762\n",
       "3   (0, 3)  2803.666793\n",
       "4   (1, 3)  2804.524027\n",
       "5   (3, 1)  2804.588567\n",
       "6   (2, 2)  2804.822282\n",
       "7   (3, 3)  2806.001496\n",
       "8   (2, 3)  2806.175380\n",
       "9   (3, 2)  2806.894930\n",
       "10  (0, 2)  2812.840730\n",
       "11  (0, 1)  2891.869245\n",
       "12  (3, 0)  2981.643911\n",
       "13  (2, 0)  3042.627787\n",
       "14  (1, 0)  3207.291261\n",
       "15  (0, 0)  3780.418416"
      ]
     },
     "execution_count": 14,
     "metadata": {},
     "output_type": "execute_result"
    }
   ],
   "source": [
    "result_df = optimize_ARMA(ARMA_1_1, order_list)\n",
    "result_df\n",
    "\n",
    "## aic 기준으로 선택"
   ]
  },
  {
   "cell_type": "markdown",
   "metadata": {
    "id": "ZyEmUZ6_VHXi"
   },
   "source": [
    "# 잔차 분석\n"
   ]
  },
  {
   "cell_type": "markdown",
   "metadata": {
    "id": "CBdLN3JXVSyb"
   },
   "source": [
    "## 정성적 분석 : Q-Q 도식 확인"
   ]
  },
  {
   "cell_type": "code",
   "execution_count": 15,
   "metadata": {
    "colab": {
     "base_uri": "https://localhost:8080/",
     "height": 453
    },
    "executionInfo": {
     "elapsed": 855,
     "status": "ok",
     "timestamp": 1729657322992,
     "user": {
      "displayName": "Ji-hoon Jung",
      "userId": "03169308685755834042"
     },
     "user_tz": -540
    },
    "id": "ZAlVeh27VQcr",
    "outputId": "4d4db747-b6c4-40ad-8e3c-b390e450f61f"
   },
   "outputs": [
    {
     "data": {
      "image/png": "[encoded data removed]",
      "text/plain": [
       "<Figure size 640x480 with 1 Axes>"
      ]
     },
     "metadata": {},
     "output_type": "display_data"
    }
   ],
   "source": [
    "from statsmodels.graphics.gofplots import qqplot\n",
    "\n",
    "gamma = np.random.default_rng().standard_gamma(shape=2, size=1000)\n",
    "\n",
    "qqplot(gamma, line='45');"
   ]
  },
  {
   "cell_type": "code",
   "execution_count": 16,
   "metadata": {
    "colab": {
     "base_uri": "https://localhost:8080/",
     "height": 453
    },
    "executionInfo": {
     "elapsed": 13,
     "status": "ok",
     "timestamp": 1729657322993,
     "user": {
      "displayName": "Ji-hoon Jung",
      "userId": "03169308685755834042"
     },
     "user_tz": -540
    },
    "id": "iwnWM9IzVjWh",
    "outputId": "0daa22f6-436a-4fa8-f9f3-06c0b675d9bb"
   },
   "outputs": [
    {
     "data": {
      "image/png": "[encoded data removed]",
      "text/plain": [
       "<Figure size 640x480 with 1 Axes>"
      ]
     },
     "metadata": {},
     "output_type": "display_data"
    }
   ],
   "source": [
    "normal = np.random.normal(size=1000)\n",
    "\n",
    "qqplot(normal, line='45');"
   ]
  },
  {
   "cell_type": "markdown",
   "metadata": {
    "id": "X1aRunrAWX4p",
    "jp-MarkdownHeadingCollapsed": true
   },
   "source": [
    "## 정량적 분석 : 융-박스 테스트\n",
    "** 잔차 : 모델의 실제값과 예측값의 차이\n",
    "- 귀무가설 : 잔차는 독립적으로 분포되어 있음\n",
    "- 대립가설 : 잔차가 독립적으로 분포되어 있지 않고, 상관관계가 있음\n",
    "- 귀무가설을 채택해야만 예측이 가능하다. 즉, p_valuedms 0.05 이상 나와야 한다."
   ]
  },
  {
   "cell_type": "markdown",
   "metadata": {
    "id": "QlwQx5EMZ0q0"
   },
   "source": [
    "## 잔차 분석 수행"
   ]
  },
  {
   "cell_type": "code",
   "execution_count": 17,
   "metadata": {
    "id": "maqT7c_oZ2lf"
   },
   "outputs": [],
   "source": [
    "model = SARIMAX(ARMA_1_1, order=(1,0,1), simple_differencing=False)\n",
    "model_fit = model.fit(disp=False)\n",
    "residuals = model_fit.resid"
   ]
  },
  {
   "cell_type": "code",
   "execution_count": 18,
   "metadata": {
    "colab": {
     "base_uri": "https://localhost:8080/",
     "height": 453
    },
    "executionInfo": {
     "elapsed": 443,
     "status": "ok",
     "timestamp": 1729657323427,
     "user": {
      "displayName": "Ji-hoon Jung",
      "userId": "03169308685755834042"
     },
     "user_tz": -540
    },
    "id": "S0WJlt63Z7N2",
    "outputId": "b1440f76-c41f-4a88-fc7b-d90bf81855fa"
   },
   "outputs": [
    {
     "data": {
      "image/png": "[encoded data removed]",
      "text/plain": [
       "<Figure size 640x480 with 1 Axes>"
      ]
     },
     "metadata": {},
     "output_type": "display_data"
    }
   ],
   "source": [
    "from statsmodels.graphics.gofplots import qqplot\n",
    "\n",
    "qqplot(residuals, line='45');"
   ]
  },
  {
   "cell_type": "markdown",
   "metadata": {
    "id": "BkQHjYWPaFBk"
   },
   "source": [
    "## 그래프 해석\n",
    "- 왼쪽 상단 도식 : 전체 데이터 집합의 잔차\n",
    "  + 특이한 추세 미 존재, 평균 시간이 지나도 안정적으로 백색소음과 같은 정상성\n",
    "- 오른쪽 상단 도식 : 잔차의 히스토그램\n",
    "  + 잔차가 백색소음에 가까움\n",
    "- 오른쪽 하단 도식 : 잔차의 자기상관함수"
   ]
  },
  {
   "cell_type": "code",
   "execution_count": 19,
   "metadata": {
    "colab": {
     "base_uri": "https://localhost:8080/",
     "height": 723
    },
    "executionInfo": {
     "elapsed": 1305,
     "status": "ok",
     "timestamp": 1729657324725,
     "user": {
      "displayName": "Ji-hoon Jung",
      "userId": "03169308685755834042"
     },
     "user_tz": -540
    },
    "id": "yonJt1_qaA7U",
    "outputId": "b3a326b2-26a3-43dc-bfb8-9a234013d2b4"
   },
   "outputs": [
    {
     "data": {
      "image/png": "[encoded data removed]",
      "text/plain": [
       "<Figure size 1000x800 with 4 Axes>"
      ]
     },
     "metadata": {},
     "output_type": "display_data"
    }
   ],
   "source": [
    "model_fit.plot_diagnostics(figsize=(10, 8));"
   ]
  },
  {
   "cell_type": "code",
   "execution_count": 20,
   "metadata": {
    "colab": {
     "base_uri": "https://localhost:8080/",
     "height": 363
    },
    "executionInfo": {
     "elapsed": 12,
     "status": "ok",
     "timestamp": 1729657324725,
     "user": {
      "displayName": "Ji-hoon Jung",
      "userId": "03169308685755834042"
     },
     "user_tz": -540
    },
    "id": "kQ6lTcBJbS_D",
    "outputId": "381d248b-bd37-4a19-a90f-860b289e2e62"
   },
   "outputs": [
    {
     "data": {
      "text/html": [
       "<div>\n",
       "<style scoped>\n",
       "    .dataframe tbody tr th:only-of-type {\n",
       "        vertical-align: middle;\n",
       "    }\n",
       "\n",
       "    .dataframe tbody tr th {\n",
       "        vertical-align: top;\n",
       "    }\n",
       "\n",
       "    .dataframe thead th {\n",
       "        text-align: right;\n",
       "    }\n",
       "</style>\n",
       "<table border=\"1\" class=\"dataframe\">\n",
       "  <thead>\n",
       "    <tr style=\"text-align: right;\">\n",
       "      <th></th>\n",
       "      <th>lb_stat</th>\n",
       "      <th>lb_pvalue</th>\n",
       "    </tr>\n",
       "  </thead>\n",
       "  <tbody>\n",
       "    <tr>\n",
       "      <th>1</th>\n",
       "      <td>0.030706</td>\n",
       "      <td>0.860897</td>\n",
       "    </tr>\n",
       "    <tr>\n",
       "      <th>2</th>\n",
       "      <td>0.528021</td>\n",
       "      <td>0.767966</td>\n",
       "    </tr>\n",
       "    <tr>\n",
       "      <th>3</th>\n",
       "      <td>0.540904</td>\n",
       "      <td>0.909817</td>\n",
       "    </tr>\n",
       "    <tr>\n",
       "      <th>4</th>\n",
       "      <td>2.079774</td>\n",
       "      <td>0.721089</td>\n",
       "    </tr>\n",
       "    <tr>\n",
       "      <th>5</th>\n",
       "      <td>2.271897</td>\n",
       "      <td>0.810385</td>\n",
       "    </tr>\n",
       "    <tr>\n",
       "      <th>6</th>\n",
       "      <td>2.896262</td>\n",
       "      <td>0.821750</td>\n",
       "    </tr>\n",
       "    <tr>\n",
       "      <th>7</th>\n",
       "      <td>2.900378</td>\n",
       "      <td>0.894063</td>\n",
       "    </tr>\n",
       "    <tr>\n",
       "      <th>8</th>\n",
       "      <td>4.418799</td>\n",
       "      <td>0.817501</td>\n",
       "    </tr>\n",
       "    <tr>\n",
       "      <th>9</th>\n",
       "      <td>4.787567</td>\n",
       "      <td>0.852419</td>\n",
       "    </tr>\n",
       "    <tr>\n",
       "      <th>10</th>\n",
       "      <td>5.246805</td>\n",
       "      <td>0.874093</td>\n",
       "    </tr>\n",
       "  </tbody>\n",
       "</table>\n",
       "</div>"
      ],
      "text/plain": [
       "     lb_stat  lb_pvalue\n",
       "1   0.030706   0.860897\n",
       "2   0.528021   0.767966\n",
       "3   0.540904   0.909817\n",
       "4   2.079774   0.721089\n",
       "5   2.271897   0.810385\n",
       "6   2.896262   0.821750\n",
       "7   2.900378   0.894063\n",
       "8   4.418799   0.817501\n",
       "9   4.787567   0.852419\n",
       "10  5.246805   0.874093"
      ]
     },
     "execution_count": 20,
     "metadata": {},
     "output_type": "execute_result"
    }
   ],
   "source": [
    "from statsmodels.stats.diagnostic import acorr_ljungbox\n",
    "\n",
    "acorr_ljungbox(residuals, np.arange(1, 11, 1))"
   ]
  },
  {
   "cell_type": "markdown",
   "metadata": {
    "id": "QR2gU9ZpZ0fd"
   },
   "source": [
    "# 대역폭 데이터 활용, 일반적 모델링 절차"
   ]
  },
  {
   "cell_type": "markdown",
   "metadata": {
    "id": "T2Y9T4e2o3xZ"
   },
   "source": [
    "## 데이터 불러오기"
   ]
  },
  {
   "cell_type": "code",
   "execution_count": 8,
   "metadata": {
    "colab": {
     "base_uri": "https://localhost:8080/",
     "height": 206
    },
    "executionInfo": {
     "elapsed": 1159,
     "status": "ok",
     "timestamp": 1729657325875,
     "user": {
      "displayName": "Ji-hoon Jung",
      "userId": "03169308685755834042"
     },
     "user_tz": -540
    },
    "id": "RuvSJJWQpkGu",
    "outputId": "717ca205-8652-4d41-9fb0-7f28b3b485bd"
   },
   "outputs": [
    {
     "data": {
      "text/html": [
       "<div>\n",
       "<style scoped>\n",
       "    .dataframe tbody tr th:only-of-type {\n",
       "        vertical-align: middle;\n",
       "    }\n",
       "\n",
       "    .dataframe tbody tr th {\n",
       "        vertical-align: top;\n",
       "    }\n",
       "\n",
       "    .dataframe thead th {\n",
       "        text-align: right;\n",
       "    }\n",
       "</style>\n",
       "<table border=\"1\" class=\"dataframe\">\n",
       "  <thead>\n",
       "    <tr style=\"text-align: right;\">\n",
       "      <th></th>\n",
       "      <th>hourly_bandwidth</th>\n",
       "    </tr>\n",
       "  </thead>\n",
       "  <tbody>\n",
       "    <tr>\n",
       "      <th>0</th>\n",
       "      <td>1000.496714</td>\n",
       "    </tr>\n",
       "    <tr>\n",
       "      <th>1</th>\n",
       "      <td>1000.969408</td>\n",
       "    </tr>\n",
       "    <tr>\n",
       "      <th>2</th>\n",
       "      <td>1002.046019</td>\n",
       "    </tr>\n",
       "    <tr>\n",
       "      <th>3</th>\n",
       "      <td>1004.702118</td>\n",
       "    </tr>\n",
       "    <tr>\n",
       "      <th>4</th>\n",
       "      <td>1007.447816</td>\n",
       "    </tr>\n",
       "  </tbody>\n",
       "</table>\n",
       "</div>"
      ],
      "text/plain": [
       "   hourly_bandwidth\n",
       "0       1000.496714\n",
       "1       1000.969408\n",
       "2       1002.046019\n",
       "3       1004.702118\n",
       "4       1007.447816"
      ]
     },
     "execution_count": 8,
     "metadata": {},
     "output_type": "execute_result"
    }
   ],
   "source": [
    "DATA_PATH = './data/'\n",
    "\n",
    "df = pd.read_csv(DATA_PATH + 'bandwidth.csv')\n",
    "df.head()"
   ]
  },
  {
   "cell_type": "markdown",
   "metadata": {
    "id": "Eh-CqUg0eXkq"
   },
   "source": [
    "## 시각화"
   ]
  },
  {
   "cell_type": "code",
   "execution_count": 9,
   "metadata": {
    "colab": {
     "base_uri": "https://localhost:8080/",
     "height": 483
    },
    "executionInfo": {
     "elapsed": 633,
     "status": "ok",
     "timestamp": 1729657326503,
     "user": {
      "displayName": "Ji-hoon Jung",
      "userId": "03169308685755834042"
     },
     "user_tz": -540
    },
    "id": "kgO19S1BeWRj",
    "outputId": "f7bca964-e5cc-40f0-d552-5bdbae41f0b6"
   },
   "outputs": [
    {
     "data": {
      "image/png": "[encoded data removed]",
      "text/plain": [
       "<Figure size 640x480 with 1 Axes>"
      ]
     },
     "metadata": {},
     "output_type": "display_data"
    }
   ],
   "source": [
    "import matplotlib.pyplot as plt\n",
    "\n",
    "fig, ax = plt.subplots()\n",
    "\n",
    "ax.plot(df['hourly_bandwidth'])\n",
    "ax.set_xlabel('Time')\n",
    "ax.set_ylabel('Hourly bandwith usage (MBps)')\n",
    "\n",
    "plt.xticks(\n",
    "    np.arange(0, 10000, 730),\n",
    "    ['Jan 2019', 'Feb', 'Mar', 'Apr', 'May', 'Jun', 'Jul', 'Aug', 'Sep', 'Oct', 'Nov', 'Dec', 'Jan 2020', 'Feb'])\n",
    "\n",
    "fig.autofmt_xdate()\n",
    "plt.tight_layout()\n",
    "plt.show()"
   ]
  },
  {
   "cell_type": "markdown",
   "metadata": {
    "id": "p7ZNLO4BekWX"
   },
   "source": [
    "## ADF 테스트\n",
    "- 귀무가설 : 시계열이 비정상적이다.\n",
    "- 대립가설 : 시계열이 정상적이다."
   ]
  },
  {
   "cell_type": "code",
   "execution_count": 14,
   "metadata": {
    "colab": {
     "base_uri": "https://localhost:8080/"
    },
    "executionInfo": {
     "elapsed": 348,
     "status": "ok",
     "timestamp": 1729657326842,
     "user": {
      "displayName": "Ji-hoon Jung",
      "userId": "03169308685755834042"
     },
     "user_tz": -540
    },
    "id": "P2Ay-fgCel1j",
    "outputId": "f8bffe45-358e-4efe-f8a6-479440661588"
   },
   "outputs": [
    {
     "name": "stdout",
     "output_type": "stream",
     "text": [
      "ADF Statistic: -0.8714653199451994\n",
      "p-value: 0.7972240255014788\n"
     ]
    }
   ],
   "source": [
    "ADF_result = adfuller(df['hourly_bandwidth'])\n",
    "\n",
    "print(f'ADF Statistic: {ADF_result[0]}')\n",
    "print(f'p-value: {ADF_result[1]}')"
   ]
  },
  {
   "cell_type": "markdown",
   "metadata": {
    "id": "6swWj1BYgMgH"
   },
   "source": [
    "- 1차 차분"
   ]
  },
  {
   "cell_type": "code",
   "execution_count": 16,
   "metadata": {
    "colab": {
     "base_uri": "https://localhost:8080/",
     "height": 484
    },
    "executionInfo": {
     "elapsed": 853,
     "status": "ok",
     "timestamp": 1729657328010,
     "user": {
      "displayName": "Ji-hoon Jung",
      "userId": "03169308685755834042"
     },
     "user_tz": -540
    },
    "id": "i_g-GlM4gNbj",
    "outputId": "90bcf363-04d3-4178-93e1-accf1acd2e36"
   },
   "outputs": [
    {
     "data": {
      "image/png": "[encoded data removed]",
      "text/plain": [
       "<Figure size 640x480 with 1 Axes>"
      ]
     },
     "metadata": {},
     "output_type": "display_data"
    }
   ],
   "source": [
    "import matplotlib.pyplot as plt\n",
    "\n",
    "bandwidth_diff = np.diff(df.hourly_bandwidth, n=1)\n",
    "\n",
    "fig, ax = plt.subplots()\n",
    "\n",
    "ax.plot(bandwidth_diff)\n",
    "ax.set_xlabel('Time')\n",
    "ax.set_ylabel('Hourly bandwith usage - diff (MBps)')\n",
    "\n",
    "plt.xticks(\n",
    "    np.arange(0, 10000, 730),\n",
    "    ['Jan', 'Feb', 'Mar', 'Apr', 'May', 'Jun', 'Jul', 'Aug', 'Sep', 'Oct', 'Nov', 'Dec', '2020', 'Feb'])\n",
    "\n",
    "fig.autofmt_xdate()\n",
    "plt.tight_layout()"
   ]
  },
  {
   "cell_type": "code",
   "execution_count": 17,
   "metadata": {
    "colab": {
     "base_uri": "https://localhost:8080/"
    },
    "executionInfo": {
     "elapsed": 810,
     "status": "ok",
     "timestamp": 1729657328809,
     "user": {
      "displayName": "Ji-hoon Jung",
      "userId": "03169308685755834042"
     },
     "user_tz": -540
    },
    "id": "Q6yCTDMlgV4P",
    "outputId": "5ac1e6c3-1e8d-47e3-f7bf-1b57441345ee"
   },
   "outputs": [
    {
     "name": "stdout",
     "output_type": "stream",
     "text": [
      "ADF Statistic: -20.694853863789028\n",
      "p-value: 0.0\n"
     ]
    }
   ],
   "source": [
    "ADF_result = adfuller(bandwidth_diff)\n",
    "\n",
    "print(f'ADF Statistic: {ADF_result[0]}')\n",
    "print(f'p-value: {ADF_result[1]}')"
   ]
  },
  {
   "cell_type": "markdown",
   "metadata": {
    "id": "ipFDeThWggAH"
   },
   "source": [
    "## ACF와 PACF 그래프"
   ]
  },
  {
   "cell_type": "code",
   "execution_count": 18,
   "metadata": {
    "colab": {
     "base_uri": "https://localhost:8080/",
     "height": 484
    },
    "executionInfo": {
     "elapsed": 357,
     "status": "ok",
     "timestamp": 1729657329162,
     "user": {
      "displayName": "Ji-hoon Jung",
      "userId": "03169308685755834042"
     },
     "user_tz": -540
    },
    "id": "L1AHmYlugYL2",
    "outputId": "e88df652-97cf-4af8-d5f5-8cac44fe496a"
   },
   "outputs": [
    {
     "data": {
      "image/png": "[encoded data removed]",
      "text/plain": [
       "<Figure size 640x480 with 1 Axes>"
      ]
     },
     "metadata": {},
     "output_type": "display_data"
    }
   ],
   "source": [
    "plot_acf(bandwidth_diff, lags=20);\n",
    "plt.tight_layout()"
   ]
  },
  {
   "cell_type": "code",
   "execution_count": null,
   "metadata": {
    "colab": {
     "base_uri": "https://localhost:8080/",
     "height": 484
    },
    "executionInfo": {
     "elapsed": 400,
     "status": "ok",
     "timestamp": 1729657329552,
     "user": {
      "displayName": "Ji-hoon Jung",
      "userId": "03169308685755834042"
     },
     "user_tz": -540
    },
    "id": "m0S1pvTGgi2W",
    "outputId": "66dbfd0e-dfee-4e4f-cc58-cc3b0331af43"
   },
   "outputs": [],
   "source": [
    "plot_pacf(bandwidth_diff, lags=20);\n",
    "plt.tight_layout()"
   ]
  },
  {
   "cell_type": "markdown",
   "metadata": {
    "id": "Ael1Uli3gq2W"
   },
   "source": [
    "## 훈련집합 및 테스트 집합 시각화"
   ]
  },
  {
   "cell_type": "code",
   "execution_count": null,
   "metadata": {
    "colab": {
     "base_uri": "https://localhost:8080/"
    },
    "executionInfo": {
     "elapsed": 15,
     "status": "ok",
     "timestamp": 1729657329553,
     "user": {
      "displayName": "Ji-hoon Jung",
      "userId": "03169308685755834042"
     },
     "user_tz": -540
    },
    "id": "eIM8lBsSgn--",
    "outputId": "0824389f-c9b7-45a6-8c33-40094f20fa63"
   },
   "outputs": [],
   "source": [
    "df_diff = pd.DataFrame({'bandwidth_diff': bandwidth_diff})\n",
    "\n",
    "train = df_diff[:-168]\n",
    "test = df_diff[-168:]\n",
    "\n",
    "print(len(train))\n",
    "print(len(test))"
   ]
  },
  {
   "cell_type": "code",
   "execution_count": null,
   "metadata": {
    "colab": {
     "base_uri": "https://localhost:8080/",
     "height": 788
    },
    "executionInfo": {
     "elapsed": 1182,
     "status": "ok",
     "timestamp": 1729657330724,
     "user": {
      "displayName": "Ji-hoon Jung",
      "userId": "03169308685755834042"
     },
     "user_tz": -540
    },
    "id": "J6CcuQANgvfN",
    "outputId": "48aa37b8-99da-42b3-98a5-012cd917093a"
   },
   "outputs": [],
   "source": [
    "fig, (ax1, ax2) = plt.subplots(nrows=2, ncols=1, sharex=True, figsize=(10, 8))\n",
    "\n",
    "ax1.plot(df['hourly_bandwidth'])\n",
    "ax1.set_xlabel('Time')\n",
    "ax1.set_ylabel('Hourly bandwidth usage (MBps)')\n",
    "ax1.axvspan(9831, 10000, color='#808080', alpha=0.2)\n",
    "\n",
    "ax2.plot(df_diff['bandwidth_diff'])\n",
    "ax2.set_xlabel('Time')\n",
    "ax2.set_ylabel('Hourly bandwidth - diff (MBps)')\n",
    "ax2.axvspan(9830, 9999, color='#808080', alpha=0.2)\n",
    "\n",
    "plt.xticks(\n",
    "    np.arange(0, 10000, 730),\n",
    "    ['Jan', 'Feb', 'Mar', 'Apr', 'May', 'Jun', 'Jul', 'Aug', 'Sep', 'Oct', 'Nov', 'Dec', '2020', 'Feb'])\n",
    "\n",
    "fig.autofmt_xdate()\n",
    "plt.tight_layout()\n",
    "\n",
    "plt.show()"
   ]
  },
  {
   "cell_type": "markdown",
   "metadata": {
    "id": "YwxfuYG5g1xA"
   },
   "source": [
    "## ARMA 모델 피팅"
   ]
  },
  {
   "cell_type": "code",
   "execution_count": null,
   "metadata": {
    "id": "-TD_tP-ng4L_"
   },
   "outputs": [],
   "source": [
    "from typing import Union\n",
    "\n",
    "def optimize_ARMA(endog: Union[pd.Series, list], order_list: list) -> pd.DataFrame:\n",
    "\n",
    "    results = []\n",
    "\n",
    "    for order in tqdm(order_list):\n",
    "        try:\n",
    "            model = SARIMAX(endog, order=(order[0], 0, order[1]), simple_differencing=False).fit(disp=False)\n",
    "        except:\n",
    "            continue\n",
    "\n",
    "        aic = model.aic\n",
    "        results.append([order, aic])\n",
    "\n",
    "    result_df = pd.DataFrame(results)\n",
    "    result_df.columns = ['(p,q)', 'AIC']\n",
    "\n",
    "    #Sort in ascending order, lower AIC is better\n",
    "    result_df = result_df.sort_values(by='AIC', ascending=True).reset_index(drop=True)\n",
    "\n",
    "    return result_df"
   ]
  },
  {
   "cell_type": "code",
   "execution_count": null,
   "metadata": {
    "colab": {
     "base_uri": "https://localhost:8080/",
     "height": 583,
     "referenced_widgets": [
      "92fff0b7cda14760bcbd1f117387fe87",
      "5087a8a865d7462d9e8398fa25e10783",
      "93285713cc194acda2b0309814f5cd5c",
      "2ed4e7b12ec2400b9940a81df3e07a99",
      "c1570d589c1845e2b6a8010fd93ca8af",
      "41031f9544ad4f8da11252bdede96ca1",
      "9ab7394809a44f50a50ec7609b41a086",
      "340e254a57714ae18b6e57eb40792636",
      "5006338a923946d3bd4fd5f18f853a5c",
      "1275f9a53721438c976a2a409a417b15",
      "0c6c22cae72b41fd965cc2c40489022d"
     ]
    },
    "executionInfo": {
     "elapsed": 35716,
     "status": "ok",
     "timestamp": 1729657366424,
     "user": {
      "displayName": "Ji-hoon Jung",
      "userId": "03169308685755834042"
     },
     "user_tz": -540
    },
    "id": "Nvmc5TCwg9_O",
    "outputId": "7e4a96e7-0357-408a-ef49-9ad05b482396"
   },
   "outputs": [],
   "source": [
    "ps = range(0, 4, 1)\n",
    "qs = range(0, 4, 1)\n",
    "\n",
    "order_list = list(product(ps, qs))\n",
    "result_df = optimize_ARMA(train['bandwidth_diff'], order_list)\n",
    "result_df"
   ]
  },
  {
   "cell_type": "markdown",
   "metadata": {
    "id": "1fG96GKShBxe"
   },
   "source": [
    "## 잔차 분석"
   ]
  },
  {
   "cell_type": "code",
   "execution_count": null,
   "metadata": {
    "colab": {
     "base_uri": "https://localhost:8080/"
    },
    "executionInfo": {
     "elapsed": 2504,
     "status": "ok",
     "timestamp": 1729657368912,
     "user": {
      "displayName": "Ji-hoon Jung",
      "userId": "03169308685755834042"
     },
     "user_tz": -540
    },
    "id": "wpsvNqvhhCmi",
    "outputId": "f16e354f-1a6b-43ac-ec5f-fd1b95271e46"
   },
   "outputs": [],
   "source": [
    "model = SARIMAX(train['bandwidth_diff'], order=(2,0,2), simple_differencing=False)\n",
    "model_fit = model.fit(disp=False)\n",
    "print(model_fit.summary())"
   ]
  },
  {
   "cell_type": "code",
   "execution_count": null,
   "metadata": {
    "colab": {
     "base_uri": "https://localhost:8080/",
     "height": 723
    },
    "executionInfo": {
     "elapsed": 1611,
     "status": "ok",
     "timestamp": 1729657370517,
     "user": {
      "displayName": "Ji-hoon Jung",
      "userId": "03169308685755834042"
     },
     "user_tz": -540
    },
    "id": "-NIT9gGYhFlk",
    "outputId": "04094757-fb83-4242-9ca1-a925625eacbe"
   },
   "outputs": [],
   "source": [
    "model_fit.plot_diagnostics(figsize=(10, 8));"
   ]
  },
  {
   "cell_type": "code",
   "execution_count": null,
   "metadata": {
    "id": "M6XfRVeJhIGF"
   },
   "outputs": [],
   "source": [
    "residuals = model_fit.resid"
   ]
  },
  {
   "cell_type": "code",
   "execution_count": null,
   "metadata": {
    "colab": {
     "base_uri": "https://localhost:8080/",
     "height": 363
    },
    "executionInfo": {
     "elapsed": 17,
     "status": "ok",
     "timestamp": 1729657370518,
     "user": {
      "displayName": "Ji-hoon Jung",
      "userId": "03169308685755834042"
     },
     "user_tz": -540
    },
    "id": "Xzzm7OCshK11",
    "outputId": "7fd7a00d-fc1e-462c-b824-20cfdf7b6bc4"
   },
   "outputs": [],
   "source": [
    "acorr_ljungbox(residuals, np.arange(1, 11, 1))"
   ]
  },
  {
   "cell_type": "markdown",
   "metadata": {
    "id": "5iN4hFJrhQlw"
   },
   "source": [
    "## 대역폭 사용량 예측하기"
   ]
  },
  {
   "cell_type": "code",
   "execution_count": null,
   "metadata": {
    "id": "KYY7mrjqrCAh"
   },
   "outputs": [],
   "source": [
    "def rolling_forecast(df: pd.DataFrame, train_len: int, horizon: int, window: int, method: str) -> list:\n",
    "\n",
    "    total_len = train_len + horizon\n",
    "    end_idx = train_len\n",
    "\n",
    "    if method == 'mean':\n",
    "        pred_mean = []\n",
    "\n",
    "        for i in range(train_len, total_len, window):\n",
    "            mean = np.mean(df[:i].values)\n",
    "            pred_mean.extend(mean for _ in range(window))\n",
    "\n",
    "        return pred_mean\n",
    "\n",
    "    elif method == 'last':\n",
    "        pred_last_value = []\n",
    "\n",
    "        for i in range(train_len, total_len, window):\n",
    "            last_value = df[:i].iloc[-1].values[0]\n",
    "            pred_last_value.extend(last_value for _ in range(window))\n",
    "\n",
    "        return pred_last_value\n",
    "\n",
    "    elif method == 'ARMA':\n",
    "        pred_ARMA = []\n",
    "\n",
    "        for i in range(train_len, total_len, window):\n",
    "            model = SARIMAX(df[:i], order=(2,0,2))\n",
    "            res = model.fit(disp=False)\n",
    "            predictions = res.get_prediction(0, i + window - 1)\n",
    "            oos_pred = predictions.predicted_mean.iloc[-window:]\n",
    "            pred_ARMA.extend(oos_pred)\n",
    "\n",
    "        return pred_ARMA"
   ]
  },
  {
   "cell_type": "code",
   "execution_count": null,
   "metadata": {
    "colab": {
     "base_uri": "https://localhost:8080/",
     "height": 206
    },
    "executionInfo": {
     "elapsed": 245010,
     "status": "ok",
     "timestamp": 1729657615513,
     "user": {
      "displayName": "Ji-hoon Jung",
      "userId": "03169308685755834042"
     },
     "user_tz": -540
    },
    "id": "IgYccGBCrED-",
    "outputId": "5d11fa33-a9fe-4f94-e60a-65de812e4add"
   },
   "outputs": [],
   "source": [
    "TRAIN_LEN = len(train)\n",
    "HORIZON = len(test)\n",
    "WINDOW = 2\n",
    "\n",
    "pred_mean = rolling_forecast(df_diff, TRAIN_LEN, HORIZON, WINDOW, 'mean')\n",
    "pred_last_value = rolling_forecast(df_diff, TRAIN_LEN, HORIZON, WINDOW, 'last')\n",
    "pred_ARMA = rolling_forecast(df_diff, TRAIN_LEN, HORIZON, WINDOW, 'ARMA')\n",
    "\n",
    "test.loc[:, 'pred_mean'] = pred_mean\n",
    "test.loc[:, 'pred_last_value'] = pred_last_value\n",
    "test.loc[:, 'pred_ARMA'] = pred_ARMA\n",
    "\n",
    "test.head()"
   ]
  },
  {
   "cell_type": "code",
   "execution_count": null,
   "metadata": {
    "colab": {
     "base_uri": "https://localhost:8080/",
     "height": 483
    },
    "executionInfo": {
     "elapsed": 643,
     "status": "ok",
     "timestamp": 1729657616150,
     "user": {
      "displayName": "Ji-hoon Jung",
      "userId": "03169308685755834042"
     },
     "user_tz": -540
    },
    "id": "93wT5qWQrFw-",
    "outputId": "ae94e075-3a2c-4968-8c1a-e55b69e81e84"
   },
   "outputs": [],
   "source": [
    "fig, ax = plt.subplots()\n",
    "\n",
    "ax.plot(df_diff['bandwidth_diff'])\n",
    "ax.plot(test['bandwidth_diff'], 'b-', label='actual')\n",
    "ax.plot(test['pred_mean'], 'g:', label='mean')\n",
    "ax.plot(test['pred_last_value'], 'r-.', label='last')\n",
    "ax.plot(test['pred_ARMA'], 'k--', label='ARMA(2,2)')\n",
    "\n",
    "ax.legend(loc=2)\n",
    "\n",
    "ax.set_xlabel('Time')\n",
    "ax.set_ylabel('Hourly bandwidth - diff (MBps)')\n",
    "\n",
    "ax.axvspan(9830, 9999, color='#808080', alpha=0.2)\n",
    "\n",
    "ax.set_xlim(9800, 9999)\n",
    "\n",
    "plt.xticks(\n",
    "    [9802, 9850, 9898, 9946, 9994],\n",
    "    ['2020-02-13', '2020-02-15', '2020-02-17', '2020-02-19', '2020-02-21'])\n",
    "\n",
    "fig.autofmt_xdate()\n",
    "plt.tight_layout()"
   ]
  },
  {
   "cell_type": "code",
   "execution_count": null,
   "metadata": {
    "colab": {
     "base_uri": "https://localhost:8080/"
    },
    "executionInfo": {
     "elapsed": 18,
     "status": "ok",
     "timestamp": 1729657616151,
     "user": {
      "displayName": "Ji-hoon Jung",
      "userId": "03169308685755834042"
     },
     "user_tz": -540
    },
    "id": "-YfG7NhsrNfE",
    "outputId": "8acce597-fb77-4d91-c4f7-4b1986e921e0"
   },
   "outputs": [],
   "source": [
    "mse_mean = mean_squared_error(test['bandwidth_diff'], test['pred_mean'])\n",
    "mse_last = mean_squared_error(test['bandwidth_diff'], test['pred_last_value'])\n",
    "mse_ARMA = mean_squared_error(test['bandwidth_diff'], test['pred_ARMA'])\n",
    "\n",
    "print(mse_mean, mse_last, mse_ARMA)"
   ]
  },
  {
   "cell_type": "code",
   "execution_count": null,
   "metadata": {
    "colab": {
     "base_uri": "https://localhost:8080/",
     "height": 484
    },
    "executionInfo": {
     "elapsed": 363,
     "status": "ok",
     "timestamp": 1729657616501,
     "user": {
      "displayName": "Ji-hoon Jung",
      "userId": "03169308685755834042"
     },
     "user_tz": -540
    },
    "id": "mcb0gC8QrR-1",
    "outputId": "6294e42f-3f80-46b9-d500-cea066ec1c26"
   },
   "outputs": [],
   "source": [
    "fig, ax = plt.subplots()\n",
    "\n",
    "x = ['mean', 'last_value', 'ARMA(2,2)']\n",
    "y = [mse_mean, mse_last, mse_ARMA]\n",
    "\n",
    "ax.bar(x, y, width=0.4)\n",
    "ax.set_xlabel('Methods')\n",
    "ax.set_ylabel('MSE')\n",
    "ax.set_ylim(0, 7)\n",
    "\n",
    "for index, value in enumerate(y):\n",
    "    plt.text(x=index, y=value+0.25, s=str(round(value, 2)), ha='center')\n",
    "\n",
    "plt.tight_layout()"
   ]
  },
  {
   "cell_type": "markdown",
   "metadata": {
    "id": "z7V8jYLUrLHN"
   },
   "source": [
    "# ARIMA : 비정상 시계열"
   ]
  },
  {
   "cell_type": "code",
   "execution_count": null,
   "metadata": {
    "id": "GQys0mapJE2e"
   },
   "outputs": [],
   "source": [
    "from sklearn.metrics import mean_squared_error, mean_absolute_error\n",
    "from statsmodels.graphics.tsaplots import plot_acf, plot_pacf\n",
    "from statsmodels.stats.diagnostic import acorr_ljungbox\n",
    "from statsmodels.tsa.statespace.sarimax import SARIMAX\n",
    "from statsmodels.tsa.arima_process import ArmaProcess\n",
    "from statsmodels.graphics.gofplots import qqplot\n",
    "from statsmodels.tsa.stattools import adfuller\n",
    "from tqdm.auto import tqdm\n",
    "from itertools import product\n",
    "from typing import Union\n",
    "\n",
    "import matplotlib.pyplot as plt\n",
    "import numpy as np\n",
    "import pandas as pd\n",
    "\n",
    "import warnings\n",
    "warnings.filterwarnings('ignore')\n",
    "\n",
    "%matplotlib inline"
   ]
  },
  {
   "cell_type": "markdown",
   "metadata": {
    "id": "VzUP1E22LMJA"
   },
   "source": [
    "## 데이터 수집"
   ]
  },
  {
   "cell_type": "code",
   "execution_count": null,
   "metadata": {
    "colab": {
     "base_uri": "https://localhost:8080/",
     "height": 206
    },
    "executionInfo": {
     "elapsed": 12,
     "status": "ok",
     "timestamp": 1729657616503,
     "user": {
      "displayName": "Ji-hoon Jung",
      "userId": "03169308685755834042"
     },
     "user_tz": -540
    },
    "id": "j8Ybb-TfJQs-",
    "outputId": "b5c14553-a55c-41b9-91f1-0ea0352be766"
   },
   "outputs": [],
   "source": [
    "df = pd.read_csv(DATA_PATH + 'jj.csv')\n",
    "df.head()"
   ]
  },
  {
   "cell_type": "code",
   "execution_count": null,
   "metadata": {
    "colab": {
     "base_uri": "https://localhost:8080/",
     "height": 483
    },
    "executionInfo": {
     "elapsed": 476,
     "status": "ok",
     "timestamp": 1729657616969,
     "user": {
      "displayName": "Ji-hoon Jung",
      "userId": "03169308685755834042"
     },
     "user_tz": -540
    },
    "id": "vJ7k9NbQJl00",
    "outputId": "7311faba-1486-42cb-e26b-e68e65fc1eb1"
   },
   "outputs": [],
   "source": [
    "fig, ax = plt.subplots()\n",
    "\n",
    "ax.plot(df.date, df['data'])\n",
    "ax.set_xlabel('Date')\n",
    "ax.set_ylabel('Earnings per share (USD)')\n",
    "\n",
    "plt.xticks(np.arange(0, 81, 8), [1960, 1962, 1964, 1966, 1968, 1970, 1972, 1974, 1976, 1978, 1980])\n",
    "\n",
    "fig.autofmt_xdate()\n",
    "plt.tight_layout()\n",
    "\n",
    "plt.show()"
   ]
  },
  {
   "cell_type": "markdown",
   "metadata": {
    "id": "UE5JiqU4LN7f"
   },
   "source": [
    "## 단위근 검정\n",
    "- 차분 2회 지정"
   ]
  },
  {
   "cell_type": "code",
   "execution_count": null,
   "metadata": {
    "colab": {
     "base_uri": "https://localhost:8080/"
    },
    "executionInfo": {
     "elapsed": 16,
     "status": "ok",
     "timestamp": 1729657616969,
     "user": {
      "displayName": "Ji-hoon Jung",
      "userId": "03169308685755834042"
     },
     "user_tz": -540
    },
    "id": "MMicmIKkLPle",
    "outputId": "2d901c54-7849-4082-e3e2-1b9f7754d8c1"
   },
   "outputs": [],
   "source": [
    "ad_fuller_result = adfuller(df['data'])\n",
    "\n",
    "print(f'ADF Statistic: {ad_fuller_result[0]}')\n",
    "print(f'p-value: {ad_fuller_result[1]}')"
   ]
  },
  {
   "cell_type": "code",
   "execution_count": null,
   "metadata": {
    "colab": {
     "base_uri": "https://localhost:8080/"
    },
    "executionInfo": {
     "elapsed": 10,
     "status": "ok",
     "timestamp": 1729657616969,
     "user": {
      "displayName": "Ji-hoon Jung",
      "userId": "03169308685755834042"
     },
     "user_tz": -540
    },
    "id": "mOKfiExHLRzh",
    "outputId": "bf32ed71-d5df-4874-fac3-68b87f32e17b"
   },
   "outputs": [],
   "source": [
    "eps_diff = np.diff(df['data'], n=1)\n",
    "\n",
    "ad_fuller_result = adfuller(eps_diff)\n",
    "\n",
    "print(f'ADF Statistic: {ad_fuller_result[0]}')\n",
    "print(f'p-value: {ad_fuller_result[1]}')"
   ]
  },
  {
   "cell_type": "code",
   "execution_count": null,
   "metadata": {
    "colab": {
     "base_uri": "https://localhost:8080/"
    },
    "executionInfo": {
     "elapsed": 8,
     "status": "ok",
     "timestamp": 1729657616969,
     "user": {
      "displayName": "Ji-hoon Jung",
      "userId": "03169308685755834042"
     },
     "user_tz": -540
    },
    "id": "uhq3s4sGLULH",
    "outputId": "9496f220-4987-4e3d-a3aa-ff791cec875f"
   },
   "outputs": [],
   "source": [
    "eps_diff2 = np.diff(eps_diff, n=1)\n",
    "\n",
    "ad_fuller_result = adfuller(eps_diff2)\n",
    "\n",
    "print(f'ADF Statistic: {ad_fuller_result[0]}')\n",
    "print(f'p-value: {ad_fuller_result[1]}')"
   ]
  },
  {
   "cell_type": "code",
   "execution_count": null,
   "metadata": {
    "colab": {
     "base_uri": "https://localhost:8080/",
     "height": 484
    },
    "executionInfo": {
     "elapsed": 437,
     "status": "ok",
     "timestamp": 1729657617399,
     "user": {
      "displayName": "Ji-hoon Jung",
      "userId": "03169308685755834042"
     },
     "user_tz": -540
    },
    "id": "PeHn_NPNLWP-",
    "outputId": "0712d9d5-99b7-4a01-c3ee-a255744747a2"
   },
   "outputs": [],
   "source": [
    "fig, ax = plt.subplots()\n",
    "\n",
    "ax.plot(df['date'][2:], eps_diff2)\n",
    "ax.set_xlabel('Date')\n",
    "ax.set_ylabel('Earnings per share - diff (USD)')\n",
    "\n",
    "plt.xticks(np.arange(0, 81, 8), [1960, 1962, 1964, 1966, 1968, 1970, 1972, 1974, 1976, 1978, 1980])\n",
    "\n",
    "fig.autofmt_xdate()\n",
    "plt.tight_layout()"
   ]
  },
  {
   "cell_type": "markdown",
   "metadata": {
    "id": "hviUvTAlLnzN"
   },
   "source": [
    "## 예측 구간 설정"
   ]
  },
  {
   "cell_type": "code",
   "execution_count": null,
   "metadata": {
    "colab": {
     "base_uri": "https://localhost:8080/",
     "height": 483
    },
    "executionInfo": {
     "elapsed": 717,
     "status": "ok",
     "timestamp": 1729657618110,
     "user": {
      "displayName": "Ji-hoon Jung",
      "userId": "03169308685755834042"
     },
     "user_tz": -540
    },
    "id": "IJgnX73DLot4",
    "outputId": "377164e1-6399-4f8f-bc43-a0368731a0e3"
   },
   "outputs": [],
   "source": [
    "fig, ax = plt.subplots()\n",
    "\n",
    "ax.plot(df.date, df.data)\n",
    "ax.set_xlabel('Date')\n",
    "ax.set_ylabel('Earnings per share (USD)')\n",
    "ax.axvspan(80, 83, color='#808080', alpha=0.2)\n",
    "\n",
    "plt.xticks(np.arange(0, 81, 8), [1960, 1962, 1964, 1966, 1968, 1970, 1972, 1974, 1976, 1978, 1980])\n",
    "\n",
    "fig.autofmt_xdate()\n",
    "plt.tight_layout()"
   ]
  },
  {
   "cell_type": "markdown",
   "metadata": {
    "id": "LtueIdrWLrRi"
   },
   "source": [
    "## ARIMA 최적화"
   ]
  },
  {
   "cell_type": "code",
   "execution_count": null,
   "metadata": {
    "id": "HyzaSZ01Ls36"
   },
   "outputs": [],
   "source": [
    "def optimize_ARIMA(endog: Union[pd.Series, list], order_list: list, d: int) -> pd.DataFrame:\n",
    "\n",
    "    results = []\n",
    "\n",
    "    for order in tqdm(order_list):\n",
    "        try:\n",
    "            model = SARIMAX(endog, order=(order[0], d, order[1]), simple_differencing=False).fit(disp=False)\n",
    "        except:\n",
    "            continue\n",
    "\n",
    "        aic = model.aic\n",
    "        results.append([order, aic])\n",
    "\n",
    "    result_df = pd.DataFrame(results)\n",
    "    result_df.columns = ['(p,q)', 'AIC']\n",
    "\n",
    "    #Sort in ascending order, lower AIC is better\n",
    "    result_df = result_df.sort_values(by='AIC', ascending=True).reset_index(drop=True)\n",
    "\n",
    "    return result_df"
   ]
  },
  {
   "cell_type": "markdown",
   "metadata": {
    "id": "18W4KlMeLyhv"
   },
   "source": [
    "- 조합 목록"
   ]
  },
  {
   "cell_type": "code",
   "execution_count": null,
   "metadata": {
    "id": "LC3VH6kiLvui"
   },
   "outputs": [],
   "source": [
    "ps = range(0, 4, 1)\n",
    "qs = range(0, 4, 1)\n",
    "d = 2\n",
    "\n",
    "order_list = list(product(ps, qs))"
   ]
  },
  {
   "cell_type": "markdown",
   "metadata": {
    "id": "Vvk3wdv2L0x4"
   },
   "source": [
    "- 조합 목록 결과"
   ]
  },
  {
   "cell_type": "code",
   "execution_count": null,
   "metadata": {
    "colab": {
     "base_uri": "https://localhost:8080/",
     "height": 583,
     "referenced_widgets": [
      "be69770e29464b13b2553144cf53b884",
      "22568725ec7d48b6a2f95189bf4ac7a2",
      "75bf81123455458b9db29ede76349d97",
      "bff94fb0b52d4225b5eccc4df0fedc08",
      "33a156c9f9404d0f9dbbbfcb01a4bbe9",
      "202b0c3b9f874af180e0d38964225a1a",
      "a85891d85070457385e7c12f5a090312",
      "217817d28bad44fb82a8aa9649d44a6b",
      "a5ff7345307f47b48e67ca3d9b1f4368",
      "9b9e5898e8094d28af09a41dfd930c49",
      "3373796048b24d9485601ac523e40347"
     ]
    },
    "executionInfo": {
     "elapsed": 4128,
     "status": "ok",
     "timestamp": 1729657622223,
     "user": {
      "displayName": "Ji-hoon Jung",
      "userId": "03169308685755834042"
     },
     "user_tz": -540
    },
    "id": "lmYYkobBL0X3",
    "outputId": "4b5f08c3-9413-43f3-90ac-1a9f4736f22c"
   },
   "outputs": [],
   "source": [
    "train = df['data'][:-4]\n",
    "\n",
    "result_df = optimize_ARIMA(train, order_list, d)\n",
    "result_df"
   ]
  },
  {
   "cell_type": "markdown",
   "metadata": {
    "id": "QaPLbiHpL8t5"
   },
   "source": [
    "## ARIMA 모델 적용"
   ]
  },
  {
   "cell_type": "code",
   "execution_count": null,
   "metadata": {
    "colab": {
     "base_uri": "https://localhost:8080/"
    },
    "executionInfo": {
     "elapsed": 1620,
     "status": "ok",
     "timestamp": 1729657623838,
     "user": {
      "displayName": "Ji-hoon Jung",
      "userId": "03169308685755834042"
     },
     "user_tz": -540
    },
    "id": "WuwQvFc4L4gu",
    "outputId": "f78bccbb-1051-4911-cce4-5df04f4fe916"
   },
   "outputs": [],
   "source": [
    "model = SARIMAX(train, order=(3,2,3), simple_differencing=False)\n",
    "model_fit = model.fit(disp=False)\n",
    "\n",
    "print(model_fit.summary())"
   ]
  },
  {
   "cell_type": "markdown",
   "metadata": {
    "id": "5rMMlZ_RMBww"
   },
   "source": [
    "## 모델 결과 확인\n",
    "- 왼쪽 상단 : 시간에 따른 잔차\n",
    "  + 분산이 일정하지 않음, 백색 소음과 차이 존재\n",
    "- 오른쪽 상단 : 잔차의 분포, 정규분포에 가까움\n",
    "- Q-Q 도식 : 직선적인 선 표시\n",
    "- 상관관계도 : 지연 3에서 계수가 유의함\n",
    "- 모델의 오차가 무작위적"
   ]
  },
  {
   "cell_type": "code",
   "execution_count": null,
   "metadata": {
    "colab": {
     "base_uri": "https://localhost:8080/",
     "height": 723
    },
    "executionInfo": {
     "elapsed": 1927,
     "status": "ok",
     "timestamp": 1729657625762,
     "user": {
      "displayName": "Ji-hoon Jung",
      "userId": "03169308685755834042"
     },
     "user_tz": -540
    },
    "id": "Gg9tzFeJL_PR",
    "outputId": "e549f392-a01b-4b0d-b845-2c1b04599118"
   },
   "outputs": [],
   "source": [
    "model_fit.plot_diagnostics(figsize=(10,8));"
   ]
  },
  {
   "cell_type": "markdown",
   "metadata": {
    "id": "Fo6OrgRMqQQH"
   },
   "source": []
  },
  {
   "cell_type": "markdown",
   "metadata": {
    "id": "uC8H9M1Asjq1"
   },
   "source": [
    "- 정량적 관점 테스트\n",
    "  + 모두 p값이 0.05보다 큼, 귀무가설 기각하지 않고, 백색소음과 마찬가지로 상관관계 없음"
   ]
  },
  {
   "cell_type": "code",
   "execution_count": null,
   "metadata": {
    "colab": {
     "base_uri": "https://localhost:8080/",
     "height": 363
    },
    "executionInfo": {
     "elapsed": 15,
     "status": "ok",
     "timestamp": 1729657625762,
     "user": {
      "displayName": "Ji-hoon Jung",
      "userId": "03169308685755834042"
     },
     "user_tz": -540
    },
    "id": "9mczHIsNMHO8",
    "outputId": "82b42516-5058-44cd-e72d-e372bc9d9973"
   },
   "outputs": [],
   "source": [
    "residuals = model_fit.resid\n",
    "acorr_ljungbox(residuals, np.arange(1, 11, 1))"
   ]
  },
  {
   "cell_type": "markdown",
   "metadata": {
    "id": "Q0g8792bMLXu"
   },
   "source": [
    "## 테스트"
   ]
  },
  {
   "cell_type": "code",
   "execution_count": null,
   "metadata": {
    "colab": {
     "base_uri": "https://localhost:8080/",
     "height": 174
    },
    "executionInfo": {
     "elapsed": 14,
     "status": "ok",
     "timestamp": 1729657625763,
     "user": {
      "displayName": "Ji-hoon Jung",
      "userId": "03169308685755834042"
     },
     "user_tz": -540
    },
    "id": "cvFOFiNnMMaf",
    "outputId": "f14d711c-e4ba-4ae1-cc58-f6d60356eba5"
   },
   "outputs": [],
   "source": [
    "test = df.iloc[-4:]\n",
    "\n",
    "test['naive_seasonal'] = df['data'].iloc[76:80].values\n",
    "test"
   ]
  },
  {
   "cell_type": "code",
   "execution_count": null,
   "metadata": {
    "colab": {
     "base_uri": "https://localhost:8080/",
     "height": 174
    },
    "executionInfo": {
     "elapsed": 10,
     "status": "ok",
     "timestamp": 1729657625763,
     "user": {
      "displayName": "Ji-hoon Jung",
      "userId": "03169308685755834042"
     },
     "user_tz": -540
    },
    "id": "P4SDVw6tMPGK",
    "outputId": "845ee255-9dae-4dec-a81d-8c5487507cca"
   },
   "outputs": [],
   "source": [
    "ARIMA_pred = model_fit.get_prediction(80, 83).predicted_mean\n",
    "\n",
    "test['ARIMA_pred'] = ARIMA_pred\n",
    "test"
   ]
  },
  {
   "cell_type": "markdown",
   "metadata": {
    "id": "rDrIk8LatEAE"
   },
   "source": [
    "- 파선으로 표시된 ARIMA(3, 2, 3) 모델의 예측이 1980년에 관측된 데이터와 거의 완벽하게 겹치는 것 확인"
   ]
  },
  {
   "cell_type": "code",
   "execution_count": null,
   "metadata": {
    "colab": {
     "base_uri": "https://localhost:8080/",
     "height": 484
    },
    "executionInfo": {
     "elapsed": 528,
     "status": "ok",
     "timestamp": 1729657626282,
     "user": {
      "displayName": "Ji-hoon Jung",
      "userId": "03169308685755834042"
     },
     "user_tz": -540
    },
    "id": "uiIxIQR6s-5u",
    "outputId": "d23e2f64-f63d-41b5-9d82-c7854665ded8"
   },
   "outputs": [],
   "source": [
    "fig, ax = plt.subplots()\n",
    "\n",
    "ax.plot(df['date'], df['data'])\n",
    "ax.plot(test['data'], 'b-', label='actual')\n",
    "ax.plot(test['naive_seasonal'], 'r:', label='naive seasonal')\n",
    "ax.plot(test['ARIMA_pred'], 'k--', label='ARIMA(3,2,3)')\n",
    "\n",
    "ax.set_xlabel('Date')\n",
    "ax.set_ylabel('Earnings per share (USD)')\n",
    "ax.axvspan(80, 83, color='#808080', alpha=0.2)\n",
    "\n",
    "ax.legend(loc=2)\n",
    "\n",
    "plt.xticks(np.arange(0, 81, 8), [1960, 1962, 1964, 1966, 1968, 1970, 1972, 1974, 1976, 1978, 1980])\n",
    "ax.set_xlim(60, 83)\n",
    "\n",
    "fig.autofmt_xdate()\n",
    "plt.tight_layout()"
   ]
  },
  {
   "cell_type": "markdown",
   "metadata": {
    "id": "_NP14wRltSoz"
   },
   "source": [
    "## 기존 모델과 결과 비교"
   ]
  },
  {
   "cell_type": "code",
   "execution_count": null,
   "metadata": {
    "colab": {
     "base_uri": "https://localhost:8080/"
    },
    "executionInfo": {
     "elapsed": 17,
     "status": "ok",
     "timestamp": 1729657626285,
     "user": {
      "displayName": "Ji-hoon Jung",
      "userId": "03169308685755834042"
     },
     "user_tz": -540
    },
    "id": "8T-sTue8tVtQ",
    "outputId": "b397a0b1-ce79-4591-c71f-073b0f17a241"
   },
   "outputs": [],
   "source": [
    "def mape(y_true, y_pred):\n",
    "    return np.mean(np.abs((y_true - y_pred) / y_true)) * 100\n",
    "\n",
    "mape_naive_seasonal = mape(test['data'], test['naive_seasonal'])\n",
    "mape_ARIMA = mape(test['data'], test['ARIMA_pred'])\n",
    "\n",
    "print(mape_naive_seasonal, mape_ARIMA)"
   ]
  },
  {
   "cell_type": "code",
   "execution_count": null,
   "metadata": {
    "colab": {
     "base_uri": "https://localhost:8080/",
     "height": 483
    },
    "executionInfo": {
     "elapsed": 14,
     "status": "ok",
     "timestamp": 1729657626285,
     "user": {
      "displayName": "Ji-hoon Jung",
      "userId": "03169308685755834042"
     },
     "user_tz": -540
    },
    "id": "tAZclNo1tcHm",
    "outputId": "eccd027d-6f32-41e3-8ce3-3f732a690e62"
   },
   "outputs": [],
   "source": [
    "fig, ax = plt.subplots()\n",
    "\n",
    "x = ['naive seasonal', 'ARIMA(3,2,3)']\n",
    "y = [mape_naive_seasonal, mape_ARIMA]\n",
    "\n",
    "ax.bar(x, y, width=0.4)\n",
    "ax.set_xlabel('Models')\n",
    "ax.set_ylabel('MAPE (%)')\n",
    "ax.set_ylim(0, 15)\n",
    "\n",
    "for index, value in enumerate(y):\n",
    "    plt.text(x=index, y=value + 1, s=str(round(value,2)), ha='center')\n",
    "\n",
    "plt.tight_layout()"
   ]
  },
  {
   "cell_type": "markdown",
   "metadata": {
    "id": "6k9sMub0vNbe"
   },
   "source": [
    "# SARIMA (계절성 고려)\n",
    "- 계절적 자기회귀누적이동평균 모델"
   ]
  },
  {
   "cell_type": "code",
   "execution_count": 11,
   "metadata": {
    "id": "o2GP1GSQwMpK"
   },
   "outputs": [],
   "source": [
    "from sklearn.metrics import mean_squared_error, mean_absolute_error\n",
    "from statsmodels.graphics.tsaplots import plot_acf, plot_pacf\n",
    "from statsmodels.tsa.seasonal import seasonal_decompose, STL\n",
    "from statsmodels.stats.diagnostic import acorr_ljungbox\n",
    "from statsmodels.tsa.statespace.sarimax import SARIMAX\n",
    "from statsmodels.tsa.arima_process import ArmaProcess\n",
    "from statsmodels.graphics.gofplots import qqplot\n",
    "from statsmodels.tsa.stattools import adfuller\n",
    "from tqdm.auto import tqdm\n",
    "from itertools import product\n",
    "from typing import Union\n",
    "\n",
    "import matplotlib.pyplot as plt\n",
    "import numpy as np\n",
    "import pandas as pd\n",
    "\n",
    "import warnings\n",
    "warnings.filterwarnings('ignore')\n",
    "\n",
    "%matplotlib inline"
   ]
  },
  {
   "cell_type": "markdown",
   "metadata": {
    "id": "swy-qEBQ0KeI"
   },
   "source": [
    "## 데이터 가져오기"
   ]
  },
  {
   "cell_type": "code",
   "execution_count": null,
   "metadata": {
    "colab": {
     "base_uri": "https://localhost:8080/",
     "height": 206
    },
    "executionInfo": {
     "elapsed": 632,
     "status": "ok",
     "timestamp": 1729657626906,
     "user": {
      "displayName": "Ji-hoon Jung",
      "userId": "03169308685755834042"
     },
     "user_tz": -540
    },
    "id": "VypPsm2l0OEQ",
    "outputId": "f82c13da-7ca1-4ee6-e8a5-bbe3fd1437bd"
   },
   "outputs": [],
   "source": [
    "df = pd.read_csv(DATA_PATH + 'air-passengers.csv')\n",
    "df.head()"
   ]
  },
  {
   "cell_type": "code",
   "execution_count": null,
   "metadata": {
    "colab": {
     "base_uri": "https://localhost:8080/",
     "height": 484
    },
    "executionInfo": {
     "elapsed": 14,
     "status": "ok",
     "timestamp": 1729657626906,
     "user": {
      "displayName": "Ji-hoon Jung",
      "userId": "03169308685755834042"
     },
     "user_tz": -540
    },
    "id": "177YbA-C0z8j",
    "outputId": "90583c8a-09cc-44b6-f8bb-cb12bfc21483"
   },
   "outputs": [],
   "source": [
    "fig, ax = plt.subplots()\n",
    "\n",
    "ax.plot(df['Month'], df['Passengers'])\n",
    "ax.set_xlabel('Date')\n",
    "ax.set_ylabel('Number of air passengers')\n",
    "\n",
    "plt.xticks(np.arange(0, 145, 12), np.arange(1949, 1962, 1))\n",
    "\n",
    "fig.autofmt_xdate()\n",
    "plt.tight_layout()\n",
    "\n",
    "plt.show()"
   ]
  },
  {
   "cell_type": "markdown",
   "metadata": {
    "id": "IDj6NaHA0iF1"
   },
   "source": [
    "## 계절성 데이터 확인"
   ]
  },
  {
   "cell_type": "code",
   "execution_count": null,
   "metadata": {
    "colab": {
     "base_uri": "https://localhost:8080/",
     "height": 484
    },
    "executionInfo": {
     "elapsed": 975,
     "status": "ok",
     "timestamp": 1729657627869,
     "user": {
      "displayName": "Ji-hoon Jung",
      "userId": "03169308685755834042"
     },
     "user_tz": -540
    },
    "id": "HyxMbiy28GSx",
    "outputId": "afd4499b-72f8-4e6c-abfa-acd0d4d45cde"
   },
   "outputs": [],
   "source": [
    "fig, ax = plt.subplots()\n",
    "\n",
    "ax.plot(df['Month'], df['Passengers'], markevery=np.arange(6, 145, 12), marker='o')\n",
    "ax.set_xlabel('Date')\n",
    "ax.set_ylabel('Number of air passengers')\n",
    "\n",
    "plt.xticks(np.arange(0, 145, 12), np.arange(1949, 1962, 1))\n",
    "\n",
    "fig.autofmt_xdate()\n",
    "plt.tight_layout()\n",
    "plt.show()"
   ]
  },
  {
   "cell_type": "markdown",
   "metadata": {
    "id": "lpUdmSkL9-f7"
   },
   "source": [
    "## 계절별 패턴 패턴"
   ]
  },
  {
   "cell_type": "code",
   "execution_count": null,
   "metadata": {
    "colab": {
     "base_uri": "https://localhost:8080/",
     "height": 484
    },
    "executionInfo": {
     "elapsed": 10,
     "status": "ok",
     "timestamp": 1729657627870,
     "user": {
      "displayName": "Ji-hoon Jung",
      "userId": "03169308685755834042"
     },
     "user_tz": -540
    },
    "id": "bhf_VduH-ArS",
    "outputId": "03db9c85-64d9-4473-bb6c-b80c6ea22baf"
   },
   "outputs": [],
   "source": [
    "fig, ax = plt.subplots()\n",
    "\n",
    "ax.plot(df['Month'], df['Passengers'])\n",
    "for i in np.arange(0, 145, 12):\n",
    "    ax.axvline(x=i, linestyle='--', color='black', linewidth=1)\n",
    "ax.set_xlabel('Date')\n",
    "ax.set_ylabel('Number of air passengers')\n",
    "\n",
    "plt.xticks(np.arange(0, 145, 12), np.arange(1949, 1962, 1))\n",
    "\n",
    "fig.autofmt_xdate()\n",
    "plt.tight_layout()\n",
    "\n",
    "plt.show()"
   ]
  },
  {
   "cell_type": "markdown",
   "metadata": {
    "id": "U-h7pP9n-nL7"
   },
   "source": [
    "## 시계열 분해"
   ]
  },
  {
   "cell_type": "code",
   "execution_count": null,
   "metadata": {
    "colab": {
     "base_uri": "https://localhost:8080/",
     "height": 792
    },
    "executionInfo": {
     "elapsed": 705,
     "status": "ok",
     "timestamp": 1729657628566,
     "user": {
      "displayName": "Ji-hoon Jung",
      "userId": "03169308685755834042"
     },
     "user_tz": -540
    },
    "id": "Mr2HqG2U-rQE",
    "outputId": "098e5480-3c1f-4d81-eb81-f6ec8c25599a"
   },
   "outputs": [],
   "source": [
    "decomposition = STL(df['Passengers'], period=12).fit()\n",
    "\n",
    "fig, (ax1, ax2, ax3, ax4) = plt.subplots(nrows=4, ncols=1, sharex=True, figsize=(10,8))\n",
    "\n",
    "ax1.plot(decomposition.observed)\n",
    "ax1.set_ylabel('Observed')\n",
    "\n",
    "ax2.plot(decomposition.trend)\n",
    "ax2.set_ylabel('Trend')\n",
    "\n",
    "ax3.plot(decomposition.seasonal)\n",
    "ax3.set_ylabel('Seasonal')\n",
    "\n",
    "ax4.plot(decomposition.resid)\n",
    "ax4.set_ylabel('Residuals')\n",
    "\n",
    "plt.xticks(np.arange(0, 145, 12), np.arange(1949, 1962, 1))\n",
    "\n",
    "fig.autofmt_xdate()\n",
    "plt.tight_layout()\n",
    "\n",
    "plt.show()"
   ]
  },
  {
   "cell_type": "markdown",
   "metadata": {
    "id": "OgiPZivDs7xg"
   },
   "source": [
    "- 계절성 시계열이 없는 그래프"
   ]
  },
  {
   "cell_type": "code",
   "execution_count": null,
   "metadata": {
    "colab": {
     "base_uri": "https://localhost:8080/",
     "height": 794
    },
    "executionInfo": {
     "elapsed": 532,
     "status": "ok",
     "timestamp": 1729657629091,
     "user": {
      "displayName": "Ji-hoon Jung",
      "userId": "03169308685755834042"
     },
     "user_tz": -540
    },
    "id": "_3Gz9RnAtEXr",
    "outputId": "ef6c5ccf-3b81-4e21-ee0d-5ea360bd3446"
   },
   "outputs": [],
   "source": [
    "linear_ts = np.arange(0, 144, 1)\n",
    "\n",
    "decomposition = STL(linear_ts, period=12).fit()\n",
    "\n",
    "fig, (ax1, ax2, ax3, ax4) = plt.subplots(nrows=4, ncols=1, sharex=True, figsize=(10,8))\n",
    "\n",
    "ax1.plot(decomposition.observed)\n",
    "ax1.set_ylabel('Observed')\n",
    "\n",
    "ax2.plot(decomposition.trend)\n",
    "ax2.set_ylabel('Trend')\n",
    "\n",
    "ax3.plot(decomposition.seasonal)\n",
    "ax3.set_ylabel('Seasonal')\n",
    "ax3.set_ylim(-1, 1)\n",
    "\n",
    "ax4.plot(decomposition.resid)\n",
    "ax4.set_ylabel('Residuals')\n",
    "ax4.set_ylim(-1, 1)\n",
    "\n",
    "plt.xticks(np.arange(0, 145, 12), np.arange(1949, 1962, 1))\n",
    "\n",
    "fig.autofmt_xdate()\n",
    "plt.tight_layout()\n",
    "plt.show()"
   ]
  },
  {
   "cell_type": "markdown",
   "metadata": {
    "id": "hN99vddotsvx"
   },
   "source": [
    "## ADF 테스트"
   ]
  },
  {
   "cell_type": "code",
   "execution_count": null,
   "metadata": {
    "colab": {
     "base_uri": "https://localhost:8080/"
    },
    "executionInfo": {
     "elapsed": 47,
     "status": "ok",
     "timestamp": 1729657629091,
     "user": {
      "displayName": "Ji-hoon Jung",
      "userId": "03169308685755834042"
     },
     "user_tz": -540
    },
    "id": "KtqljyIQwvHK",
    "outputId": "fa5bf71c-2df7-437c-c3af-334b077b65c7"
   },
   "outputs": [],
   "source": [
    "ad_fuller_result = adfuller(df['Passengers'])\n",
    "\n",
    "print(f'ADF Statistic: {ad_fuller_result[0]}')\n",
    "print(f'p-value: {ad_fuller_result[1]}')"
   ]
  },
  {
   "cell_type": "markdown",
   "metadata": {
    "id": "TEmA2Sm6wxuf"
   },
   "source": [
    "- 두번 차분 진행"
   ]
  },
  {
   "cell_type": "code",
   "execution_count": null,
   "metadata": {
    "colab": {
     "base_uri": "https://localhost:8080/"
    },
    "executionInfo": {
     "elapsed": 43,
     "status": "ok",
     "timestamp": 1729657629091,
     "user": {
      "displayName": "Ji-hoon Jung",
      "userId": "03169308685755834042"
     },
     "user_tz": -540
    },
    "id": "wKTZIxjQwzS7",
    "outputId": "1f3b1c32-398e-4091-b0e6-218c1315ed24"
   },
   "outputs": [],
   "source": [
    "df_diff = np.diff(df['Passengers'], n=1)\n",
    "\n",
    "ad_fuller_result = adfuller(df_diff)\n",
    "\n",
    "print(f'ADF Statistic: {ad_fuller_result[0]}')\n",
    "print(f'p-value: {ad_fuller_result[1]}')"
   ]
  },
  {
   "cell_type": "code",
   "execution_count": null,
   "metadata": {
    "colab": {
     "base_uri": "https://localhost:8080/"
    },
    "executionInfo": {
     "elapsed": 36,
     "status": "ok",
     "timestamp": 1729657629092,
     "user": {
      "displayName": "Ji-hoon Jung",
      "userId": "03169308685755834042"
     },
     "user_tz": -540
    },
    "id": "lQ6OkcoGw13T",
    "outputId": "419daa0a-0317-4e74-fdce-0ef9c9b36574"
   },
   "outputs": [],
   "source": [
    "df_diff_seasonal_diff = np.diff(df_diff, n=12)\n",
    "\n",
    "ad_fuller_result = adfuller(df_diff_seasonal_diff)\n",
    "\n",
    "print(f'ADF Statistic: {ad_fuller_result[0]}')\n",
    "print(f'p-value: {ad_fuller_result[1]}')"
   ]
  },
  {
   "cell_type": "code",
   "execution_count": null,
   "metadata": {
    "colab": {
     "base_uri": "https://localhost:8080/",
     "height": 483
    },
    "executionInfo": {
     "elapsed": 615,
     "status": "ok",
     "timestamp": 1729657629677,
     "user": {
      "displayName": "Ji-hoon Jung",
      "userId": "03169308685755834042"
     },
     "user_tz": -540
    },
    "id": "8b79GxXCxUni",
    "outputId": "7d49e6d1-cbeb-4e19-9c22-ddfc8118dad8"
   },
   "outputs": [],
   "source": [
    "fig, ax = plt.subplots()\n",
    "\n",
    "ax.plot(df['Month'][13:], df_diff_seasonal_diff)\n",
    "ax.set_xlabel('Date')\n",
    "ax.set_ylabel('Number of air passengers - diff')\n",
    "\n",
    "plt.xticks(np.arange(0, 145, 12), np.arange(1949, 1962, 1))\n",
    "\n",
    "fig.autofmt_xdate()\n",
    "plt.tight_layout()\n",
    "plt.show()"
   ]
  },
  {
   "cell_type": "markdown",
   "metadata": {
    "id": "oZhhDJA2xhX3"
   },
   "source": [
    "## 예측 구간 설정"
   ]
  },
  {
   "cell_type": "code",
   "execution_count": null,
   "metadata": {
    "colab": {
     "base_uri": "https://localhost:8080/",
     "height": 484
    },
    "executionInfo": {
     "elapsed": 552,
     "status": "ok",
     "timestamp": 1729657630222,
     "user": {
      "displayName": "Ji-hoon Jung",
      "userId": "03169308685755834042"
     },
     "user_tz": -540
    },
    "id": "18XrZAd6xjKa",
    "outputId": "ef7e9bfc-6009-4fee-bc54-844323b38acc"
   },
   "outputs": [],
   "source": [
    "fig, ax = plt.subplots()\n",
    "\n",
    "ax.plot(df['Month'], df['Passengers'])\n",
    "ax.set_xlabel('Date')\n",
    "ax.set_ylabel('Number of air passengers)')\n",
    "ax.axvspan(132, 143, color='#808080', alpha=0.2)\n",
    "\n",
    "plt.xticks(np.arange(0, 145, 12), np.arange(1949, 1962, 1))\n",
    "\n",
    "fig.autofmt_xdate()\n",
    "plt.tight_layout()\n",
    "plt.show()"
   ]
  },
  {
   "cell_type": "markdown",
   "metadata": {
    "id": "RaloBCW1w56q"
   },
   "source": [
    "## ARIMA 모델 적합\n",
    "- d = 2\n",
    "- p와 q 차수 구하기\n",
    "  + 0에서 12사이의 값 적용 (데이터 매월 측정, 계절적 요인 있음 확인)\n",
    "- 최상의 SARIMA 모델 선택하는 함수 정의\n",
    "  + 기존 ARIMA 모델 업데이트"
   ]
  },
  {
   "cell_type": "code",
   "execution_count": 12,
   "metadata": {
    "id": "e8UxOtncxNF6"
   },
   "outputs": [],
   "source": [
    "def optimize_ARIMA(endog: Union[pd.Series, list], order_list: list, d: int) -> pd.DataFrame:\n",
    "\n",
    "    results = []\n",
    "\n",
    "    for order in tqdm_notebook(order_list):\n",
    "        try:\n",
    "            model = SARIMAX(endog, order=(order[0], d, order[1]), simple_differencing=False).fit(disp=False)\n",
    "        except:\n",
    "            continue\n",
    "\n",
    "        aic = model.aic\n",
    "        results.append([order, aic])\n",
    "\n",
    "    result_df = pd.DataFrame(results)\n",
    "    result_df.columns = ['(p,q)', 'AIC']\n",
    "\n",
    "    #Sort in ascending order, lower AIC is better\n",
    "    result_df = result_df.sort_values(by='AIC', ascending=True).reset_index(drop=True)\n",
    "\n",
    "    return result_df"
   ]
  },
  {
   "cell_type": "code",
   "execution_count": 13,
   "metadata": {
    "id": "LmKIoEv9yI8m"
   },
   "outputs": [],
   "source": [
    "def optimize_SARIMA(endog: Union[pd.Series, list], order_list: list, d: int, D: int, s: int) -> pd.DataFrame:\n",
    "\n",
    "    results = []\n",
    "\n",
    "    for order in tqdm_notebook(order_list):\n",
    "        try:\n",
    "            model = SARIMAX(\n",
    "                endog,\n",
    "                order=(order[0], d, order[1]),\n",
    "                seasonal_order=(order[2], D, order[3], s),\n",
    "                simple_differencing=False).fit(disp=False)\n",
    "        except:\n",
    "            continue\n",
    "\n",
    "        aic = model.aic\n",
    "        results.append([order, aic])\n",
    "\n",
    "    result_df = pd.DataFrame(results)\n",
    "    result_df.columns = ['(p,q,P,Q)', 'AIC']\n",
    "\n",
    "    #Sort in ascending order, lower AIC is better\n",
    "    result_df = result_df.sort_values(by='AIC', ascending=True).reset_index(drop=True)\n",
    "\n",
    "    return result_df"
   ]
  },
  {
   "cell_type": "markdown",
   "metadata": {
    "id": "ETRn92n3yN_0"
   },
   "source": [
    "- 가능한 모든 조합 설정\n",
    "  + 0에서 12사이의 값 적용"
   ]
  },
  {
   "cell_type": "code",
   "execution_count": null,
   "metadata": {
    "colab": {
     "base_uri": "https://localhost:8080/"
    },
    "executionInfo": {
     "elapsed": 18,
     "status": "ok",
     "timestamp": 1729657630223,
     "user": {
      "displayName": "Ji-hoon Jung",
      "userId": "03169308685755834042"
     },
     "user_tz": -540
    },
    "id": "yM77s40TySML",
    "outputId": "80cebca1-9549-4cda-8542-5761b384f8fb"
   },
   "outputs": [],
   "source": [
    "ps = range(0, 13, 1)\n",
    "qs = range(0, 13, 1)\n",
    "Ps = [0] # 계절적 요인 없다고 가정하고 0으로 상수\n",
    "Qs = [0] # 계절적 요인 없다고 가정하고 0으로 상수\n",
    "\n",
    "d = 2 # 차분 2회\n",
    "D = 0 # 계절적 요인 없다고 가정하고 0으로 상수\n",
    "s = 12 # 빈도 슬라이드에서는 m이라고 표현\n",
    "\n",
    "ARIMA_order_list = list(product(ps, qs, Ps, Qs))\n",
    "ARIMA_order_list"
   ]
  },
  {
   "cell_type": "code",
   "execution_count": null,
   "metadata": {
    "colab": {
     "base_uri": "https://localhost:8080/",
     "height": 455,
     "referenced_widgets": [
      "e6b998cde756410294103fb0d60ae594",
      "cfde2cd6c8aa494bb510edf2ba4fb455",
      "fb2084a6d6604a3aa7ad623ab4e89975",
      "7c29d988a77a449d8885c62728a8f620",
      "55c22faaebfe47d68f6d679ca5163088",
      "0f343ed811264726bf719960ebfcec5d",
      "45d8b3ca5d664702a3a4a5cacb6e8f07",
      "a16bf7df5188443fbd7670d6dec39c8c",
      "911fc391899b43eb92a1477d8638f3f1",
      "ba53839d131c4e2b8ed218e9b5ab9753",
      "f0b9f13b839a44bf8cb86ccc340d2f90"
     ]
    },
    "executionInfo": {
     "elapsed": 300441,
     "status": "ok",
     "timestamp": 1729657930650,
     "user": {
      "displayName": "Ji-hoon Jung",
      "userId": "03169308685755834042"
     },
     "user_tz": -540
    },
    "id": "sixXdvPfykIZ",
    "outputId": "e53852ee-0336-47a0-ceb4-4f449952298c"
   },
   "outputs": [],
   "source": [
    "train = df['Passengers'][:-12]\n",
    "\n",
    "ARIMA_result_df = optimize_SARIMA(train, ARIMA_order_list, d, D, s)\n",
    "ARIMA_result_df"
   ]
  },
  {
   "cell_type": "markdown",
   "metadata": {
    "id": "RVjdZnHGyqLF"
   },
   "source": [
    "- AIC가 가장 낮은 모델은 $SARIMA(11, 2, 3)(0, 0, 0)_{12}$ 모델\n",
    "  + ARIMA(11, 2, 3) 모델과 동일"
   ]
  },
  {
   "cell_type": "markdown",
   "metadata": {
    "id": "h-9kFkPIzUze"
   },
   "source": [
    "### 잔차 분석\n",
    "- ARIMA 모델 적합 후, 잔차의 진단 도식화"
   ]
  },
  {
   "cell_type": "code",
   "execution_count": null,
   "metadata": {
    "colab": {
     "base_uri": "https://localhost:8080/"
    },
    "executionInfo": {
     "elapsed": 1587,
     "status": "ok",
     "timestamp": 1729657932219,
     "user": {
      "displayName": "Ji-hoon Jung",
      "userId": "03169308685755834042"
     },
     "user_tz": -540
    },
    "id": "QnlD8NMszmjR",
    "outputId": "9f65a18d-c526-4023-88f4-c064c186034e"
   },
   "outputs": [],
   "source": [
    "ARIMA_model = SARIMAX(train, order=(11,2,3), simple_differencing=False)\n",
    "ARIMA_model_fit = ARIMA_model.fit(disp=False)\n",
    "\n",
    "print(ARIMA_model_fit.summary())"
   ]
  },
  {
   "cell_type": "code",
   "execution_count": null,
   "metadata": {
    "colab": {
     "base_uri": "https://localhost:8080/",
     "height": 723
    },
    "executionInfo": {
     "elapsed": 1616,
     "status": "ok",
     "timestamp": 1729657933829,
     "user": {
      "displayName": "Ji-hoon Jung",
      "userId": "03169308685755834042"
     },
     "user_tz": -540
    },
    "id": "wo9uToaj0ICG",
    "outputId": "6a9eecf1-4865-460a-b49c-0884f8b88b1c"
   },
   "outputs": [],
   "source": [
    "ARIMA_model_fit.plot_diagnostics(figsize=(10,8));"
   ]
  },
  {
   "cell_type": "markdown",
   "metadata": {
    "id": "KYfLAbEK08WO"
   },
   "source": [
    "- 융-박스 테스트\n",
    "  + 처음 두 값을 제외하고 모두 0.05보다 큼\n",
    "  + 지연3부터 상관관계가 없다는 결론 내림"
   ]
  },
  {
   "cell_type": "code",
   "execution_count": null,
   "metadata": {
    "colab": {
     "base_uri": "https://localhost:8080/",
     "height": 363
    },
    "executionInfo": {
     "elapsed": 45,
     "status": "ok",
     "timestamp": 1729657933830,
     "user": {
      "displayName": "Ji-hoon Jung",
      "userId": "03169308685755834042"
     },
     "user_tz": -540
    },
    "id": "MG86AUmj05AA",
    "outputId": "e02b3073-685a-4452-9a4c-f64f32dd585a"
   },
   "outputs": [],
   "source": [
    "residuals = ARIMA_model_fit.resid\n",
    "acorr_ljungbox(residuals, np.arange(1, 11, 1))"
   ]
  },
  {
   "cell_type": "markdown",
   "metadata": {
    "id": "dn2wcnu017Ru"
   },
   "source": [
    "### 예측 테스트\n",
    "- 단순한 계절 예측\n",
    "- ARIMA 모델 예측"
   ]
  },
  {
   "cell_type": "code",
   "execution_count": null,
   "metadata": {
    "colab": {
     "base_uri": "https://localhost:8080/",
     "height": 425
    },
    "executionInfo": {
     "elapsed": 43,
     "status": "ok",
     "timestamp": 1729657933830,
     "user": {
      "displayName": "Ji-hoon Jung",
      "userId": "03169308685755834042"
     },
     "user_tz": -540
    },
    "id": "4scyMVxt2KZI",
    "outputId": "6fece590-94e3-4cdc-91e5-84f5b054b849"
   },
   "outputs": [],
   "source": [
    "test = df.iloc[-12:]\n",
    "\n",
    "test['naive_seasonal'] = df['Passengers'].iloc[120:132].values\n",
    "ARIMA_pred = ARIMA_model_fit.get_prediction(132, 143).predicted_mean\n",
    "\n",
    "test['ARIMA_pred'] = ARIMA_pred\n",
    "test"
   ]
  },
  {
   "cell_type": "markdown",
   "metadata": {
    "id": "RlJ8Flfm00Yc"
   },
   "source": [
    "## SARIMA 모델 적합"
   ]
  },
  {
   "cell_type": "markdown",
   "metadata": {
    "id": "JfsCsGEY26IT"
   },
   "source": [
    "### ADF 확인"
   ]
  },
  {
   "cell_type": "code",
   "execution_count": null,
   "metadata": {
    "colab": {
     "base_uri": "https://localhost:8080/"
    },
    "executionInfo": {
     "elapsed": 42,
     "status": "ok",
     "timestamp": 1729657933831,
     "user": {
      "displayName": "Ji-hoon Jung",
      "userId": "03169308685755834042"
     },
     "user_tz": -540
    },
    "id": "-dpooNLf29pg",
    "outputId": "0a763463-ef6f-40d3-8a90-64329b492461"
   },
   "outputs": [],
   "source": [
    "ad_fuller_result = adfuller(df['Passengers'])\n",
    "\n",
    "print(f'ADF Statistic: {ad_fuller_result[0]}')\n",
    "print(f'p-value: {ad_fuller_result[1]}')"
   ]
  },
  {
   "cell_type": "code",
   "execution_count": null,
   "metadata": {
    "colab": {
     "base_uri": "https://localhost:8080/"
    },
    "executionInfo": {
     "elapsed": 43,
     "status": "ok",
     "timestamp": 1729657933838,
     "user": {
      "displayName": "Ji-hoon Jung",
      "userId": "03169308685755834042"
     },
     "user_tz": -540
    },
    "id": "nrlPnSEu3LDi",
    "outputId": "658c95d4-698a-4cb5-e2fa-0ca4620e902a"
   },
   "outputs": [],
   "source": [
    "df_diff = np.diff(df['Passengers'], n=1)\n",
    "\n",
    "ad_fuller_result = adfuller(df_diff)\n",
    "\n",
    "print(f'ADF Statistic: {ad_fuller_result[0]}')\n",
    "print(f'p-value: {ad_fuller_result[1]}')"
   ]
  },
  {
   "cell_type": "code",
   "execution_count": null,
   "metadata": {
    "colab": {
     "base_uri": "https://localhost:8080/"
    },
    "executionInfo": {
     "elapsed": 39,
     "status": "ok",
     "timestamp": 1729657933838,
     "user": {
      "displayName": "Ji-hoon Jung",
      "userId": "03169308685755834042"
     },
     "user_tz": -540
    },
    "id": "yzLs_I5W3OaD",
    "outputId": "56057c33-8d85-453d-bbc2-dab4bbe9eeca"
   },
   "outputs": [],
   "source": [
    "df_diff_seasonal_diff = np.diff(df_diff, n=12)\n",
    "\n",
    "ad_fuller_result = adfuller(df_diff_seasonal_diff)\n",
    "\n",
    "print(f'ADF Statistic: {ad_fuller_result[0]}')\n",
    "print(f'p-value: {ad_fuller_result[1]}')"
   ]
  },
  {
   "cell_type": "markdown",
   "metadata": {
    "id": "Gj1DnWp03PrR"
   },
   "source": [
    "### SARIMA 모델 적합\n",
    "- 한 번의 차분, d = 1과 한번의 계절적 차분 D = 1 수행"
   ]
  },
  {
   "cell_type": "code",
   "execution_count": null,
   "metadata": {
    "colab": {
     "base_uri": "https://localhost:8080/",
     "height": 455,
     "referenced_widgets": [
      "10417b939c7745d2addd69d2b79bcbd7",
      "a282922e29c842ec9ee7e263fab15cf3",
      "a1cc56e6d61441ccacd7f530c31c0916",
      "ec977166c89749628d3813e70e402b2c",
      "41abd5cca3dc4820847d014a98bede18",
      "8e18912192f24b20a369c7bc87b17a78",
      "a757a7b246f54260917969971f9571a7",
      "3a15f8718644473b9f915685630b0b4c",
      "8f23a02bb939480daeb273feeb8f541b",
      "624ab93ca82b43c7a86db3d70098845b",
      "6c20b7444b3246979c01c7a2480435e1"
     ]
    },
    "executionInfo": {
     "elapsed": 1230087,
     "status": "ok",
     "timestamp": 1729659163895,
     "user": {
      "displayName": "Ji-hoon Jung",
      "userId": "03169308685755834042"
     },
     "user_tz": -540
    },
    "id": "4QkTxSto3TVE",
    "outputId": "47bfc119-d1e8-4a06-aec7-965ee813fdc7"
   },
   "outputs": [],
   "source": [
    "ps = range(0, 4, 1)\n",
    "qs = range(0, 4, 1)\n",
    "Ps = range(0, 4, 1)\n",
    "Qs = range(0, 4, 1)\n",
    "\n",
    "SARIMA_order_list = list(product(ps, qs, Ps, Qs))\n",
    "\n",
    "train = df['Passengers'][:-12]\n",
    "\n",
    "d = 1\n",
    "D = 1\n",
    "s = 12\n",
    "\n",
    "SARIMA_result_df = optimize_SARIMA(train, SARIMA_order_list, d, D, s)\n",
    "SARIMA_result_df"
   ]
  },
  {
   "cell_type": "markdown",
   "metadata": {
    "id": "h55fhPuD3sdf"
   },
   "source": [
    "- AIC가 가장 낮은 모델은 $SARIMA(2, 1, 1)(1, 1, 2)_{12}$ 모델"
   ]
  },
  {
   "cell_type": "code",
   "execution_count": null,
   "metadata": {
    "colab": {
     "base_uri": "https://localhost:8080/"
    },
    "executionInfo": {
     "elapsed": 7019,
     "status": "ok",
     "timestamp": 1729659170906,
     "user": {
      "displayName": "Ji-hoon Jung",
      "userId": "03169308685755834042"
     },
     "user_tz": -540
    },
    "id": "yM5jqKqC2mBw",
    "outputId": "12628e55-3838-4e1d-d258-1c296550bdb6"
   },
   "outputs": [],
   "source": [
    "SARIMA_model = SARIMAX(train, order=(2,1,1), seasonal_order=(1,1,2,12), simple_differencing=False)\n",
    "SARIMA_model_fit = SARIMA_model.fit(disp=False)\n",
    "\n",
    "print(SARIMA_model_fit.summary())"
   ]
  },
  {
   "cell_type": "markdown",
   "metadata": {
    "id": "TgDE5kTo7mum"
   },
   "source": [
    "## 잔차 분석"
   ]
  },
  {
   "cell_type": "code",
   "execution_count": null,
   "metadata": {
    "colab": {
     "base_uri": "https://localhost:8080/",
     "height": 723
    },
    "executionInfo": {
     "elapsed": 1566,
     "status": "ok",
     "timestamp": 1729659172466,
     "user": {
      "displayName": "Ji-hoon Jung",
      "userId": "03169308685755834042"
     },
     "user_tz": -540
    },
    "id": "gPmyELty71Pl",
    "outputId": "3cd4a37f-086b-466f-861e-1d39456b1099"
   },
   "outputs": [],
   "source": [
    "SARIMA_model_fit.plot_diagnostics(figsize=(10,8));"
   ]
  },
  {
   "cell_type": "code",
   "execution_count": null,
   "metadata": {
    "colab": {
     "base_uri": "https://localhost:8080/",
     "height": 363
    },
    "executionInfo": {
     "elapsed": 26,
     "status": "ok",
     "timestamp": 1729659172466,
     "user": {
      "displayName": "Ji-hoon Jung",
      "userId": "03169308685755834042"
     },
     "user_tz": -540
    },
    "id": "N7GaiuyV7v8y",
    "outputId": "6d90864e-51ee-49b2-dbdc-c013ccc3835e"
   },
   "outputs": [],
   "source": [
    "residuals = SARIMA_model_fit.resid\n",
    "acorr_ljungbox(residuals, np.arange(1, 11, 1))"
   ]
  },
  {
   "cell_type": "markdown",
   "metadata": {
    "id": "Y4H9gWXc7yCf"
   },
   "source": [
    "## 예측 테스트"
   ]
  },
  {
   "cell_type": "code",
   "execution_count": null,
   "metadata": {
    "id": "B7Kcp0sv-P02"
   },
   "outputs": [],
   "source": [
    "SARIMA_pred = SARIMA_model_fit.get_prediction(132, 143).predicted_mean\n",
    "test['SARIMA_pred'] = SARIMA_pred"
   ]
  },
  {
   "cell_type": "code",
   "execution_count": null,
   "metadata": {
    "colab": {
     "base_uri": "https://localhost:8080/",
     "height": 483
    },
    "executionInfo": {
     "elapsed": 21,
     "status": "ok",
     "timestamp": 1729659172466,
     "user": {
      "displayName": "Ji-hoon Jung",
      "userId": "03169308685755834042"
     },
     "user_tz": -540
    },
    "id": "-EQEoQHW-UWQ",
    "outputId": "999ea55d-6698-4e22-b847-8088488a3955"
   },
   "outputs": [],
   "source": [
    "fig, ax = plt.subplots()\n",
    "\n",
    "ax.plot(df['Month'], df['Passengers'])\n",
    "ax.plot(test['Passengers'], 'b-', label='actual')\n",
    "ax.plot(test['naive_seasonal'], 'r:', label='naive seasonal')\n",
    "ax.plot(test['ARIMA_pred'], 'k--', label='ARIMA(11,2,3)')\n",
    "ax.plot(test['SARIMA_pred'], 'g-.', label='SARIMA(2,1,1)(1,1,2,12)')\n",
    "\n",
    "ax.set_xlabel('Date')\n",
    "ax.set_ylabel('Number of air passengers')\n",
    "ax.axvspan(132, 143, color='#808080', alpha=0.2)\n",
    "\n",
    "ax.legend(loc=2)\n",
    "\n",
    "plt.xticks(np.arange(0, 145, 12), np.arange(1949, 1962, 1))\n",
    "ax.set_xlim(120, 143)\n",
    "\n",
    "fig.autofmt_xdate()\n",
    "plt.tight_layout()\n",
    "plt.show()"
   ]
  },
  {
   "cell_type": "markdown",
   "metadata": {
    "id": "Vl8c2qmc-dsm"
   },
   "source": [
    "## 기본 모델과 결과 비교"
   ]
  },
  {
   "cell_type": "code",
   "execution_count": null,
   "metadata": {
    "colab": {
     "base_uri": "https://localhost:8080/"
    },
    "executionInfo": {
     "elapsed": 18,
     "status": "ok",
     "timestamp": 1729659172466,
     "user": {
      "displayName": "Ji-hoon Jung",
      "userId": "03169308685755834042"
     },
     "user_tz": -540
    },
    "id": "iaR1NxAt-fvX",
    "outputId": "86a3aae7-48c7-4466-8e9c-e68d89358fd1"
   },
   "outputs": [],
   "source": [
    "def mape(y_true, y_pred):\n",
    "    return np.mean(np.abs((y_true - y_pred) / y_true)) * 100\n",
    "\n",
    "mape_naive_seasonal = mape(test['Passengers'], test['naive_seasonal'])\n",
    "mape_ARIMA = mape(test['Passengers'], test['ARIMA_pred'])\n",
    "mape_SARIMA = mape(test['Passengers'], test['SARIMA_pred'])\n",
    "\n",
    "print(mape_naive_seasonal, mape_ARIMA, mape_SARIMA)"
   ]
  },
  {
   "cell_type": "code",
   "execution_count": null,
   "metadata": {
    "colab": {
     "base_uri": "https://localhost:8080/"
    },
    "executionInfo": {
     "elapsed": 391,
     "status": "ok",
     "timestamp": 1729659172844,
     "user": {
      "displayName": "Ji-hoon Jung",
      "userId": "03169308685755834042"
     },
     "user_tz": -540
    },
    "id": "9zhpU_BI-ikY",
    "outputId": "29133223-e7b0-48a0-fa40-26984d4217d5"
   },
   "outputs": [],
   "source": [
    "fig, ax = plt.subplots()\n",
    "\n",
    "x = ['naive seasonal', 'ARIMA(11,2,3)', 'SARIMA(2,1,1)(1,1,2,12)']\n",
    "y = [mape_naive_seasonal, mape_ARIMA, mape_SARIMA]\n",
    "\n",
    "ax.bar(x, y, width=0.4)\n",
    "ax.set_xlabel('Models')\n",
    "ax.set_ylabel('MAPE (%)')\n",
    "ax.set_ylim(0, 15)\n",
    "\n",
    "for index, value in enumerate(y):\n",
    "    plt.text(x=index, y=value + 1, s=str(round(value,2)), ha='center')\n",
    "\n",
    "plt.tight_layout()\n",
    "plt.show()"
   ]
  },
  {
   "cell_type": "markdown",
   "metadata": {
    "id": "YfhMW5CIA5nv"
   },
   "source": [
    "# SARIMAX : 외생변수 추가"
   ]
  },
  {
   "cell_type": "code",
   "execution_count": null,
   "metadata": {
    "id": "gRIO1WLiA9Qu"
   },
   "outputs": [],
   "source": [
    "from sklearn.metrics import mean_squared_error, mean_absolute_error\n",
    "from statsmodels.graphics.tsaplots import plot_acf, plot_pacf\n",
    "from statsmodels.tsa.seasonal import seasonal_decompose, STL\n",
    "from statsmodels.stats.diagnostic import acorr_ljungbox\n",
    "from statsmodels.tsa.statespace.sarimax import SARIMAX\n",
    "from statsmodels.tsa.arima_process import ArmaProcess\n",
    "from statsmodels.graphics.gofplots import qqplot\n",
    "from statsmodels.tsa.stattools import adfuller\n",
    "from tqdm.auto import tqdm\n",
    "from itertools import product\n",
    "from typing import Union\n",
    "\n",
    "import matplotlib.pyplot as plt\n",
    "import statsmodels.api as sm\n",
    "import pandas as pd\n",
    "import numpy as np\n",
    "\n",
    "import warnings\n",
    "warnings.filterwarnings('ignore')\n",
    "\n",
    "%matplotlib inline"
   ]
  },
  {
   "cell_type": "markdown",
   "metadata": {
    "id": "EOSSejg5BGj6"
   },
   "source": [
    "## GDP 데이터\n",
    "- realgdp : 실질 GDP (목표 변수 또는 내생 변수)\n",
    "- realcons : 실질 개인 소비 지출\n",
    "- realinv : 실질 국내 총 민간 투자\n",
    "- realgovt : 실질 연방 소비 지출 및 투자\n",
    "- realdpi : 실질 민간 가처분 소득\n",
    "- cpi : 분기 말 소비자물가지수\n",
    "- m1 : M1 명목 통화량\n",
    "- tbilrate : 3개월 만기 국채의 분기별 월평균 금리\n",
    "- unemp : 실업률\n",
    "- pop : 분기 말 총 인구\n",
    "- infl : 인플레이션율\n",
    "- realint : 실질 이자율"
   ]
  },
  {
   "cell_type": "code",
   "execution_count": null,
   "metadata": {
    "colab": {
     "base_uri": "https://localhost:8080/"
    },
    "executionInfo": {
     "elapsed": 17,
     "status": "ok",
     "timestamp": 1729659173597,
     "user": {
      "displayName": "Ji-hoon Jung",
      "userId": "03169308685755834042"
     },
     "user_tz": -540
    },
    "id": "FiZaCWkrBIyO",
    "outputId": "2fc1abee-fb67-42ba-c667-eaea6cba78fb"
   },
   "outputs": [],
   "source": [
    "macro_econ_data = sm.datasets.macrodata.load_pandas().data\n",
    "macro_econ_data"
   ]
  },
  {
   "cell_type": "code",
   "execution_count": null,
   "metadata": {
    "colab": {
     "base_uri": "https://localhost:8080/"
    },
    "executionInfo": {
     "elapsed": 478,
     "status": "ok",
     "timestamp": 1729659175918,
     "user": {
      "displayName": "Ji-hoon Jung",
      "userId": "03169308685755834042"
     },
     "user_tz": -540
    },
    "id": "NrWWFxlSrqx-",
    "outputId": "12307183-3355-4e06-b238-64986a19cb93"
   },
   "outputs": [],
   "source": [
    "fig, ax = plt.subplots()\n",
    "\n",
    "ax.plot(macro_econ_data['realgdp'])\n",
    "ax.set_xlabel('Date')\n",
    "ax.set_ylabel('Real GDP (k$)')\n",
    "\n",
    "plt.xticks(np.arange(0, 208, 16), np.arange(1959, 2010, 4))\n",
    "\n",
    "fig.autofmt_xdate()\n",
    "plt.tight_layout()\n",
    "\n",
    "plt.show()"
   ]
  }
 ],
 "metadata": {
  "colab": {
   "authorship_tag": "ABX9TyMFGmzhVDCpxhA55CnHCs1C",
   "provenance": [],
   "toc_visible": true
  },
  "kernelspec": {
   "display_name": "Python 3 (ipykernel)",
   "language": "python",
   "name": "python3"
  },
  "language_info": {
   "codemirror_mode": {
    "name": "ipython",
    "version": 3
   },
   "file_extension": ".py",
   "mimetype": "text/x-python",
   "name": "python",
   "nbconvert_exporter": "python",
   "pygments_lexer": "ipython3",
   "version": "3.11.12"
  },
  "widgets": {
   "application/vnd.jupyter.widget-state+json": {
    "0c1309868ee4475bb89e39fb886ac0e4": {
     "model_module": "@jupyter-widgets/base",
     "model_module_version": "1.2.0",
     "model_name": "LayoutModel",
     "state": {
      "_model_module": "@jupyter-widgets/base",
      "_model_module_version": "1.2.0",
      "_model_name": "LayoutModel",
      "_view_count": null,
      "_view_module": "@jupyter-widgets/base",
      "_view_module_version": "1.2.0",
      "_view_name": "LayoutView",
      "align_content": null,
      "align_items": null,
      "align_self": null,
      "border": null,
      "bottom": null,
      "display": null,
      "flex": null,
      "flex_flow": null,
      "grid_area": null,
      "grid_auto_columns": null,
      "grid_auto_flow": null,
      "grid_auto_rows": null,
      "grid_column": null,
      "grid_gap": null,
      "grid_row": null,
      "grid_template_areas": null,
      "grid_template_columns": null,
      "grid_template_rows": null,
      "height": null,
      "justify_content": null,
      "justify_items": null,
      "left": null,
      "margin": null,
      "max_height": null,
      "max_width": null,
      "min_height": null,
      "min_width": null,
      "object_fit": null,
      "object_position": null,
      "order": null,
      "overflow": null,
      "overflow_x": null,
      "overflow_y": null,
      "padding": null,
      "right": null,
      "top": null,
      "visibility": null,
      "width": null
     }
    },
    "0c6c22cae72b41fd965cc2c40489022d": {
     "model_module": "@jupyter-widgets/controls",
     "model_module_version": "1.5.0",
     "model_name": "DescriptionStyleModel",
     "state": {
      "_model_module": "@jupyter-widgets/controls",
      "_model_module_version": "1.5.0",
      "_model_name": "DescriptionStyleModel",
      "_view_count": null,
      "_view_module": "@jupyter-widgets/base",
      "_view_module_version": "1.2.0",
      "_view_name": "StyleView",
      "description_width": ""
     }
    },
    "0f343ed811264726bf719960ebfcec5d": {
     "model_module": "@jupyter-widgets/base",
     "model_module_version": "1.2.0",
     "model_name": "LayoutModel",
     "state": {
      "_model_module": "@jupyter-widgets/base",
      "_model_module_version": "1.2.0",
      "_model_name": "LayoutModel",
      "_view_count": null,
      "_view_module": "@jupyter-widgets/base",
      "_view_module_version": "1.2.0",
      "_view_name": "LayoutView",
      "align_content": null,
      "align_items": null,
      "align_self": null,
      "border": null,
      "bottom": null,
      "display": null,
      "flex": null,
      "flex_flow": null,
      "grid_area": null,
      "grid_auto_columns": null,
      "grid_auto_flow": null,
      "grid_auto_rows": null,
      "grid_column": null,
      "grid_gap": null,
      "grid_row": null,
      "grid_template_areas": null,
      "grid_template_columns": null,
      "grid_template_rows": null,
      "height": null,
      "justify_content": null,
      "justify_items": null,
      "left": null,
      "margin": null,
      "max_height": null,
      "max_width": null,
      "min_height": null,
      "min_width": null,
      "object_fit": null,
      "object_position": null,
      "order": null,
      "overflow": null,
      "overflow_x": null,
      "overflow_y": null,
      "padding": null,
      "right": null,
      "top": null,
      "visibility": null,
      "width": null
     }
    },
    "10417b939c7745d2addd69d2b79bcbd7": {
     "model_module": "@jupyter-widgets/controls",
     "model_module_version": "1.5.0",
     "model_name": "HBoxModel",
     "state": {
      "_dom_classes": [],
      "_model_module": "@jupyter-widgets/controls",
      "_model_module_version": "1.5.0",
      "_model_name": "HBoxModel",
      "_view_count": null,
      "_view_module": "@jupyter-widgets/controls",
      "_view_module_version": "1.5.0",
      "_view_name": "HBoxView",
      "box_style": "",
      "children": [
       "IPY_MODEL_a282922e29c842ec9ee7e263fab15cf3",
       "IPY_MODEL_a1cc56e6d61441ccacd7f530c31c0916",
       "IPY_MODEL_ec977166c89749628d3813e70e402b2c"
      ],
      "layout": "IPY_MODEL_41abd5cca3dc4820847d014a98bede18"
     }
    },
    "1275f9a53721438c976a2a409a417b15": {
     "model_module": "@jupyter-widgets/base",
     "model_module_version": "1.2.0",
     "model_name": "LayoutModel",
     "state": {
      "_model_module": "@jupyter-widgets/base",
      "_model_module_version": "1.2.0",
      "_model_name": "LayoutModel",
      "_view_count": null,
      "_view_module": "@jupyter-widgets/base",
      "_view_module_version": "1.2.0",
      "_view_name": "LayoutView",
      "align_content": null,
      "align_items": null,
      "align_self": null,
      "border": null,
      "bottom": null,
      "display": null,
      "flex": null,
      "flex_flow": null,
      "grid_area": null,
      "grid_auto_columns": null,
      "grid_auto_flow": null,
      "grid_auto_rows": null,
      "grid_column": null,
      "grid_gap": null,
      "grid_row": null,
      "grid_template_areas": null,
      "grid_template_columns": null,
      "grid_template_rows": null,
      "height": null,
      "justify_content": null,
      "justify_items": null,
      "left": null,
      "margin": null,
      "max_height": null,
      "max_width": null,
      "min_height": null,
      "min_width": null,
      "object_fit": null,
      "object_position": null,
      "order": null,
      "overflow": null,
      "overflow_x": null,
      "overflow_y": null,
      "padding": null,
      "right": null,
      "top": null,
      "visibility": null,
      "width": null
     }
    },
    "202b0c3b9f874af180e0d38964225a1a": {
     "model_module": "@jupyter-widgets/base",
     "model_module_version": "1.2.0",
     "model_name": "LayoutModel",
     "state": {
      "_model_module": "@jupyter-widgets/base",
      "_model_module_version": "1.2.0",
      "_model_name": "LayoutModel",
      "_view_count": null,
      "_view_module": "@jupyter-widgets/base",
      "_view_module_version": "1.2.0",
      "_view_name": "LayoutView",
      "align_content": null,
      "align_items": null,
      "align_self": null,
      "border": null,
      "bottom": null,
      "display": null,
      "flex": null,
      "flex_flow": null,
      "grid_area": null,
      "grid_auto_columns": null,
      "grid_auto_flow": null,
      "grid_auto_rows": null,
      "grid_column": null,
      "grid_gap": null,
      "grid_row": null,
      "grid_template_areas": null,
      "grid_template_columns": null,
      "grid_template_rows": null,
      "height": null,
      "justify_content": null,
      "justify_items": null,
      "left": null,
      "margin": null,
      "max_height": null,
      "max_width": null,
      "min_height": null,
      "min_width": null,
      "object_fit": null,
      "object_position": null,
      "order": null,
      "overflow": null,
      "overflow_x": null,
      "overflow_y": null,
      "padding": null,
      "right": null,
      "top": null,
      "visibility": null,
      "width": null
     }
    },
    "217817d28bad44fb82a8aa9649d44a6b": {
     "model_module": "@jupyter-widgets/base",
     "model_module_version": "1.2.0",
     "model_name": "LayoutModel",
     "state": {
      "_model_module": "@jupyter-widgets/base",
      "_model_module_version": "1.2.0",
      "_model_name": "LayoutModel",
      "_view_count": null,
      "_view_module": "@jupyter-widgets/base",
      "_view_module_version": "1.2.0",
      "_view_name": "LayoutView",
      "align_content": null,
      "align_items": null,
      "align_self": null,
      "border": null,
      "bottom": null,
      "display": null,
      "flex": null,
      "flex_flow": null,
      "grid_area": null,
      "grid_auto_columns": null,
      "grid_auto_flow": null,
      "grid_auto_rows": null,
      "grid_column": null,
      "grid_gap": null,
      "grid_row": null,
      "grid_template_areas": null,
      "grid_template_columns": null,
      "grid_template_rows": null,
      "height": null,
      "justify_content": null,
      "justify_items": null,
      "left": null,
      "margin": null,
      "max_height": null,
      "max_width": null,
      "min_height": null,
      "min_width": null,
      "object_fit": null,
      "object_position": null,
      "order": null,
      "overflow": null,
      "overflow_x": null,
      "overflow_y": null,
      "padding": null,
      "right": null,
      "top": null,
      "visibility": null,
      "width": null
     }
    },
    "22568725ec7d48b6a2f95189bf4ac7a2": {
     "model_module": "@jupyter-widgets/controls",
     "model_module_version": "1.5.0",
     "model_name": "HTMLModel",
     "state": {
      "_dom_classes": [],
      "_model_module": "@jupyter-widgets/controls",
      "_model_module_version": "1.5.0",
      "_model_name": "HTMLModel",
      "_view_count": null,
      "_view_module": "@jupyter-widgets/controls",
      "_view_module_version": "1.5.0",
      "_view_name": "HTMLView",
      "description": "",
      "description_tooltip": null,
      "layout": "IPY_MODEL_202b0c3b9f874af180e0d38964225a1a",
      "placeholder": "​",
      "style": "IPY_MODEL_a85891d85070457385e7c12f5a090312",
      "value": "100%"
     }
    },
    "234035b9a74b463e985b52f8b13fd3e5": {
     "model_module": "@jupyter-widgets/controls",
     "model_module_version": "1.5.0",
     "model_name": "HTMLModel",
     "state": {
      "_dom_classes": [],
      "_model_module": "@jupyter-widgets/controls",
      "_model_module_version": "1.5.0",
      "_model_name": "HTMLModel",
      "_view_count": null,
      "_view_module": "@jupyter-widgets/controls",
      "_view_module_version": "1.5.0",
      "_view_name": "HTMLView",
      "description": "",
      "description_tooltip": null,
      "layout": "IPY_MODEL_aa59124c6ce445359db389065e4dfdc5",
      "placeholder": "​",
      "style": "IPY_MODEL_e8476e877abf43b280247e6ee893cf23",
      "value": "100%"
     }
    },
    "289adaba50f14d5f9d71d1100cb0d95c": {
     "model_module": "@jupyter-widgets/base",
     "model_module_version": "1.2.0",
     "model_name": "LayoutModel",
     "state": {
      "_model_module": "@jupyter-widgets/base",
      "_model_module_version": "1.2.0",
      "_model_name": "LayoutModel",
      "_view_count": null,
      "_view_module": "@jupyter-widgets/base",
      "_view_module_version": "1.2.0",
      "_view_name": "LayoutView",
      "align_content": null,
      "align_items": null,
      "align_self": null,
      "border": null,
      "bottom": null,
      "display": null,
      "flex": null,
      "flex_flow": null,
      "grid_area": null,
      "grid_auto_columns": null,
      "grid_auto_flow": null,
      "grid_auto_rows": null,
      "grid_column": null,
      "grid_gap": null,
      "grid_row": null,
      "grid_template_areas": null,
      "grid_template_columns": null,
      "grid_template_rows": null,
      "height": null,
      "justify_content": null,
      "justify_items": null,
      "left": null,
      "margin": null,
      "max_height": null,
      "max_width": null,
      "min_height": null,
      "min_width": null,
      "object_fit": null,
      "object_position": null,
      "order": null,
      "overflow": null,
      "overflow_x": null,
      "overflow_y": null,
      "padding": null,
      "right": null,
      "top": null,
      "visibility": null,
      "width": null
     }
    },
    "2ed4e7b12ec2400b9940a81df3e07a99": {
     "model_module": "@jupyter-widgets/controls",
     "model_module_version": "1.5.0",
     "model_name": "HTMLModel",
     "state": {
      "_dom_classes": [],
      "_model_module": "@jupyter-widgets/controls",
      "_model_module_version": "1.5.0",
      "_model_name": "HTMLModel",
      "_view_count": null,
      "_view_module": "@jupyter-widgets/controls",
      "_view_module_version": "1.5.0",
      "_view_name": "HTMLView",
      "description": "",
      "description_tooltip": null,
      "layout": "IPY_MODEL_1275f9a53721438c976a2a409a417b15",
      "placeholder": "​",
      "style": "IPY_MODEL_0c6c22cae72b41fd965cc2c40489022d",
      "value": " 16/16 [00:36&lt;00:00,  3.85s/it]"
     }
    },
    "3373796048b24d9485601ac523e40347": {
     "model_module": "@jupyter-widgets/controls",
     "model_module_version": "1.5.0",
     "model_name": "DescriptionStyleModel",
     "state": {
      "_model_module": "@jupyter-widgets/controls",
      "_model_module_version": "1.5.0",
      "_model_name": "DescriptionStyleModel",
      "_view_count": null,
      "_view_module": "@jupyter-widgets/base",
      "_view_module_version": "1.2.0",
      "_view_name": "StyleView",
      "description_width": ""
     }
    },
    "33a156c9f9404d0f9dbbbfcb01a4bbe9": {
     "model_module": "@jupyter-widgets/base",
     "model_module_version": "1.2.0",
     "model_name": "LayoutModel",
     "state": {
      "_model_module": "@jupyter-widgets/base",
      "_model_module_version": "1.2.0",
      "_model_name": "LayoutModel",
      "_view_count": null,
      "_view_module": "@jupyter-widgets/base",
      "_view_module_version": "1.2.0",
      "_view_name": "LayoutView",
      "align_content": null,
      "align_items": null,
      "align_self": null,
      "border": null,
      "bottom": null,
      "display": null,
      "flex": null,
      "flex_flow": null,
      "grid_area": null,
      "grid_auto_columns": null,
      "grid_auto_flow": null,
      "grid_auto_rows": null,
      "grid_column": null,
      "grid_gap": null,
      "grid_row": null,
      "grid_template_areas": null,
      "grid_template_columns": null,
      "grid_template_rows": null,
      "height": null,
      "justify_content": null,
      "justify_items": null,
      "left": null,
      "margin": null,
      "max_height": null,
      "max_width": null,
      "min_height": null,
      "min_width": null,
      "object_fit": null,
      "object_position": null,
      "order": null,
      "overflow": null,
      "overflow_x": null,
      "overflow_y": null,
      "padding": null,
      "right": null,
      "top": null,
      "visibility": null,
      "width": null
     }
    },
    "340e254a57714ae18b6e57eb40792636": {
     "model_module": "@jupyter-widgets/base",
     "model_module_version": "1.2.0",
     "model_name": "LayoutModel",
     "state": {
      "_model_module": "@jupyter-widgets/base",
      "_model_module_version": "1.2.0",
      "_model_name": "LayoutModel",
      "_view_count": null,
      "_view_module": "@jupyter-widgets/base",
      "_view_module_version": "1.2.0",
      "_view_name": "LayoutView",
      "align_content": null,
      "align_items": null,
      "align_self": null,
      "border": null,
      "bottom": null,
      "display": null,
      "flex": null,
      "flex_flow": null,
      "grid_area": null,
      "grid_auto_columns": null,
      "grid_auto_flow": null,
      "grid_auto_rows": null,
      "grid_column": null,
      "grid_gap": null,
      "grid_row": null,
      "grid_template_areas": null,
      "grid_template_columns": null,
      "grid_template_rows": null,
      "height": null,
      "justify_content": null,
      "justify_items": null,
      "left": null,
      "margin": null,
      "max_height": null,
      "max_width": null,
      "min_height": null,
      "min_width": null,
      "object_fit": null,
      "object_position": null,
      "order": null,
      "overflow": null,
      "overflow_x": null,
      "overflow_y": null,
      "padding": null,
      "right": null,
      "top": null,
      "visibility": null,
      "width": null
     }
    },
    "3a15f8718644473b9f915685630b0b4c": {
     "model_module": "@jupyter-widgets/base",
     "model_module_version": "1.2.0",
     "model_name": "LayoutModel",
     "state": {
      "_model_module": "@jupyter-widgets/base",
      "_model_module_version": "1.2.0",
      "_model_name": "LayoutModel",
      "_view_count": null,
      "_view_module": "@jupyter-widgets/base",
      "_view_module_version": "1.2.0",
      "_view_name": "LayoutView",
      "align_content": null,
      "align_items": null,
      "align_self": null,
      "border": null,
      "bottom": null,
      "display": null,
      "flex": null,
      "flex_flow": null,
      "grid_area": null,
      "grid_auto_columns": null,
      "grid_auto_flow": null,
      "grid_auto_rows": null,
      "grid_column": null,
      "grid_gap": null,
      "grid_row": null,
      "grid_template_areas": null,
      "grid_template_columns": null,
      "grid_template_rows": null,
      "height": null,
      "justify_content": null,
      "justify_items": null,
      "left": null,
      "margin": null,
      "max_height": null,
      "max_width": null,
      "min_height": null,
      "min_width": null,
      "object_fit": null,
      "object_position": null,
      "order": null,
      "overflow": null,
      "overflow_x": null,
      "overflow_y": null,
      "padding": null,
      "right": null,
      "top": null,
      "visibility": null,
      "width": null
     }
    },
    "402776a141e54b7b939ee447b9ab8afd": {
     "model_module": "@jupyter-widgets/controls",
     "model_module_version": "1.5.0",
     "model_name": "HTMLModel",
     "state": {
      "_dom_classes": [],
      "_model_module": "@jupyter-widgets/controls",
      "_model_module_version": "1.5.0",
      "_model_name": "HTMLModel",
      "_view_count": null,
      "_view_module": "@jupyter-widgets/controls",
      "_view_module_version": "1.5.0",
      "_view_name": "HTMLView",
      "description": "",
      "description_tooltip": null,
      "layout": "IPY_MODEL_0c1309868ee4475bb89e39fb886ac0e4",
      "placeholder": "​",
      "style": "IPY_MODEL_58ed5182875648b59ace17a1807f057f",
      "value": " 16/16 [00:10&lt;00:00,  1.07it/s]"
     }
    },
    "41031f9544ad4f8da11252bdede96ca1": {
     "model_module": "@jupyter-widgets/base",
     "model_module_version": "1.2.0",
     "model_name": "LayoutModel",
     "state": {
      "_model_module": "@jupyter-widgets/base",
      "_model_module_version": "1.2.0",
      "_model_name": "LayoutModel",
      "_view_count": null,
      "_view_module": "@jupyter-widgets/base",
      "_view_module_version": "1.2.0",
      "_view_name": "LayoutView",
      "align_content": null,
      "align_items": null,
      "align_self": null,
      "border": null,
      "bottom": null,
      "display": null,
      "flex": null,
      "flex_flow": null,
      "grid_area": null,
      "grid_auto_columns": null,
      "grid_auto_flow": null,
      "grid_auto_rows": null,
      "grid_column": null,
      "grid_gap": null,
      "grid_row": null,
      "grid_template_areas": null,
      "grid_template_columns": null,
      "grid_template_rows": null,
      "height": null,
      "justify_content": null,
      "justify_items": null,
      "left": null,
      "margin": null,
      "max_height": null,
      "max_width": null,
      "min_height": null,
      "min_width": null,
      "object_fit": null,
      "object_position": null,
      "order": null,
      "overflow": null,
      "overflow_x": null,
      "overflow_y": null,
      "padding": null,
      "right": null,
      "top": null,
      "visibility": null,
      "width": null
     }
    },
    "41abd5cca3dc4820847d014a98bede18": {
     "model_module": "@jupyter-widgets/base",
     "model_module_version": "1.2.0",
     "model_name": "LayoutModel",
     "state": {
      "_model_module": "@jupyter-widgets/base",
      "_model_module_version": "1.2.0",
      "_model_name": "LayoutModel",
      "_view_count": null,
      "_view_module": "@jupyter-widgets/base",
      "_view_module_version": "1.2.0",
      "_view_name": "LayoutView",
      "align_content": null,
      "align_items": null,
      "align_self": null,
      "border": null,
      "bottom": null,
      "display": null,
      "flex": null,
      "flex_flow": null,
      "grid_area": null,
      "grid_auto_columns": null,
      "grid_auto_flow": null,
      "grid_auto_rows": null,
      "grid_column": null,
      "grid_gap": null,
      "grid_row": null,
      "grid_template_areas": null,
      "grid_template_columns": null,
      "grid_template_rows": null,
      "height": null,
      "justify_content": null,
      "justify_items": null,
      "left": null,
      "margin": null,
      "max_height": null,
      "max_width": null,
      "min_height": null,
      "min_width": null,
      "object_fit": null,
      "object_position": null,
      "order": null,
      "overflow": null,
      "overflow_x": null,
      "overflow_y": null,
      "padding": null,
      "right": null,
      "top": null,
      "visibility": null,
      "width": null
     }
    },
    "45d8b3ca5d664702a3a4a5cacb6e8f07": {
     "model_module": "@jupyter-widgets/controls",
     "model_module_version": "1.5.0",
     "model_name": "DescriptionStyleModel",
     "state": {
      "_model_module": "@jupyter-widgets/controls",
      "_model_module_version": "1.5.0",
      "_model_name": "DescriptionStyleModel",
      "_view_count": null,
      "_view_module": "@jupyter-widgets/base",
      "_view_module_version": "1.2.0",
      "_view_name": "StyleView",
      "description_width": ""
     }
    },
    "4aa368d145c04fb8966807517db487d6": {
     "model_module": "@jupyter-widgets/base",
     "model_module_version": "1.2.0",
     "model_name": "LayoutModel",
     "state": {
      "_model_module": "@jupyter-widgets/base",
      "_model_module_version": "1.2.0",
      "_model_name": "LayoutModel",
      "_view_count": null,
      "_view_module": "@jupyter-widgets/base",
      "_view_module_version": "1.2.0",
      "_view_name": "LayoutView",
      "align_content": null,
      "align_items": null,
      "align_self": null,
      "border": null,
      "bottom": null,
      "display": null,
      "flex": null,
      "flex_flow": null,
      "grid_area": null,
      "grid_auto_columns": null,
      "grid_auto_flow": null,
      "grid_auto_rows": null,
      "grid_column": null,
      "grid_gap": null,
      "grid_row": null,
      "grid_template_areas": null,
      "grid_template_columns": null,
      "grid_template_rows": null,
      "height": null,
      "justify_content": null,
      "justify_items": null,
      "left": null,
      "margin": null,
      "max_height": null,
      "max_width": null,
      "min_height": null,
      "min_width": null,
      "object_fit": null,
      "object_position": null,
      "order": null,
      "overflow": null,
      "overflow_x": null,
      "overflow_y": null,
      "padding": null,
      "right": null,
      "top": null,
      "visibility": null,
      "width": null
     }
    },
    "5006338a923946d3bd4fd5f18f853a5c": {
     "model_module": "@jupyter-widgets/controls",
     "model_module_version": "1.5.0",
     "model_name": "ProgressStyleModel",
     "state": {
      "_model_module": "@jupyter-widgets/controls",
      "_model_module_version": "1.5.0",
      "_model_name": "ProgressStyleModel",
      "_view_count": null,
      "_view_module": "@jupyter-widgets/base",
      "_view_module_version": "1.2.0",
      "_view_name": "StyleView",
      "bar_color": null,
      "description_width": ""
     }
    },
    "5087a8a865d7462d9e8398fa25e10783": {
     "model_module": "@jupyter-widgets/controls",
     "model_module_version": "1.5.0",
     "model_name": "HTMLModel",
     "state": {
      "_dom_classes": [],
      "_model_module": "@jupyter-widgets/controls",
      "_model_module_version": "1.5.0",
      "_model_name": "HTMLModel",
      "_view_count": null,
      "_view_module": "@jupyter-widgets/controls",
      "_view_module_version": "1.5.0",
      "_view_name": "HTMLView",
      "description": "",
      "description_tooltip": null,
      "layout": "IPY_MODEL_41031f9544ad4f8da11252bdede96ca1",
      "placeholder": "​",
      "style": "IPY_MODEL_9ab7394809a44f50a50ec7609b41a086",
      "value": "100%"
     }
    },
    "55c22faaebfe47d68f6d679ca5163088": {
     "model_module": "@jupyter-widgets/base",
     "model_module_version": "1.2.0",
     "model_name": "LayoutModel",
     "state": {
      "_model_module": "@jupyter-widgets/base",
      "_model_module_version": "1.2.0",
      "_model_name": "LayoutModel",
      "_view_count": null,
      "_view_module": "@jupyter-widgets/base",
      "_view_module_version": "1.2.0",
      "_view_name": "LayoutView",
      "align_content": null,
      "align_items": null,
      "align_self": null,
      "border": null,
      "bottom": null,
      "display": null,
      "flex": null,
      "flex_flow": null,
      "grid_area": null,
      "grid_auto_columns": null,
      "grid_auto_flow": null,
      "grid_auto_rows": null,
      "grid_column": null,
      "grid_gap": null,
      "grid_row": null,
      "grid_template_areas": null,
      "grid_template_columns": null,
      "grid_template_rows": null,
      "height": null,
      "justify_content": null,
      "justify_items": null,
      "left": null,
      "margin": null,
      "max_height": null,
      "max_width": null,
      "min_height": null,
      "min_width": null,
      "object_fit": null,
      "object_position": null,
      "order": null,
      "overflow": null,
      "overflow_x": null,
      "overflow_y": null,
      "padding": null,
      "right": null,
      "top": null,
      "visibility": null,
      "width": null
     }
    },
    "58ed5182875648b59ace17a1807f057f": {
     "model_module": "@jupyter-widgets/controls",
     "model_module_version": "1.5.0",
     "model_name": "DescriptionStyleModel",
     "state": {
      "_model_module": "@jupyter-widgets/controls",
      "_model_module_version": "1.5.0",
      "_model_name": "DescriptionStyleModel",
      "_view_count": null,
      "_view_module": "@jupyter-widgets/base",
      "_view_module_version": "1.2.0",
      "_view_name": "StyleView",
      "description_width": ""
     }
    },
    "624ab93ca82b43c7a86db3d70098845b": {
     "model_module": "@jupyter-widgets/base",
     "model_module_version": "1.2.0",
     "model_name": "LayoutModel",
     "state": {
      "_model_module": "@jupyter-widgets/base",
      "_model_module_version": "1.2.0",
      "_model_name": "LayoutModel",
      "_view_count": null,
      "_view_module": "@jupyter-widgets/base",
      "_view_module_version": "1.2.0",
      "_view_name": "LayoutView",
      "align_content": null,
      "align_items": null,
      "align_self": null,
      "border": null,
      "bottom": null,
      "display": null,
      "flex": null,
      "flex_flow": null,
      "grid_area": null,
      "grid_auto_columns": null,
      "grid_auto_flow": null,
      "grid_auto_rows": null,
      "grid_column": null,
      "grid_gap": null,
      "grid_row": null,
      "grid_template_areas": null,
      "grid_template_columns": null,
      "grid_template_rows": null,
      "height": null,
      "justify_content": null,
      "justify_items": null,
      "left": null,
      "margin": null,
      "max_height": null,
      "max_width": null,
      "min_height": null,
      "min_width": null,
      "object_fit": null,
      "object_position": null,
      "order": null,
      "overflow": null,
      "overflow_x": null,
      "overflow_y": null,
      "padding": null,
      "right": null,
      "top": null,
      "visibility": null,
      "width": null
     }
    },
    "6c20b7444b3246979c01c7a2480435e1": {
     "model_module": "@jupyter-widgets/controls",
     "model_module_version": "1.5.0",
     "model_name": "DescriptionStyleModel",
     "state": {
      "_model_module": "@jupyter-widgets/controls",
      "_model_module_version": "1.5.0",
      "_model_name": "DescriptionStyleModel",
      "_view_count": null,
      "_view_module": "@jupyter-widgets/base",
      "_view_module_version": "1.2.0",
      "_view_name": "StyleView",
      "description_width": ""
     }
    },
    "6d8ab260072e4a2b99a446c106366502": {
     "model_module": "@jupyter-widgets/controls",
     "model_module_version": "1.5.0",
     "model_name": "FloatProgressModel",
     "state": {
      "_dom_classes": [],
      "_model_module": "@jupyter-widgets/controls",
      "_model_module_version": "1.5.0",
      "_model_name": "FloatProgressModel",
      "_view_count": null,
      "_view_module": "@jupyter-widgets/controls",
      "_view_module_version": "1.5.0",
      "_view_name": "ProgressView",
      "bar_style": "success",
      "description": "",
      "description_tooltip": null,
      "layout": "IPY_MODEL_289adaba50f14d5f9d71d1100cb0d95c",
      "max": 16,
      "min": 0,
      "orientation": "horizontal",
      "style": "IPY_MODEL_c63b7f9aa26e46908dcff3044060d938",
      "value": 16
     }
    },
    "75bf81123455458b9db29ede76349d97": {
     "model_module": "@jupyter-widgets/controls",
     "model_module_version": "1.5.0",
     "model_name": "FloatProgressModel",
     "state": {
      "_dom_classes": [],
      "_model_module": "@jupyter-widgets/controls",
      "_model_module_version": "1.5.0",
      "_model_name": "FloatProgressModel",
      "_view_count": null,
      "_view_module": "@jupyter-widgets/controls",
      "_view_module_version": "1.5.0",
      "_view_name": "ProgressView",
      "bar_style": "success",
      "description": "",
      "description_tooltip": null,
      "layout": "IPY_MODEL_217817d28bad44fb82a8aa9649d44a6b",
      "max": 16,
      "min": 0,
      "orientation": "horizontal",
      "style": "IPY_MODEL_a5ff7345307f47b48e67ca3d9b1f4368",
      "value": 16
     }
    },
    "7c29d988a77a449d8885c62728a8f620": {
     "model_module": "@jupyter-widgets/controls",
     "model_module_version": "1.5.0",
     "model_name": "HTMLModel",
     "state": {
      "_dom_classes": [],
      "_model_module": "@jupyter-widgets/controls",
      "_model_module_version": "1.5.0",
      "_model_name": "HTMLModel",
      "_view_count": null,
      "_view_module": "@jupyter-widgets/controls",
      "_view_module_version": "1.5.0",
      "_view_name": "HTMLView",
      "description": "",
      "description_tooltip": null,
      "layout": "IPY_MODEL_ba53839d131c4e2b8ed218e9b5ab9753",
      "placeholder": "​",
      "style": "IPY_MODEL_f0b9f13b839a44bf8cb86ccc340d2f90",
      "value": " 169/169 [05:00&lt;00:00,  3.02s/it]"
     }
    },
    "8e18912192f24b20a369c7bc87b17a78": {
     "model_module": "@jupyter-widgets/base",
     "model_module_version": "1.2.0",
     "model_name": "LayoutModel",
     "state": {
      "_model_module": "@jupyter-widgets/base",
      "_model_module_version": "1.2.0",
      "_model_name": "LayoutModel",
      "_view_count": null,
      "_view_module": "@jupyter-widgets/base",
      "_view_module_version": "1.2.0",
      "_view_name": "LayoutView",
      "align_content": null,
      "align_items": null,
      "align_self": null,
      "border": null,
      "bottom": null,
      "display": null,
      "flex": null,
      "flex_flow": null,
      "grid_area": null,
      "grid_auto_columns": null,
      "grid_auto_flow": null,
      "grid_auto_rows": null,
      "grid_column": null,
      "grid_gap": null,
      "grid_row": null,
      "grid_template_areas": null,
      "grid_template_columns": null,
      "grid_template_rows": null,
      "height": null,
      "justify_content": null,
      "justify_items": null,
      "left": null,
      "margin": null,
      "max_height": null,
      "max_width": null,
      "min_height": null,
      "min_width": null,
      "object_fit": null,
      "object_position": null,
      "order": null,
      "overflow": null,
      "overflow_x": null,
      "overflow_y": null,
      "padding": null,
      "right": null,
      "top": null,
      "visibility": null,
      "width": null
     }
    },
    "8f23a02bb939480daeb273feeb8f541b": {
     "model_module": "@jupyter-widgets/controls",
     "model_module_version": "1.5.0",
     "model_name": "ProgressStyleModel",
     "state": {
      "_model_module": "@jupyter-widgets/controls",
      "_model_module_version": "1.5.0",
      "_model_name": "ProgressStyleModel",
      "_view_count": null,
      "_view_module": "@jupyter-widgets/base",
      "_view_module_version": "1.2.0",
      "_view_name": "StyleView",
      "bar_color": null,
      "description_width": ""
     }
    },
    "911fc391899b43eb92a1477d8638f3f1": {
     "model_module": "@jupyter-widgets/controls",
     "model_module_version": "1.5.0",
     "model_name": "ProgressStyleModel",
     "state": {
      "_model_module": "@jupyter-widgets/controls",
      "_model_module_version": "1.5.0",
      "_model_name": "ProgressStyleModel",
      "_view_count": null,
      "_view_module": "@jupyter-widgets/base",
      "_view_module_version": "1.2.0",
      "_view_name": "StyleView",
      "bar_color": null,
      "description_width": ""
     }
    },
    "92fff0b7cda14760bcbd1f117387fe87": {
     "model_module": "@jupyter-widgets/controls",
     "model_module_version": "1.5.0",
     "model_name": "HBoxModel",
     "state": {
      "_dom_classes": [],
      "_model_module": "@jupyter-widgets/controls",
      "_model_module_version": "1.5.0",
      "_model_name": "HBoxModel",
      "_view_count": null,
      "_view_module": "@jupyter-widgets/controls",
      "_view_module_version": "1.5.0",
      "_view_name": "HBoxView",
      "box_style": "",
      "children": [
       "IPY_MODEL_5087a8a865d7462d9e8398fa25e10783",
       "IPY_MODEL_93285713cc194acda2b0309814f5cd5c",
       "IPY_MODEL_2ed4e7b12ec2400b9940a81df3e07a99"
      ],
      "layout": "IPY_MODEL_c1570d589c1845e2b6a8010fd93ca8af"
     }
    },
    "93285713cc194acda2b0309814f5cd5c": {
     "model_module": "@jupyter-widgets/controls",
     "model_module_version": "1.5.0",
     "model_name": "FloatProgressModel",
     "state": {
      "_dom_classes": [],
      "_model_module": "@jupyter-widgets/controls",
      "_model_module_version": "1.5.0",
      "_model_name": "FloatProgressModel",
      "_view_count": null,
      "_view_module": "@jupyter-widgets/controls",
      "_view_module_version": "1.5.0",
      "_view_name": "ProgressView",
      "bar_style": "success",
      "description": "",
      "description_tooltip": null,
      "layout": "IPY_MODEL_340e254a57714ae18b6e57eb40792636",
      "max": 16,
      "min": 0,
      "orientation": "horizontal",
      "style": "IPY_MODEL_5006338a923946d3bd4fd5f18f853a5c",
      "value": 16
     }
    },
    "9ab7394809a44f50a50ec7609b41a086": {
     "model_module": "@jupyter-widgets/controls",
     "model_module_version": "1.5.0",
     "model_name": "DescriptionStyleModel",
     "state": {
      "_model_module": "@jupyter-widgets/controls",
      "_model_module_version": "1.5.0",
      "_model_name": "DescriptionStyleModel",
      "_view_count": null,
      "_view_module": "@jupyter-widgets/base",
      "_view_module_version": "1.2.0",
      "_view_name": "StyleView",
      "description_width": ""
     }
    },
    "9b9e5898e8094d28af09a41dfd930c49": {
     "model_module": "@jupyter-widgets/base",
     "model_module_version": "1.2.0",
     "model_name": "LayoutModel",
     "state": {
      "_model_module": "@jupyter-widgets/base",
      "_model_module_version": "1.2.0",
      "_model_name": "LayoutModel",
      "_view_count": null,
      "_view_module": "@jupyter-widgets/base",
      "_view_module_version": "1.2.0",
      "_view_name": "LayoutView",
      "align_content": null,
      "align_items": null,
      "align_self": null,
      "border": null,
      "bottom": null,
      "display": null,
      "flex": null,
      "flex_flow": null,
      "grid_area": null,
      "grid_auto_columns": null,
      "grid_auto_flow": null,
      "grid_auto_rows": null,
      "grid_column": null,
      "grid_gap": null,
      "grid_row": null,
      "grid_template_areas": null,
      "grid_template_columns": null,
      "grid_template_rows": null,
      "height": null,
      "justify_content": null,
      "justify_items": null,
      "left": null,
      "margin": null,
      "max_height": null,
      "max_width": null,
      "min_height": null,
      "min_width": null,
      "object_fit": null,
      "object_position": null,
      "order": null,
      "overflow": null,
      "overflow_x": null,
      "overflow_y": null,
      "padding": null,
      "right": null,
      "top": null,
      "visibility": null,
      "width": null
     }
    },
    "a16bf7df5188443fbd7670d6dec39c8c": {
     "model_module": "@jupyter-widgets/base",
     "model_module_version": "1.2.0",
     "model_name": "LayoutModel",
     "state": {
      "_model_module": "@jupyter-widgets/base",
      "_model_module_version": "1.2.0",
      "_model_name": "LayoutModel",
      "_view_count": null,
      "_view_module": "@jupyter-widgets/base",
      "_view_module_version": "1.2.0",
      "_view_name": "LayoutView",
      "align_content": null,
      "align_items": null,
      "align_self": null,
      "border": null,
      "bottom": null,
      "display": null,
      "flex": null,
      "flex_flow": null,
      "grid_area": null,
      "grid_auto_columns": null,
      "grid_auto_flow": null,
      "grid_auto_rows": null,
      "grid_column": null,
      "grid_gap": null,
      "grid_row": null,
      "grid_template_areas": null,
      "grid_template_columns": null,
      "grid_template_rows": null,
      "height": null,
      "justify_content": null,
      "justify_items": null,
      "left": null,
      "margin": null,
      "max_height": null,
      "max_width": null,
      "min_height": null,
      "min_width": null,
      "object_fit": null,
      "object_position": null,
      "order": null,
      "overflow": null,
      "overflow_x": null,
      "overflow_y": null,
      "padding": null,
      "right": null,
      "top": null,
      "visibility": null,
      "width": null
     }
    },
    "a1cc56e6d61441ccacd7f530c31c0916": {
     "model_module": "@jupyter-widgets/controls",
     "model_module_version": "1.5.0",
     "model_name": "FloatProgressModel",
     "state": {
      "_dom_classes": [],
      "_model_module": "@jupyter-widgets/controls",
      "_model_module_version": "1.5.0",
      "_model_name": "FloatProgressModel",
      "_view_count": null,
      "_view_module": "@jupyter-widgets/controls",
      "_view_module_version": "1.5.0",
      "_view_name": "ProgressView",
      "bar_style": "success",
      "description": "",
      "description_tooltip": null,
      "layout": "IPY_MODEL_3a15f8718644473b9f915685630b0b4c",
      "max": 256,
      "min": 0,
      "orientation": "horizontal",
      "style": "IPY_MODEL_8f23a02bb939480daeb273feeb8f541b",
      "value": 256
     }
    },
    "a282922e29c842ec9ee7e263fab15cf3": {
     "model_module": "@jupyter-widgets/controls",
     "model_module_version": "1.5.0",
     "model_name": "HTMLModel",
     "state": {
      "_dom_classes": [],
      "_model_module": "@jupyter-widgets/controls",
      "_model_module_version": "1.5.0",
      "_model_name": "HTMLModel",
      "_view_count": null,
      "_view_module": "@jupyter-widgets/controls",
      "_view_module_version": "1.5.0",
      "_view_name": "HTMLView",
      "description": "",
      "description_tooltip": null,
      "layout": "IPY_MODEL_8e18912192f24b20a369c7bc87b17a78",
      "placeholder": "​",
      "style": "IPY_MODEL_a757a7b246f54260917969971f9571a7",
      "value": "100%"
     }
    },
    "a5ff7345307f47b48e67ca3d9b1f4368": {
     "model_module": "@jupyter-widgets/controls",
     "model_module_version": "1.5.0",
     "model_name": "ProgressStyleModel",
     "state": {
      "_model_module": "@jupyter-widgets/controls",
      "_model_module_version": "1.5.0",
      "_model_name": "ProgressStyleModel",
      "_view_count": null,
      "_view_module": "@jupyter-widgets/base",
      "_view_module_version": "1.2.0",
      "_view_name": "StyleView",
      "bar_color": null,
      "description_width": ""
     }
    },
    "a632d3e497304a23b03bbc0f4b95195a": {
     "model_module": "@jupyter-widgets/controls",
     "model_module_version": "1.5.0",
     "model_name": "HBoxModel",
     "state": {
      "_dom_classes": [],
      "_model_module": "@jupyter-widgets/controls",
      "_model_module_version": "1.5.0",
      "_model_name": "HBoxModel",
      "_view_count": null,
      "_view_module": "@jupyter-widgets/controls",
      "_view_module_version": "1.5.0",
      "_view_name": "HBoxView",
      "box_style": "",
      "children": [
       "IPY_MODEL_234035b9a74b463e985b52f8b13fd3e5",
       "IPY_MODEL_6d8ab260072e4a2b99a446c106366502",
       "IPY_MODEL_402776a141e54b7b939ee447b9ab8afd"
      ],
      "layout": "IPY_MODEL_4aa368d145c04fb8966807517db487d6"
     }
    },
    "a757a7b246f54260917969971f9571a7": {
     "model_module": "@jupyter-widgets/controls",
     "model_module_version": "1.5.0",
     "model_name": "DescriptionStyleModel",
     "state": {
      "_model_module": "@jupyter-widgets/controls",
      "_model_module_version": "1.5.0",
      "_model_name": "DescriptionStyleModel",
      "_view_count": null,
      "_view_module": "@jupyter-widgets/base",
      "_view_module_version": "1.2.0",
      "_view_name": "StyleView",
      "description_width": ""
     }
    },
    "a85891d85070457385e7c12f5a090312": {
     "model_module": "@jupyter-widgets/controls",
     "model_module_version": "1.5.0",
     "model_name": "DescriptionStyleModel",
     "state": {
      "_model_module": "@jupyter-widgets/controls",
      "_model_module_version": "1.5.0",
      "_model_name": "DescriptionStyleModel",
      "_view_count": null,
      "_view_module": "@jupyter-widgets/base",
      "_view_module_version": "1.2.0",
      "_view_name": "StyleView",
      "description_width": ""
     }
    },
    "aa59124c6ce445359db389065e4dfdc5": {
     "model_module": "@jupyter-widgets/base",
     "model_module_version": "1.2.0",
     "model_name": "LayoutModel",
     "state": {
      "_model_module": "@jupyter-widgets/base",
      "_model_module_version": "1.2.0",
      "_model_name": "LayoutModel",
      "_view_count": null,
      "_view_module": "@jupyter-widgets/base",
      "_view_module_version": "1.2.0",
      "_view_name": "LayoutView",
      "align_content": null,
      "align_items": null,
      "align_self": null,
      "border": null,
      "bottom": null,
      "display": null,
      "flex": null,
      "flex_flow": null,
      "grid_area": null,
      "grid_auto_columns": null,
      "grid_auto_flow": null,
      "grid_auto_rows": null,
      "grid_column": null,
      "grid_gap": null,
      "grid_row": null,
      "grid_template_areas": null,
      "grid_template_columns": null,
      "grid_template_rows": null,
      "height": null,
      "justify_content": null,
      "justify_items": null,
      "left": null,
      "margin": null,
      "max_height": null,
      "max_width": null,
      "min_height": null,
      "min_width": null,
      "object_fit": null,
      "object_position": null,
      "order": null,
      "overflow": null,
      "overflow_x": null,
      "overflow_y": null,
      "padding": null,
      "right": null,
      "top": null,
      "visibility": null,
      "width": null
     }
    },
    "ba53839d131c4e2b8ed218e9b5ab9753": {
     "model_module": "@jupyter-widgets/base",
     "model_module_version": "1.2.0",
     "model_name": "LayoutModel",
     "state": {
      "_model_module": "@jupyter-widgets/base",
      "_model_module_version": "1.2.0",
      "_model_name": "LayoutModel",
      "_view_count": null,
      "_view_module": "@jupyter-widgets/base",
      "_view_module_version": "1.2.0",
      "_view_name": "LayoutView",
      "align_content": null,
      "align_items": null,
      "align_self": null,
      "border": null,
      "bottom": null,
      "display": null,
      "flex": null,
      "flex_flow": null,
      "grid_area": null,
      "grid_auto_columns": null,
      "grid_auto_flow": null,
      "grid_auto_rows": null,
      "grid_column": null,
      "grid_gap": null,
      "grid_row": null,
      "grid_template_areas": null,
      "grid_template_columns": null,
      "grid_template_rows": null,
      "height": null,
      "justify_content": null,
      "justify_items": null,
      "left": null,
      "margin": null,
      "max_height": null,
      "max_width": null,
      "min_height": null,
      "min_width": null,
      "object_fit": null,
      "object_position": null,
      "order": null,
      "overflow": null,
      "overflow_x": null,
      "overflow_y": null,
      "padding": null,
      "right": null,
      "top": null,
      "visibility": null,
      "width": null
     }
    },
    "be69770e29464b13b2553144cf53b884": {
     "model_module": "@jupyter-widgets/controls",
     "model_module_version": "1.5.0",
     "model_name": "HBoxModel",
     "state": {
      "_dom_classes": [],
      "_model_module": "@jupyter-widgets/controls",
      "_model_module_version": "1.5.0",
      "_model_name": "HBoxModel",
      "_view_count": null,
      "_view_module": "@jupyter-widgets/controls",
      "_view_module_version": "1.5.0",
      "_view_name": "HBoxView",
      "box_style": "",
      "children": [
       "IPY_MODEL_22568725ec7d48b6a2f95189bf4ac7a2",
       "IPY_MODEL_75bf81123455458b9db29ede76349d97",
       "IPY_MODEL_bff94fb0b52d4225b5eccc4df0fedc08"
      ],
      "layout": "IPY_MODEL_33a156c9f9404d0f9dbbbfcb01a4bbe9"
     }
    },
    "bff94fb0b52d4225b5eccc4df0fedc08": {
     "model_module": "@jupyter-widgets/controls",
     "model_module_version": "1.5.0",
     "model_name": "HTMLModel",
     "state": {
      "_dom_classes": [],
      "_model_module": "@jupyter-widgets/controls",
      "_model_module_version": "1.5.0",
      "_model_name": "HTMLModel",
      "_view_count": null,
      "_view_module": "@jupyter-widgets/controls",
      "_view_module_version": "1.5.0",
      "_view_name": "HTMLView",
      "description": "",
      "description_tooltip": null,
      "layout": "IPY_MODEL_9b9e5898e8094d28af09a41dfd930c49",
      "placeholder": "​",
      "style": "IPY_MODEL_3373796048b24d9485601ac523e40347",
      "value": " 16/16 [00:04&lt;00:00,  1.56it/s]"
     }
    },
    "c1570d589c1845e2b6a8010fd93ca8af": {
     "model_module": "@jupyter-widgets/base",
     "model_module_version": "1.2.0",
     "model_name": "LayoutModel",
     "state": {
      "_model_module": "@jupyter-widgets/base",
      "_model_module_version": "1.2.0",
      "_model_name": "LayoutModel",
      "_view_count": null,
      "_view_module": "@jupyter-widgets/base",
      "_view_module_version": "1.2.0",
      "_view_name": "LayoutView",
      "align_content": null,
      "align_items": null,
      "align_self": null,
      "border": null,
      "bottom": null,
      "display": null,
      "flex": null,
      "flex_flow": null,
      "grid_area": null,
      "grid_auto_columns": null,
      "grid_auto_flow": null,
      "grid_auto_rows": null,
      "grid_column": null,
      "grid_gap": null,
      "grid_row": null,
      "grid_template_areas": null,
      "grid_template_columns": null,
      "grid_template_rows": null,
      "height": null,
      "justify_content": null,
      "justify_items": null,
      "left": null,
      "margin": null,
      "max_height": null,
      "max_width": null,
      "min_height": null,
      "min_width": null,
      "object_fit": null,
      "object_position": null,
      "order": null,
      "overflow": null,
      "overflow_x": null,
      "overflow_y": null,
      "padding": null,
      "right": null,
      "top": null,
      "visibility": null,
      "width": null
     }
    },
    "c63b7f9aa26e46908dcff3044060d938": {
     "model_module": "@jupyter-widgets/controls",
     "model_module_version": "1.5.0",
     "model_name": "ProgressStyleModel",
     "state": {
      "_model_module": "@jupyter-widgets/controls",
      "_model_module_version": "1.5.0",
      "_model_name": "ProgressStyleModel",
      "_view_count": null,
      "_view_module": "@jupyter-widgets/base",
      "_view_module_version": "1.2.0",
      "_view_name": "StyleView",
      "bar_color": null,
      "description_width": ""
     }
    },
    "cfde2cd6c8aa494bb510edf2ba4fb455": {
     "model_module": "@jupyter-widgets/controls",
     "model_module_version": "1.5.0",
     "model_name": "HTMLModel",
     "state": {
      "_dom_classes": [],
      "_model_module": "@jupyter-widgets/controls",
      "_model_module_version": "1.5.0",
      "_model_name": "HTMLModel",
      "_view_count": null,
      "_view_module": "@jupyter-widgets/controls",
      "_view_module_version": "1.5.0",
      "_view_name": "HTMLView",
      "description": "",
      "description_tooltip": null,
      "layout": "IPY_MODEL_0f343ed811264726bf719960ebfcec5d",
      "placeholder": "​",
      "style": "IPY_MODEL_45d8b3ca5d664702a3a4a5cacb6e8f07",
      "value": "100%"
     }
    },
    "e6b998cde756410294103fb0d60ae594": {
     "model_module": "@jupyter-widgets/controls",
     "model_module_version": "1.5.0",
     "model_name": "HBoxModel",
     "state": {
      "_dom_classes": [],
      "_model_module": "@jupyter-widgets/controls",
      "_model_module_version": "1.5.0",
      "_model_name": "HBoxModel",
      "_view_count": null,
      "_view_module": "@jupyter-widgets/controls",
      "_view_module_version": "1.5.0",
      "_view_name": "HBoxView",
      "box_style": "",
      "children": [
       "IPY_MODEL_cfde2cd6c8aa494bb510edf2ba4fb455",
       "IPY_MODEL_fb2084a6d6604a3aa7ad623ab4e89975",
       "IPY_MODEL_7c29d988a77a449d8885c62728a8f620"
      ],
      "layout": "IPY_MODEL_55c22faaebfe47d68f6d679ca5163088"
     }
    },
    "e8476e877abf43b280247e6ee893cf23": {
     "model_module": "@jupyter-widgets/controls",
     "model_module_version": "1.5.0",
     "model_name": "DescriptionStyleModel",
     "state": {
      "_model_module": "@jupyter-widgets/controls",
      "_model_module_version": "1.5.0",
      "_model_name": "DescriptionStyleModel",
      "_view_count": null,
      "_view_module": "@jupyter-widgets/base",
      "_view_module_version": "1.2.0",
      "_view_name": "StyleView",
      "description_width": ""
     }
    },
    "ec977166c89749628d3813e70e402b2c": {
     "model_module": "@jupyter-widgets/controls",
     "model_module_version": "1.5.0",
     "model_name": "HTMLModel",
     "state": {
      "_dom_classes": [],
      "_model_module": "@jupyter-widgets/controls",
      "_model_module_version": "1.5.0",
      "_model_name": "HTMLModel",
      "_view_count": null,
      "_view_module": "@jupyter-widgets/controls",
      "_view_module_version": "1.5.0",
      "_view_name": "HTMLView",
      "description": "",
      "description_tooltip": null,
      "layout": "IPY_MODEL_624ab93ca82b43c7a86db3d70098845b",
      "placeholder": "​",
      "style": "IPY_MODEL_6c20b7444b3246979c01c7a2480435e1",
      "value": " 256/256 [20:30&lt;00:00,  9.82s/it]"
     }
    },
    "f0b9f13b839a44bf8cb86ccc340d2f90": {
     "model_module": "@jupyter-widgets/controls",
     "model_module_version": "1.5.0",
     "model_name": "DescriptionStyleModel",
     "state": {
      "_model_module": "@jupyter-widgets/controls",
      "_model_module_version": "1.5.0",
      "_model_name": "DescriptionStyleModel",
      "_view_count": null,
      "_view_module": "@jupyter-widgets/base",
      "_view_module_version": "1.2.0",
      "_view_name": "StyleView",
      "description_width": ""
     }
    },
    "fb2084a6d6604a3aa7ad623ab4e89975": {
     "model_module": "@jupyter-widgets/controls",
     "model_module_version": "1.5.0",
     "model_name": "FloatProgressModel",
     "state": {
      "_dom_classes": [],
      "_model_module": "@jupyter-widgets/controls",
      "_model_module_version": "1.5.0",
      "_model_name": "FloatProgressModel",
      "_view_count": null,
      "_view_module": "@jupyter-widgets/controls",
      "_view_module_version": "1.5.0",
      "_view_name": "ProgressView",
      "bar_style": "success",
      "description": "",
      "description_tooltip": null,
      "layout": "IPY_MODEL_a16bf7df5188443fbd7670d6dec39c8c",
      "max": 169,
      "min": 0,
      "orientation": "horizontal",
      "style": "IPY_MODEL_911fc391899b43eb92a1477d8638f3f1",
      "value": 169
     }
    }
   }
  }
 },
 "nbformat": 4,
 "nbformat_minor": 4
}
