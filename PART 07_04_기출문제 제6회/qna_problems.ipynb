{
 "cells": [
  {
   "cell_type": "markdown",
   "metadata": {
    "id": "msx1aL9oCAyB"
   },
   "source": [
    ">**기출문제 제6회**\n",
    ">>**03 작업형 제3유형**"
   ]
  },
  {
   "cell_type": "markdown",
   "metadata": {},
   "source": [
    "# 문제 1. \n",
    "- K-S 검정을 통해 업무 수행 시간이 정규분포를 따르는지 검정하고자 한다.\n",
    "- 직원들의 업무 수행 시간의 평균과 표준편차를 구하시오. (소수점 셋째 자리까지 반올림)"
   ]
  },
  {
   "cell_type": "code",
   "execution_count": 9,
   "metadata": {
    "executionInfo": {
     "elapsed": 540,
     "status": "ok",
     "timestamp": 1741911775626,
     "user": {
      "displayName": "제쥬감귤",
      "userId": "17148962602000500758"
     },
     "user_tz": -540
    },
    "id": "aODwDph9CD8u"
   },
   "outputs": [],
   "source": [
    "import pandas as pd\n",
    "data = pd.read_csv('6_3_1.csv')"
   ]
  },
  {
   "cell_type": "code",
   "execution_count": 10,
   "metadata": {},
   "outputs": [
    {
     "name": "stdout",
     "output_type": "stream",
     "text": [
      "    work_hours\n",
      "0    10.646079\n",
      "1     8.600236\n",
      "2     9.468107\n",
      "3    11.361340\n",
      "4    10.801337\n",
      "..         ...\n",
      "95    9.059860\n",
      "96    8.015750\n",
      "97   10.678806\n",
      "98    8.190368\n",
      "99    8.602984\n",
      "\n",
      "[100 rows x 1 columns]\n"
     ]
    }
   ],
   "source": [
    "print(data)"
   ]
  },
  {
   "cell_type": "code",
   "execution_count": 11,
   "metadata": {},
   "outputs": [
    {
     "data": {
      "text/plain": [
       "(np.float64(8.09), np.float64(1.52))"
      ]
     },
     "execution_count": 11,
     "metadata": {},
     "output_type": "execute_result"
    }
   ],
   "source": [
    "mean_work_hours, std_work_hours = data['work_hours'].mean().round(2), data['work_hours'].std().round(2)\n",
    "mean_work_hours, std_work_hours"
   ]
  },
  {
   "cell_type": "markdown",
   "metadata": {},
   "source": [
    "- 직원들의 업무 수행 시간이 정규분포를 따르는지 K-S 검정을 실시하고, 검정통계량을 계산하시오. (소수점 셋째 자리까지 반올림)\n",
    "- 가설설정\n",
    "  + 귀무가설 : 주어진 표본은 정규분포를 따른다. (reference 분포)\n",
    "  + 대립가설 : 주어진 표본은 정규분포를 따르지 않는다."
   ]
  },
  {
   "cell_type": "code",
   "execution_count": 14,
   "metadata": {
    "colab": {
     "base_uri": "https://localhost:8080/"
    },
    "executionInfo": {
     "elapsed": 44,
     "status": "ok",
     "timestamp": 1741911794638,
     "user": {
      "displayName": "제쥬감귤",
      "userId": "17148962602000500758"
     },
     "user_tz": -540
    },
    "id": "FiW0FFauCJfu",
    "outputId": "c89d8ef7-0e6b-443e-b354-7d0eddd86dcf"
   },
   "outputs": [
    {
     "data": {
      "text/plain": [
       "(np.float64(0.064), np.float64(0.776))"
      ]
     },
     "execution_count": 14,
     "metadata": {},
     "output_type": "execute_result"
    }
   ],
   "source": [
    "from scipy.stats import kstest, norm\n",
    "\n",
    "# statistic, p_value == kstest(#데이터, #참조할 분포,#orgs)\n",
    "statistic, p_value = kstest(data['work_hours'], 'norm', args = (mean_work_hours, std_work_hours))\n",
    "statistic.round(3), p_value.round(3)"
   ]
  },
  {
   "cell_type": "markdown",
   "metadata": {},
   "source": [
    "- p-value를 바탕으로 `유의수준 5%`에서 귀무가설의 기각/채택 여부를 결정하시오. (p-value는 소수점 셋째 자리까지 반올림)"
   ]
  },
  {
   "cell_type": "code",
   "execution_count": 16,
   "metadata": {
    "colab": {
     "base_uri": "https://localhost:8080/"
    },
    "executionInfo": {
     "elapsed": 4,
     "status": "ok",
     "timestamp": 1741911806727,
     "user": {
      "displayName": "제쥬감귤",
      "userId": "17148962602000500758"
     },
     "user_tz": -540
    },
    "id": "g10jWFkyCLP_",
    "outputId": "40e32a5b-3c70-4ca9-c211-40f0af217a56"
   },
   "outputs": [
    {
     "name": "stdout",
     "output_type": "stream",
     "text": [
      "귀무가설 채택\n"
     ]
    }
   ],
   "source": [
    "if p_value > 0.05:\n",
    "    print('귀무가설 채택')\n",
    "else:\n",
    "    print(\"대립가설 채택\")"
   ]
  },
  {
   "cell_type": "markdown",
   "metadata": {},
   "source": [
    "# 문제 2. \n",
    "- 주택 가격을 종속 변수로 하고, 면적, 방의 개수, 연식을 독립 변수로 하는 다중회귀 분석을 수행하여, 회귀계수가 가장 높은 변수를 구하시오. (다중회귀모형 적합 시 절편 포함)\n",
    "- 유의수준 5% 하에서 각 독립 변수가 주택 가격에 미치는 영향이 통계적으로 유의미한지 판단하고 유의미한 변수 개수를 구하시오. "
   ]
  },
  {
   "cell_type": "code",
   "execution_count": 17,
   "metadata": {
    "executionInfo": {
     "elapsed": 175,
     "status": "ok",
     "timestamp": 1741911814554,
     "user": {
      "displayName": "제쥬감귤",
      "userId": "17148962602000500758"
     },
     "user_tz": -540
    },
    "id": "ipcBAwtQCOyW"
   },
   "outputs": [],
   "source": [
    "import pandas as pd\n",
    "data = pd.read_csv('6_3_2.csv')"
   ]
  },
  {
   "cell_type": "code",
   "execution_count": 18,
   "metadata": {
    "executionInfo": {
     "elapsed": 2729,
     "status": "ok",
     "timestamp": 1741911833869,
     "user": {
      "displayName": "제쥬감귤",
      "userId": "17148962602000500758"
     },
     "user_tz": -540
    },
    "id": "uRb71jZBCQiy"
   },
   "outputs": [
    {
     "name": "stdout",
     "output_type": "stream",
     "text": [
      "                            OLS Regression Results                            \n",
      "==============================================================================\n",
      "Dep. Variable:                  price   R-squared:                       0.708\n",
      "Model:                            OLS   Adj. R-squared:                  0.699\n",
      "Method:                 Least Squares   F-statistic:                     77.65\n",
      "Date:                Thu, 22 May 2025   Prob (F-statistic):           1.41e-25\n",
      "Time:                        10:06:40   Log-Likelihood:                -1055.4\n",
      "No. Observations:                 100   AIC:                             2119.\n",
      "Df Residuals:                      96   BIC:                             2129.\n",
      "Df Model:                           3                                         \n",
      "Covariance Type:            nonrobust                                         \n",
      "==============================================================================\n",
      "                 coef    std err          t      P>|t|      [0.025      0.975]\n",
      "------------------------------------------------------------------------------\n",
      "const       5.395e+04   6081.703      8.871      0.000    4.19e+04     6.6e+04\n",
      "area         269.4302     31.740      8.489      0.000     206.426     332.434\n",
      "rooms       9269.9421    832.869     11.130      0.000    7616.710    1.09e+04\n",
      "age         -895.5821    106.203     -8.433      0.000   -1106.394    -684.770\n",
      "==============================================================================\n",
      "Omnibus:                        0.738   Durbin-Watson:                   2.134\n",
      "Prob(Omnibus):                  0.692   Jarque-Bera (JB):                0.305\n",
      "Skew:                           0.009   Prob(JB):                        0.859\n",
      "Kurtosis:                       3.270   Cond. No.                     1.00e+03\n",
      "==============================================================================\n",
      "\n",
      "Notes:\n",
      "[1] Standard Errors assume that the covariance matrix of the errors is correctly specified.\n",
      "[2] The condition number is large,  1e+03. This might indicate that there are\n",
      "strong multicollinearity or other numerical problems.\n"
     ]
    }
   ],
   "source": [
    "import statsmodels.api as sm\n",
    "x = data[['area','rooms','age']]\n",
    "y = data['price']\n",
    "\n",
    "# 상수항 추가\n",
    "x = sm.add_constant(x)\n",
    "\n",
    "# 다중회귀분석모델적합\n",
    "model = sm.OLS(y,x).fit()\n",
    "print(model.summary())"
   ]
  },
  {
   "cell_type": "code",
   "execution_count": 19,
   "metadata": {
    "colab": {
     "base_uri": "https://localhost:8080/"
    },
    "executionInfo": {
     "elapsed": 12,
     "status": "ok",
     "timestamp": 1741911839356,
     "user": {
      "displayName": "제쥬감귤",
      "userId": "17148962602000500758"
     },
     "user_tz": -540
    },
    "id": "ZeCYey1hCUaP",
    "outputId": "e340aa6b-b1a9-4494-ed3d-d1ac33f4cad9"
   },
   "outputs": [
    {
     "data": {
      "text/plain": [
       "'rooms'"
      ]
     },
     "execution_count": 19,
     "metadata": {},
     "output_type": "execute_result"
    }
   ],
   "source": [
    "coefficients = model.params[1:]\n",
    "coefficients.idxmax()"
   ]
  },
  {
   "cell_type": "code",
   "execution_count": 20,
   "metadata": {
    "colab": {
     "base_uri": "https://localhost:8080/"
    },
    "executionInfo": {
     "elapsed": 3,
     "status": "ok",
     "timestamp": 1741911846728,
     "user": {
      "displayName": "제쥬감귤",
      "userId": "17148962602000500758"
     },
     "user_tz": -540
    },
    "id": "R3TUOMqnCWj1",
    "outputId": "eb7a990c-0524-4fc9-f729-2bc2d7f8c71d"
   },
   "outputs": [
    {
     "data": {
      "text/plain": [
       "np.int64(3)"
      ]
     },
     "execution_count": 20,
     "metadata": {},
     "output_type": "execute_result"
    }
   ],
   "source": [
    "import numpy as np\n",
    "p_values = model.pvalues[1:]\n",
    "np.sum(p_values < 0.05)"
   ]
  }
 ],
 "metadata": {
  "colab": {
   "authorship_tag": "ABX9TyMMZP/7tg5eJGVAem/ghPv2",
   "provenance": []
  },
  "kernelspec": {
   "display_name": "Python 3 (ipykernel)",
   "language": "python",
   "name": "python3"
  },
  "language_info": {
   "codemirror_mode": {
    "name": "ipython",
    "version": 3
   },
   "file_extension": ".py",
   "mimetype": "text/x-python",
   "name": "python",
   "nbconvert_exporter": "python",
   "pygments_lexer": "ipython3",
   "version": "3.11.12"
  }
 },
 "nbformat": 4,
 "nbformat_minor": 4
}
