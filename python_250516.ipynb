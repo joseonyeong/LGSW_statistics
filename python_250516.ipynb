{
 "cells": [
  {
   "cell_type": "markdown",
   "id": "b8811044-b27c-4f43-a4d1-1030e36c78aa",
   "metadata": {},
   "source": [
    "# 환경설정"
   ]
  },
  {
   "cell_type": "code",
   "execution_count": 1,
   "id": "a5b250c8-4f2b-4945-b3b5-26ce9108c83c",
   "metadata": {},
   "outputs": [
    {
     "data": {
      "text/plain": [
       "'2.2.3'"
      ]
     },
     "execution_count": 1,
     "metadata": {},
     "output_type": "execute_result"
    }
   ],
   "source": [
    "# 필요한 패키지\n",
    "import numpy as np\n",
    "import pandas as pd\n",
    "import matplotlib.pyplot as plt\n",
    "\n",
    "# 한글출력\n",
    "plt.rcParams['font.family'] = 'Malgun Gothic' #  Windows 'Malgun Gothic' \n",
    "plt.rcParams['axes.unicode_minus'] = False\n",
    "\n",
    "pd.__version__"
   ]
  },
  {
   "cell_type": "markdown",
   "id": "c7b103b9-ca5c-4de4-98d9-941ecdc4b6f1",
   "metadata": {},
   "source": [
    "# 상관계수\n",
    "- 피어슨 상관계수 (두 연속형 변수)\n",
    "- 계수 ($$ 표시 latex(수식) 문법 적용)\n",
    "  + $r$ = +/-1 : 완벽한 상관관계를 가짐, \n",
    "  + $r$ = 0 : 두 변수 간에는 선형적 관계가 없음\n",
    "- 가설설정\n",
    "  + 귀무가설 : 상관계수가 0이다 (두 변수 간 상관관계가 없음)\n",
    "  + 대립가설 : 상관계수는 0이 아니다 (두 변수 간 상관관계가 있음)"
   ]
  },
  {
   "cell_type": "code",
   "execution_count": 2,
   "id": "0f011da8-2cc6-42a1-a589-3e10dd2103e2",
   "metadata": {},
   "outputs": [
    {
     "name": "stdout",
     "output_type": "stream",
     "text": [
      "0.9761870601839526 0.004395375691816597\n"
     ]
    }
   ],
   "source": [
    "import numpy as np\n",
    "import scipy.stats as stats # 수치해석, 통계 관련 라이브러리\n",
    "\n",
    "# 샘플 데이터\n",
    "x = np.array([10, 20, 30, 40, 50])\n",
    "y = np.array([5, 15, 30, 35, 40])\n",
    "\n",
    "coeff, p_value = stats.pearsonr(x, y)\n",
    "#    상관계수    p_value\n",
    "print(coeff,     p_value)"
   ]
  },
  {
   "cell_type": "markdown",
   "id": "67c4d56d-fad5-4ad2-ae88-2f5a22be4d2a",
   "metadata": {},
   "source": [
    "# 회귀분석\n",
    "- 통계적 접근 : 수많은 가정을 이해해야 함 (오늘 수업)\n",
    "  + statsmodels 라이브러리러 메인 활용\n",
    "- ML/DL 접근 : 수치 예측, 수치 예측이 가능한 모델이 상품화 할 수 있는가? (ML/DL)\n",
    "  + scikit-learn 라이브러리 활용"
   ]
  },
  {
   "cell_type": "code",
   "execution_count": 6,
   "id": "0ba1eb57-4a58-420d-8f64-5213ba65928e",
   "metadata": {},
   "outputs": [
    {
     "data": {
      "text/html": [
       "<div>\n",
       "<style scoped>\n",
       "    .dataframe tbody tr th:only-of-type {\n",
       "        vertical-align: middle;\n",
       "    }\n",
       "\n",
       "    .dataframe tbody tr th {\n",
       "        vertical-align: top;\n",
       "    }\n",
       "\n",
       "    .dataframe thead th {\n",
       "        text-align: right;\n",
       "    }\n",
       "</style>\n",
       "<table border=\"1\" class=\"dataframe\">\n",
       "  <thead>\n",
       "    <tr style=\"text-align: right;\">\n",
       "      <th></th>\n",
       "      <th>sepal_length</th>\n",
       "      <th>sepal_width</th>\n",
       "      <th>petal_length</th>\n",
       "      <th>petal_width</th>\n",
       "      <th>species</th>\n",
       "    </tr>\n",
       "  </thead>\n",
       "  <tbody>\n",
       "    <tr>\n",
       "      <th>0</th>\n",
       "      <td>5.1</td>\n",
       "      <td>3.5</td>\n",
       "      <td>1.4</td>\n",
       "      <td>0.2</td>\n",
       "      <td>setosa</td>\n",
       "    </tr>\n",
       "    <tr>\n",
       "      <th>1</th>\n",
       "      <td>4.9</td>\n",
       "      <td>3.0</td>\n",
       "      <td>1.4</td>\n",
       "      <td>0.2</td>\n",
       "      <td>setosa</td>\n",
       "    </tr>\n",
       "    <tr>\n",
       "      <th>2</th>\n",
       "      <td>4.7</td>\n",
       "      <td>3.2</td>\n",
       "      <td>1.3</td>\n",
       "      <td>0.2</td>\n",
       "      <td>setosa</td>\n",
       "    </tr>\n",
       "    <tr>\n",
       "      <th>3</th>\n",
       "      <td>4.6</td>\n",
       "      <td>3.1</td>\n",
       "      <td>1.5</td>\n",
       "      <td>0.2</td>\n",
       "      <td>setosa</td>\n",
       "    </tr>\n",
       "    <tr>\n",
       "      <th>4</th>\n",
       "      <td>5.0</td>\n",
       "      <td>3.6</td>\n",
       "      <td>1.4</td>\n",
       "      <td>0.2</td>\n",
       "      <td>setosa</td>\n",
       "    </tr>\n",
       "  </tbody>\n",
       "</table>\n",
       "</div>"
      ],
      "text/plain": [
       "   sepal_length  sepal_width  petal_length  petal_width species\n",
       "0           5.1          3.5           1.4          0.2  setosa\n",
       "1           4.9          3.0           1.4          0.2  setosa\n",
       "2           4.7          3.2           1.3          0.2  setosa\n",
       "3           4.6          3.1           1.5          0.2  setosa\n",
       "4           5.0          3.6           1.4          0.2  setosa"
      ]
     },
     "execution_count": 6,
     "metadata": {},
     "output_type": "execute_result"
    }
   ],
   "source": [
    "import seaborn as sns\n",
    "temp = sns.load_dataset('iris')\n",
    "temp.head()"
   ]
  },
  {
   "cell_type": "markdown",
   "id": "984cc706-02f5-4abd-84a6-37bd41b7a520",
   "metadata": {},
   "source": [
    "- 머신러닝/딥러닝 ==> 내부 알고리즘, 수식과 통계이론으로 점철된 분야\n",
    "- 머신러닝 학습하기 전에는 반드시 모든 데이터가 숫자로 구성이 되어 있어야 함"
   ]
  },
  {
   "cell_type": "code",
   "execution_count": 7,
   "id": "9be50f7b-f6a9-44b5-af07-e71877b2e019",
   "metadata": {},
   "outputs": [
    {
     "data": {
      "text/html": [
       "<div>\n",
       "<style scoped>\n",
       "    .dataframe tbody tr th:only-of-type {\n",
       "        vertical-align: middle;\n",
       "    }\n",
       "\n",
       "    .dataframe tbody tr th {\n",
       "        vertical-align: top;\n",
       "    }\n",
       "\n",
       "    .dataframe thead th {\n",
       "        text-align: right;\n",
       "    }\n",
       "</style>\n",
       "<table border=\"1\" class=\"dataframe\">\n",
       "  <thead>\n",
       "    <tr style=\"text-align: right;\">\n",
       "      <th></th>\n",
       "      <th>Sepal_Length</th>\n",
       "      <th>Sepal_Width</th>\n",
       "      <th>Petal_Length</th>\n",
       "      <th>Petal_Width</th>\n",
       "      <th>species</th>\n",
       "    </tr>\n",
       "  </thead>\n",
       "  <tbody>\n",
       "    <tr>\n",
       "      <th>0</th>\n",
       "      <td>5.1</td>\n",
       "      <td>3.5</td>\n",
       "      <td>1.4</td>\n",
       "      <td>0.2</td>\n",
       "      <td>setosa</td>\n",
       "    </tr>\n",
       "    <tr>\n",
       "      <th>1</th>\n",
       "      <td>4.9</td>\n",
       "      <td>3.0</td>\n",
       "      <td>1.4</td>\n",
       "      <td>0.2</td>\n",
       "      <td>setosa</td>\n",
       "    </tr>\n",
       "    <tr>\n",
       "      <th>2</th>\n",
       "      <td>4.7</td>\n",
       "      <td>3.2</td>\n",
       "      <td>1.3</td>\n",
       "      <td>0.2</td>\n",
       "      <td>setosa</td>\n",
       "    </tr>\n",
       "    <tr>\n",
       "      <th>3</th>\n",
       "      <td>4.6</td>\n",
       "      <td>3.1</td>\n",
       "      <td>1.5</td>\n",
       "      <td>0.2</td>\n",
       "      <td>setosa</td>\n",
       "    </tr>\n",
       "    <tr>\n",
       "      <th>4</th>\n",
       "      <td>5.0</td>\n",
       "      <td>3.6</td>\n",
       "      <td>1.4</td>\n",
       "      <td>0.2</td>\n",
       "      <td>setosa</td>\n",
       "    </tr>\n",
       "  </tbody>\n",
       "</table>\n",
       "</div>"
      ],
      "text/plain": [
       "   Sepal_Length  Sepal_Width  Petal_Length  Petal_Width species\n",
       "0           5.1          3.5           1.4          0.2  setosa\n",
       "1           4.9          3.0           1.4          0.2  setosa\n",
       "2           4.7          3.2           1.3          0.2  setosa\n",
       "3           4.6          3.1           1.5          0.2  setosa\n",
       "4           5.0          3.6           1.4          0.2  setosa"
      ]
     },
     "execution_count": 7,
     "metadata": {},
     "output_type": "execute_result"
    }
   ],
   "source": [
    "import numpy as np \n",
    "import pandas as pd\n",
    "from sklearn.datasets import load_iris\n",
    "\n",
    "df_iris = load_iris()\n",
    "\n",
    "# pandas DataFrame으로 변환 \n",
    "iris = pd.DataFrame(data = df_iris.data, columns = df_iris.feature_names)\n",
    "iris.columns = ['Sepal_Length','Sepal_Width','Petal_Length','Petal_Width']\n",
    "\n",
    "# 타켓 클래스명 추가\n",
    "iris['species'] = df_iris.target\n",
    "\n",
    "# species 라벨을 실제 이름으로 변경\n",
    "# pandas 메서드, map()\n",
    "# (0: setosa, 1: versicolor, 2: virginica)\n",
    "iris[\"species\"] = iris[\"species\"].map({0: \"setosa\", 1: \"versicolor\", 2: \"virginica\"})\n",
    "iris.head()"
   ]
  },
  {
   "cell_type": "markdown",
   "id": "b6fad813-2c0f-44ed-9447-178d1d68061e",
   "metadata": {},
   "source": [
    "## 통계적 관점에서의 회귀모델 \n",
    "- statsmodels 라이브러리 활용\n",
    "- 링크 : 추가\n",
    "- 회귀모형\n",
    "  + 모형이 유의한가?, 기울기 관점에서 이해\n",
    "    - 1차함수, y = b0 + b1x1 + b2x2 + e\n",
    "  + 모형을 사용할 수 있는가?\n",
    "  + 가설설정\n",
    "    - 귀무가설 : 기울기가 0인가?\n",
    "    - 대립가설 : 기울기가 0이 아니다.\n",
    "- 회귀식 자체에 대해서 살펴보는 통계량 F통계량 (F 통계량은 실전에서는 딱히 중요하지 않음)\n",
    "- 개별적인 필드(컬럼)에 관한 기울기 통계량 t통계량 (특정한 필드를 선정해야 해서, 이 통계량이 중요함)"
   ]
  },
  {
   "cell_type": "code",
   "execution_count": 9,
   "id": "14168574-e775-4ec7-aa78-1f2e2d3e1e56",
   "metadata": {},
   "outputs": [
    {
     "name": "stdout",
     "output_type": "stream",
     "text": [
      "                            OLS Regression Results                            \n",
      "==============================================================================\n",
      "Dep. Variable:           Petal_Length   R-squared:                       0.949\n",
      "Model:                            OLS   Adj. R-squared:                  0.948\n",
      "Method:                 Least Squares   F-statistic:                     1354.\n",
      "Date:                Fri, 16 May 2025   Prob (F-statistic):           2.01e-95\n",
      "Time:                        09:48:42   Log-Likelihood:                -75.090\n",
      "No. Observations:                 150   AIC:                             156.2\n",
      "Df Residuals:                     147   BIC:                             165.2\n",
      "Df Model:                           2                                         \n",
      "Covariance Type:            nonrobust                                         \n",
      "================================================================================\n",
      "                   coef    std err          t      P>|t|      [0.025      0.975]\n",
      "--------------------------------------------------------------------------------\n",
      "Intercept       -1.5071      0.337     -4.473      0.000      -2.173      -0.841\n",
      "Petal_Width      1.7481      0.075     23.205      0.000       1.599       1.897\n",
      "Sepal_Length     0.5423      0.069      7.820      0.000       0.405       0.679\n",
      "==============================================================================\n",
      "Omnibus:                        1.243   Durbin-Watson:                   1.339\n",
      "Prob(Omnibus):                  0.537   Jarque-Bera (JB):                0.840\n",
      "Skew:                          -0.058   Prob(JB):                        0.657\n",
      "Kurtosis:                       3.348   Cond. No.                         64.7\n",
      "==============================================================================\n",
      "\n",
      "Notes:\n",
      "[1] Standard Errors assume that the covariance matrix of the errors is correctly specified.\n"
     ]
    }
   ],
   "source": [
    "import statsmodels.api as sm\n",
    "import statsmodels.formula.api as smf # 유쾌한 R 통계학, formula 형태로 모델 만듬\n",
    "\n",
    "# 방법 1. \n",
    "# 실제 프로젝트 할 때는 가장 어려운 것! y값을 정하는 것 ==> 프로젝트 주제 \n",
    "model = smf.ols('Petal_Length ~ Petal_Width + Sepal_Length', data = iris).fit()\n",
    "print(model.summary())\n",
    "\n",
    "# 분석가 희망자들 : 아래 결과를 모두 이해하는 방향으로 공부\n",
    "# 데이터 엔지니어 : R-squared, 이것만 확인"
   ]
  },
  {
   "cell_type": "code",
   "execution_count": 10,
   "id": "6c42a70a-cac7-4aa6-88ef-18ec4fab4232",
   "metadata": {},
   "outputs": [
    {
     "name": "stdout",
     "output_type": "stream",
     "text": [
      "                 Generalized Linear Model Regression Results                  \n",
      "==============================================================================\n",
      "Dep. Variable:           Petal_Length   No. Observations:                  150\n",
      "Model:                            GLM   Df Residuals:                      147\n",
      "Model Family:                Gaussian   Df Model:                            2\n",
      "Link Function:               Identity   Scale:                         0.16260\n",
      "Method:                          IRLS   Log-Likelihood:                -75.090\n",
      "Date:                Fri, 16 May 2025   Deviance:                       23.902\n",
      "Time:                        10:03:57   Pearson chi2:                     23.9\n",
      "No. Iterations:                     3   Pseudo R-squ. (CS):              1.000\n",
      "Covariance Type:            nonrobust                                         \n",
      "================================================================================\n",
      "                   coef    std err          z      P>|z|      [0.025      0.975]\n",
      "--------------------------------------------------------------------------------\n",
      "Intercept       -1.5071      0.337     -4.473      0.000      -2.168      -0.847\n",
      "Petal_Width      1.7481      0.075     23.205      0.000       1.600       1.896\n",
      "Sepal_Length     0.5423      0.069      7.820      0.000       0.406       0.678\n",
      "================================================================================\n"
     ]
    }
   ],
   "source": [
    "# 방법2                                                                # 다중선형회귀 모형\n",
    "model2 = smf.glm(\"Petal_Length ~ Petal_Width + Sepal_Length\", family = sm.families.Gaussian(), data = iris).fit()\n",
    "print(model2.summary())"
   ]
  },
  {
   "cell_type": "code",
   "execution_count": 11,
   "id": "b8554689-c9bb-48e4-ad77-138f120b3208",
   "metadata": {},
   "outputs": [
    {
     "name": "stdout",
     "output_type": "stream",
     "text": [
      "                            OLS Regression Results                            \n",
      "==============================================================================\n",
      "Dep. Variable:           Petal_Length   R-squared:                       0.978\n",
      "Model:                            OLS   Adj. R-squared:                  0.977\n",
      "Method:                 Least Squares   F-statistic:                     1600.\n",
      "Date:                Fri, 16 May 2025   Prob (F-statistic):          8.06e-119\n",
      "Time:                        10:06:19   Log-Likelihood:                -11.867\n",
      "No. Observations:                 150   AIC:                             33.73\n",
      "Df Residuals:                     145   BIC:                             48.79\n",
      "Df Model:                           4                                         \n",
      "Covariance Type:            nonrobust                                         \n",
      "============================================================================================\n",
      "                               coef    std err          t      P>|t|      [0.025      0.975]\n",
      "--------------------------------------------------------------------------------------------\n",
      "Intercept                   -1.4596      0.224     -6.520      0.000      -1.902      -1.017\n",
      "C(species)[T.versicolor]     1.7315      0.128     13.567      0.000       1.479       1.984\n",
      "C(species)[T.virginica]      2.3047      0.198     11.617      0.000       1.913       2.697\n",
      "Petal_Width                  0.5064      0.115      4.393      0.000       0.279       0.734\n",
      "Sepal_Length                 0.5587      0.046     12.191      0.000       0.468       0.649\n",
      "==============================================================================\n",
      "Omnibus:                        1.189   Durbin-Watson:                   1.620\n",
      "Prob(Omnibus):                  0.552   Jarque-Bera (JB):                0.786\n",
      "Skew:                          -0.059   Prob(JB):                        0.675\n",
      "Kurtosis:                       3.335   Cond. No.                         72.1\n",
      "==============================================================================\n",
      "\n",
      "Notes:\n",
      "[1] Standard Errors assume that the covariance matrix of the errors is correctly specified.\n"
     ]
    }
   ],
   "source": [
    "# 방법 3, 범주형 데이터가 들어갈 경우 C()로 작성해서 해당 필드가 범주형 변수 명시, 자체적으로 인코딩이 됨\n",
    "model3 = smf.ols(\"Petal_Length ~ Petal_Width + Sepal_Length + C(species)\", data = iris).fit()\n",
    "print(model3.summary())"
   ]
  },
  {
   "cell_type": "code",
   "execution_count": 15,
   "id": "99078404-bbd4-4a1f-a845-604dc0f967c7",
   "metadata": {},
   "outputs": [
    {
     "name": "stdout",
     "output_type": "stream",
     "text": [
      "                            OLS Regression Results                            \n",
      "==============================================================================\n",
      "Dep. Variable:           Petal_Length   R-squared:                       0.949\n",
      "Model:                            OLS   Adj. R-squared:                  0.948\n",
      "Method:                 Least Squares   F-statistic:                     1354.\n",
      "Date:                Fri, 16 May 2025   Prob (F-statistic):           2.01e-95\n",
      "Time:                        10:44:09   Log-Likelihood:                -75.090\n",
      "No. Observations:                 150   AIC:                             156.2\n",
      "Df Residuals:                     147   BIC:                             165.2\n",
      "Df Model:                           2                                         \n",
      "Covariance Type:            nonrobust                                         \n",
      "================================================================================\n",
      "                   coef    std err          t      P>|t|      [0.025      0.975]\n",
      "--------------------------------------------------------------------------------\n",
      "const           -1.5071      0.337     -4.473      0.000      -2.173      -0.841\n",
      "Petal_Width      1.7481      0.075     23.205      0.000       1.599       1.897\n",
      "Sepal_Length     0.5423      0.069      7.820      0.000       0.405       0.679\n",
      "==============================================================================\n",
      "Omnibus:                        1.243   Durbin-Watson:                   1.339\n",
      "Prob(Omnibus):                  0.537   Jarque-Bera (JB):                0.840\n",
      "Skew:                          -0.058   Prob(JB):                        0.657\n",
      "Kurtosis:                       3.348   Cond. No.                         64.7\n",
      "==============================================================================\n",
      "\n",
      "Notes:\n",
      "[1] Standard Errors assume that the covariance matrix of the errors is correctly specified.\n"
     ]
    }
   ],
   "source": [
    "## 방법 4. 행렬 활용\n",
    "X = iris[['Petal_Width', 'Sepal_Length']]\n",
    "y = iris['Petal_Length']\n",
    "\n",
    "X = sm.add_constant(X)\n",
    "\n",
    "model4 = sm.OLS(y, X).fit()\n",
    "\n",
    "print(model4.summary())"
   ]
  },
  {
   "cell_type": "code",
   "execution_count": 16,
   "id": "a424dfa0-213f-4b1b-87f1-f0786e107173",
   "metadata": {},
   "outputs": [
    {
     "name": "stdout",
     "output_type": "stream",
     "text": [
      "                            OLS Regression Results                            \n",
      "==============================================================================\n",
      "Dep. Variable:           Petal_Length   R-squared:                       0.949\n",
      "Model:                            OLS   Adj. R-squared:                  0.948\n",
      "Method:                 Least Squares   F-statistic:                     1354.\n",
      "Date:                Fri, 16 May 2025   Prob (F-statistic):           2.01e-95\n",
      "Time:                        10:44:24   Log-Likelihood:                -75.090\n",
      "No. Observations:                 150   AIC:                             156.2\n",
      "Df Residuals:                     147   BIC:                             165.2\n",
      "Df Model:                           2                                         \n",
      "Covariance Type:            nonrobust                                         \n",
      "================================================================================\n",
      "                   coef    std err          t      P>|t|      [0.025      0.975]\n",
      "--------------------------------------------------------------------------------\n",
      "Intercept       -1.5071      0.337     -4.473      0.000      -2.173      -0.841\n",
      "Petal_Width      1.7481      0.075     23.205      0.000       1.599       1.897\n",
      "Sepal_Length     0.5423      0.069      7.820      0.000       0.405       0.679\n",
      "==============================================================================\n",
      "Omnibus:                        1.243   Durbin-Watson:                   1.339\n",
      "Prob(Omnibus):                  0.537   Jarque-Bera (JB):                0.840\n",
      "Skew:                          -0.058   Prob(JB):                        0.657\n",
      "Kurtosis:                       3.348   Cond. No.                         64.7\n",
      "==============================================================================\n",
      "\n",
      "Notes:\n",
      "[1] Standard Errors assume that the covariance matrix of the errors is correctly specified.\n"
     ]
    }
   ],
   "source": [
    "# 회귀계수에 따른 모델식\n",
    "model = smf.ols('Petal_Length ~ Petal_Width + Sepal_Length', data = iris).fit()\n",
    "print(model.summary())"
   ]
  },
  {
   "cell_type": "code",
   "execution_count": 19,
   "id": "dfdb8f4a-b232-4c13-9505-82cebc8180f9",
   "metadata": {},
   "outputs": [
    {
     "data": {
      "text/plain": [
       "'Petal_Width'"
      ]
     },
     "execution_count": 19,
     "metadata": {},
     "output_type": "execute_result"
    }
   ],
   "source": [
    "# 회귀식\n",
    "# Petal_Length_result = -1.5071 + 1.7481xPetal_Width + 0.5423xSepal_Length\n",
    "# 만약에 필드가 10개가 있는데, 그 중에서 p > 0.05이상인 필드가 3개 있음\n",
    "# 그럼 어떻게 해야할까요? \n",
    "# 가장 좋은 모델을 선정하는 방법 (항상, AIC, BIC 같이 지표를 봐야함)\n",
    "# 잘못 알려진 사실 : A, B, C 컬럼을 한꺼번에 제거하고 나머지 7개를 활용하여 다시 모델을 만드는 방법\n",
    "# 제대로 하려면, A, B, C 중에서 t통계량이 가장 낮은 것을 제거하고, B, C 포함해서 9개 필드를 활용해서 모델을 다시 만들기\n",
    "# 그리고나서 기존모델과 새로운 모델 비교 (AIC, BIC, Adj. R-squared 같이 활용해서 종합적으로 판단)\n",
    "# 최적의 조합을 찾는 것이 핵심 (현실 가능해야 하고, 현실 적용이 되어야 함)\n",
    "# 부동산 가격 예측 모델\n",
    "# 평수가 높으면 높을수록 가격이 올라간다는 명제, p-value 값이 매우 높게 나와도 현실적으로 활용\n",
    "# 회귀계수 추출\n",
    "model.params[1:]\n",
    "\n",
    "# 회귀계수가 가장 큰 변수 출력 (idxmax())\n",
    "model.params[1:].idxmax()"
   ]
  },
  {
   "cell_type": "code",
   "execution_count": 21,
   "id": "2e419efe-e701-4e4e-b675-bb36b3b650f6",
   "metadata": {},
   "outputs": [
    {
     "name": "stdout",
     "output_type": "stream",
     "text": [
      "Intercept       -4.472752\n",
      "Petal_Width     23.205443\n",
      "Sepal_Length     7.819907\n",
      "dtype: float64\n",
      "Intercept       1.535178e-05\n",
      "Petal_Width     5.257543e-51\n",
      "Sepal_Length    9.414477e-13\n",
      "dtype: float64\n"
     ]
    }
   ],
   "source": [
    "t_values = model.tvalues\n",
    "print(t_values)\n",
    "\n",
    "p_values = model.pvalues\n",
    "print(p_values)"
   ]
  },
  {
   "cell_type": "code",
   "execution_count": 22,
   "id": "bf0e9bf3-2fce-48f6-8ce7-0ef2015828a8",
   "metadata": {},
   "outputs": [
    {
     "data": {
      "text/html": [
       "<div>\n",
       "<style scoped>\n",
       "    .dataframe tbody tr th:only-of-type {\n",
       "        vertical-align: middle;\n",
       "    }\n",
       "\n",
       "    .dataframe tbody tr th {\n",
       "        vertical-align: top;\n",
       "    }\n",
       "\n",
       "    .dataframe thead th {\n",
       "        text-align: right;\n",
       "    }\n",
       "</style>\n",
       "<table border=\"1\" class=\"dataframe\">\n",
       "  <thead>\n",
       "    <tr style=\"text-align: right;\">\n",
       "      <th></th>\n",
       "      <th>0</th>\n",
       "      <th>1</th>\n",
       "    </tr>\n",
       "  </thead>\n",
       "  <tbody>\n",
       "    <tr>\n",
       "      <th>Intercept</th>\n",
       "      <td>-2.173050</td>\n",
       "      <td>-0.841227</td>\n",
       "    </tr>\n",
       "    <tr>\n",
       "      <th>Petal_Width</th>\n",
       "      <td>1.599230</td>\n",
       "      <td>1.896976</td>\n",
       "    </tr>\n",
       "    <tr>\n",
       "      <th>Sepal_Length</th>\n",
       "      <td>0.405218</td>\n",
       "      <td>0.679294</td>\n",
       "    </tr>\n",
       "  </tbody>\n",
       "</table>\n",
       "</div>"
      ],
      "text/plain": [
       "                     0         1\n",
       "Intercept    -2.173050 -0.841227\n",
       "Petal_Width   1.599230  1.896976\n",
       "Sepal_Length  0.405218  0.679294"
      ]
     },
     "execution_count": 22,
     "metadata": {},
     "output_type": "execute_result"
    }
   ],
   "source": [
    "conf_intervals = model.conf_int() # 신뢰구간 추출 95%\n",
    "conf_intervals"
   ]
  },
  {
   "cell_type": "code",
   "execution_count": 23,
   "id": "2b907803-7212-4251-a6ef-2cbe9966b65e",
   "metadata": {},
   "outputs": [
    {
     "data": {
      "text/html": [
       "<div>\n",
       "<style scoped>\n",
       "    .dataframe tbody tr th:only-of-type {\n",
       "        vertical-align: middle;\n",
       "    }\n",
       "\n",
       "    .dataframe tbody tr th {\n",
       "        vertical-align: top;\n",
       "    }\n",
       "\n",
       "    .dataframe thead th {\n",
       "        text-align: right;\n",
       "    }\n",
       "</style>\n",
       "<table border=\"1\" class=\"dataframe\">\n",
       "  <thead>\n",
       "    <tr style=\"text-align: right;\">\n",
       "      <th></th>\n",
       "      <th>0</th>\n",
       "      <th>1</th>\n",
       "    </tr>\n",
       "  </thead>\n",
       "  <tbody>\n",
       "    <tr>\n",
       "      <th>Intercept</th>\n",
       "      <td>-2.064903</td>\n",
       "      <td>-0.949373</td>\n",
       "    </tr>\n",
       "    <tr>\n",
       "      <th>Petal_Width</th>\n",
       "      <td>1.623408</td>\n",
       "      <td>1.872798</td>\n",
       "    </tr>\n",
       "    <tr>\n",
       "      <th>Sepal_Length</th>\n",
       "      <td>0.427473</td>\n",
       "      <td>0.657038</td>\n",
       "    </tr>\n",
       "  </tbody>\n",
       "</table>\n",
       "</div>"
      ],
      "text/plain": [
       "                     0         1\n",
       "Intercept    -2.064903 -0.949373\n",
       "Petal_Width   1.623408  1.872798\n",
       "Sepal_Length  0.427473  0.657038"
      ]
     },
     "execution_count": 23,
     "metadata": {},
     "output_type": "execute_result"
    }
   ],
   "source": [
    "conf_intervals = model.conf_int(alpha = 0.10) # 신뢰구간 추출 90%\n",
    "conf_intervals"
   ]
  },
  {
   "cell_type": "markdown",
   "id": "83d40071-a1c4-4639-9632-e471da09ebce",
   "metadata": {},
   "source": [
    "### 모델 평가 지표\n",
    "- 결정계수 (SST = SSR + SSE)\n",
    "  + 회귀제곱합(SSR)만 집중적으로 공부해서 이해가 되면 OK\n",
    "- F통계량"
   ]
  },
  {
   "cell_type": "code",
   "execution_count": 25,
   "id": "e63fe728-be15-495a-9f98-71c651f4a35a",
   "metadata": {},
   "outputs": [
    {
     "data": {
      "text/plain": [
       "(np.float64(0.9485236349446816), np.float64(0.947823276236446))"
      ]
     },
     "execution_count": 25,
     "metadata": {},
     "output_type": "execute_result"
    }
   ],
   "source": [
    "# 결정계수      수정된 결정계수\n",
    "model.rsquared, model.rsquared_adj"
   ]
  },
  {
   "cell_type": "markdown",
   "id": "0ea540e3-85da-4d19-96be-c2749689a2b2",
   "metadata": {},
   "source": [
    "### 모델 비교"
   ]
  },
  {
   "cell_type": "code",
   "execution_count": 30,
   "id": "430d4c4c-7bec-488c-af18-71279cbb10ef",
   "metadata": {},
   "outputs": [
    {
     "data": {
      "text/plain": [
       "(np.float64(206.35386357991936),\n",
       " np.float64(156.17922963502622),\n",
       " np.float64(33.733547285926875),\n",
       " np.float64(206.35386357991936),\n",
       " np.float64(165.21113551731497),\n",
       " np.float64(48.78672375640815))"
      ]
     },
     "execution_count": 30,
     "metadata": {},
     "output_type": "execute_result"
    }
   ],
   "source": [
    "model0 = smf.ols(\"Petal_Length ~ Petal_Width\", data = iris).fit()\n",
    "model = smf.ols(\"Petal_Length ~ Petal_Width + Sepal_Length\", data = iris).fit()\n",
    "model3 = smf.ols(\"Petal_Length ~ Petal_Width + Sepal_Length + C(species)\", data = iris).fit()\n",
    "\n",
    "# 두 모델을 비교할 때, 어느 것이 좋은 모델이냐?\n",
    "\n",
    "model0.aic, model.aic, model3.aic, model0.aic, model.bic, model3.bic"
   ]
  },
  {
   "cell_type": "markdown",
   "id": "147c681a-8efb-44fc-a885-cf7f6fec7f48",
   "metadata": {},
   "source": [
    "### 범주형 데이터가 있을 때 해석 방법\n",
    "- 계수 해석 방법\n",
    "- 모든 값들이 출력이 안됨, setosa가 제외가 됨"
   ]
  },
  {
   "cell_type": "code",
   "execution_count": 32,
   "id": "f1460890-fc71-45ec-b73e-c437e3745c39",
   "metadata": {
    "scrolled": true
   },
   "outputs": [
    {
     "name": "stdout",
     "output_type": "stream",
     "text": [
      "                            OLS Regression Results                            \n",
      "==============================================================================\n",
      "Dep. Variable:           Petal_Length   R-squared:                       0.978\n",
      "Model:                            OLS   Adj. R-squared:                  0.977\n",
      "Method:                 Least Squares   F-statistic:                     1600.\n",
      "Date:                Fri, 16 May 2025   Prob (F-statistic):          8.06e-119\n",
      "Time:                        11:28:27   Log-Likelihood:                -11.867\n",
      "No. Observations:                 150   AIC:                             33.73\n",
      "Df Residuals:                     145   BIC:                             48.79\n",
      "Df Model:                           4                                         \n",
      "Covariance Type:            nonrobust                                         \n",
      "============================================================================================\n",
      "                               coef    std err          t      P>|t|      [0.025      0.975]\n",
      "--------------------------------------------------------------------------------------------\n",
      "Intercept                   -1.4596      0.224     -6.520      0.000      -1.902      -1.017\n",
      "C(species)[T.versicolor]     1.7315      0.128     13.567      0.000       1.479       1.984\n",
      "C(species)[T.virginica]      2.3047      0.198     11.617      0.000       1.913       2.697\n",
      "Petal_Width                  0.5064      0.115      4.393      0.000       0.279       0.734\n",
      "Sepal_Length                 0.5587      0.046     12.191      0.000       0.468       0.649\n",
      "==============================================================================\n",
      "Omnibus:                        1.189   Durbin-Watson:                   1.620\n",
      "Prob(Omnibus):                  0.552   Jarque-Bera (JB):                0.786\n",
      "Skew:                          -0.059   Prob(JB):                        0.675\n",
      "Kurtosis:                       3.335   Cond. No.                         72.1\n",
      "==============================================================================\n",
      "\n",
      "Notes:\n",
      "[1] Standard Errors assume that the covariance matrix of the errors is correctly specified.\n"
     ]
    }
   ],
   "source": [
    "print(model3.summary())"
   ]
  },
  {
   "cell_type": "markdown",
   "id": "6ec3150f-f2ea-4da3-bfd5-8acdfbb8c93e",
   "metadata": {},
   "source": [
    "### 위 모형을 사용할 수 있는가?\n",
    "- 독립성 가정 체크 (더빈-왓슨 통계량)\n",
    "  + d = 2 : 잔차 간의 자기상관이 존재하지 않음\n",
    "  + d < 2 or d > 2 : 잔차 간의 자기 상관이 존재\n",
    "- 잔차의 정규성 체크\n",
    "  + 샤피로 윌크스 검정, 앤더슨-달링 테스트(자주 사용 X)\n",
    "- 잔차의 등분산성 체크\n",
    "  + Breusch-Pagan 검정\n",
    "- 다중공선성 체크 (VIF)\n",
    "  + 수치 데이터가 100개가 존재함, 상관관계 매트릭스, 0.95. 0.90\n",
    "  + 매출 예측 모델\n",
    "    + VIF가 10이상이면 다른 독립변수들간의 선형적인 관계가 높음 ==> 해당 필드 제거 후, 모델 다시 만들기\n",
    "    + 독립변수 : 광고비, 클릭률, 전환율, 광고노출율\n",
    "    + 종속변수 : 매출"
   ]
  },
  {
   "cell_type": "code",
   "execution_count": 33,
   "id": "7193ce6e-03e2-4a80-b007-4076d7751da8",
   "metadata": {},
   "outputs": [
    {
     "name": "stdout",
     "output_type": "stream",
     "text": [
      "Durbin-Watson statistic:    1.339\n"
     ]
    }
   ],
   "source": [
    "# 더빈 왓슨 \n",
    "dw_stat = model.summary( ).tables[2].data[0][3]\n",
    "print(f'Durbin-Watson statistic: {dw_stat}')"
   ]
  },
  {
   "cell_type": "code",
   "execution_count": 34,
   "id": "0627d3a2-989e-4563-8acd-e51210f5417f",
   "metadata": {},
   "outputs": [
    {
     "name": "stdout",
     "output_type": "stream",
     "text": [
      "1.339118544138463\n"
     ]
    }
   ],
   "source": [
    "from statsmodels.stats.stattools import durbin_watson\n",
    "dw_stat = durbin_watson(model.resid)\n",
    "print(dw_stat)"
   ]
  },
  {
   "cell_type": "code",
   "execution_count": 35,
   "id": "d4c105cf-bc07-4d8d-9a67-e41815f99b54",
   "metadata": {},
   "outputs": [
    {
     "name": "stdout",
     "output_type": "stream",
     "text": [
      "Anderson-Darling Test Statistic: 0.2799444785279661\n",
      "Critical Values: [0.562 0.64  0.767 0.895 1.065]\n",
      "Significance Levels: [15.  10.   5.   2.5  1. ]\n"
     ]
    }
   ],
   "source": [
    "# 잔차 계산\n",
    "from scipy.stats import anderson\n",
    "residuals = model.resid\n",
    "\n",
    "# 엔더슨-달링 테스트\n",
    "ad_stat, ad_critical_values, ad_significance_level = anderson(residuals, dist = 'norm')\n",
    "print(f'Anderson-Darling Test Statistic: {ad_stat}')\n",
    "print(f'Critical Values: {ad_critical_values}') # (15%, 10%, 5%, 2.5%, 1%)에 대한 임곗값\n",
    "print(f'Significance Levels: {ad_significance_level}')"
   ]
  },
  {
   "cell_type": "code",
   "execution_count": 36,
   "id": "97dda339-11f0-47dc-9691-c0bdc243d928",
   "metadata": {},
   "outputs": [
    {
     "name": "stdout",
     "output_type": "stream",
     "text": [
      "Shapiro-Wilk Test Statistic: 0.9932794545480742\n",
      "p-value: 0.7114249301708787\n"
     ]
    }
   ],
   "source": [
    "from scipy.stats import shapiro\n",
    "\n",
    "# 샤피로-윌크 테스트\n",
    "sw_stat, sw_p_value = shapiro(residuals)\n",
    "print(f'Shapiro-Wilk Test Statistic: {sw_stat}')\n",
    "print(f'p-value: {sw_p_value}')"
   ]
  },
  {
   "cell_type": "code",
   "execution_count": 37,
   "id": "737dd04c-83f9-4fa5-9285-9c6ca25385f1",
   "metadata": {},
   "outputs": [
    {
     "name": "stdout",
     "output_type": "stream",
     "text": [
      "BP-test statistics: 6.209462862284509\n",
      "p-value: 0.044836558645739086\n"
     ]
    }
   ],
   "source": [
    "# 등분산성 검정\n",
    "from statsmodels.stats.diagnostic import het_breuschpagan\n",
    "bptest = het_breuschpagan(model.resid, model.model.exog)\n",
    "\n",
    "print('BP-test statistics:', bptest[0])\n",
    "print('p-value:', bptest[1])"
   ]
  },
  {
   "cell_type": "markdown",
   "id": "03c5f821-8099-451d-9650-b324dfbfe882",
   "metadata": {},
   "source": [
    "### VIF 계산"
   ]
  },
  {
   "cell_type": "code",
   "execution_count": 38,
   "id": "f439b105-ecef-49c6-badb-62e37e3b0c62",
   "metadata": {},
   "outputs": [
    {
     "name": "stdout",
     "output_type": "stream",
     "text": [
      "       Variable       VIF\n",
      "0   Petal_Width  5.150649\n",
      "1  Sepal_Length  5.150649\n"
     ]
    }
   ],
   "source": [
    "from statsmodels.stats.outliers_influence import variance_inflation_factor\n",
    "X = iris[['Petal_Width', 'Sepal_Length']]\n",
    "\n",
    "# VIF 계산\n",
    "vif_data = pd.DataFrame( )\n",
    "vif_data[\"Variable\"] = X.columns\n",
    "vif_data[\"VIF\"] = [variance_inflation_factor(X.values, i) for i in range(X.shape[1])]\n",
    "print(vif_data)"
   ]
  },
  {
   "cell_type": "markdown",
   "id": "76e4a488-64d7-4c3c-a9ba-dcf6d6000082",
   "metadata": {},
   "source": [
    "### 예측 및 추정"
   ]
  },
  {
   "cell_type": "code",
   "execution_count": 40,
   "id": "9c182a24-671d-44b7-9749-a125ff96f7c8",
   "metadata": {},
   "outputs": [
    {
     "name": "stdout",
     "output_type": "stream",
     "text": [
      "예측값:\n",
      " 0    1.499535\n",
      "1    4.097422\n",
      "2    4.073155\n",
      "3    5.796990\n",
      "4    5.543687\n",
      "dtype: float64\n",
      "MSE: 0.3999\n"
     ]
    }
   ],
   "source": [
    "from sklearn.metrics import mean_squared_error\n",
    "\n",
    "# 새로운 데이터 생성 (행 5개)\n",
    "new_data = pd.DataFrame({\n",
    "'Petal_Width': [0.2, 1.5, 1.3, 2.1, 1.8],\n",
    "'Sepal_Length': [4.9, 5.5, 6.1, 6.7, 7.2],\n",
    "'species': ['setosa', 'versicolor', 'virginica', 'versicolor', 'virginica']})\n",
    "\n",
    "# 예측값 계산\n",
    "y_pred = model.predict(new_data)\n",
    "\n",
    "# 실제값과 비교할 y_true 생성 (예제 값 사용)\n",
    "y_true = np.array([1.4, 4.7, 5.1, 5.8, 6.3])\n",
    "\n",
    "# MSE 계산\n",
    "mse_score = mean_squared_error(y_true, y_pred)\n",
    "\n",
    "# 결과 출력\n",
    "print(\"예측값:\\n\", y_pred)\n",
    "print(f\"MSE: {mse_score:.4f}\")"
   ]
  },
  {
   "cell_type": "markdown",
   "id": "850ec2e1-8e82-4764-b87e-3edd4cd39212",
   "metadata": {},
   "source": [
    "# 로지스틱회귀분석"
   ]
  },
  {
   "cell_type": "markdown",
   "id": "108c4152-411f-4fa1-ad4e-dca5ad39e78c",
   "metadata": {},
   "source": [
    "## ODDS RATIO (오즈비)\n",
    "$$  \n",
    "\\text{Odds Ratio} = \\frac{a/c}{b/d} = \\frac{ad}{bc}\n",
    "$$\n",
    "- OR = 1 : 두 그룹의 승산이 같다.\n",
    "- OR > 1 : 그룹 A가 앞면이 더 잘 나올 확률이 높다.\n",
    "- OR < 1 : 그룹 B가 앞면이 더 잘 나올 확률이 높다. "
   ]
  },
  {
   "cell_type": "markdown",
   "id": "0261ceb9-b9c5-4cce-9e03-9eb57c550155",
   "metadata": {},
   "source": [
    "- 동전 던지기 예시\n",
    "  + 그룹 A : 앞면이 잘 나오도록 설계\n",
    "  + 그룹 B : 일반 동전"
   ]
  },
  {
   "cell_type": "code",
   "execution_count": 41,
   "id": "03864895-99ff-4030-827e-58546f83f3c0",
   "metadata": {},
   "outputs": [
    {
     "name": "stdout",
     "output_type": "stream",
     "text": [
      "Odds Ratio = (30 × 20) / (10 × 20) = 3.00\n"
     ]
    }
   ],
   "source": [
    "# 데이터 정의\n",
    "a = 30  # 그룹 A: 앞면\n",
    "b = 10  # 그룹 A: 뒷면\n",
    "c = 20  # 그룹 B: 앞면\n",
    "d = 20  # 그룹 B: 뒷면\n",
    "\n",
    "# 승산비 계산\n",
    "odds_ratio = (a * d) / (b * c)\n",
    "\n",
    "print(f\"Odds Ratio = ({a} × {d}) / ({b} × {c}) = {odds_ratio:.2f}\")"
   ]
  },
  {
   "cell_type": "markdown",
   "id": "279cb15b-1770-4535-946b-9ca3f0dadcd6",
   "metadata": {},
   "source": [
    "- 해석 그룹 A는 그룹 B보다 앞면이 나올 \"승산\"이 3배 높다는 것을 코드로도 확인할 수 있다."
   ]
  },
  {
   "cell_type": "markdown",
   "id": "2a5b0a06-9283-4457-9fcd-c084818a2186",
   "metadata": {},
   "source": [
    "- 시험에 합격할 확률 0.7 -> 7/10\n",
    "- 불합 확률 0.3 -> 3/10\n",
    "- odds비가 2.33 => 시험에 합격할 확률이 그렇지 않을 확률보다 2.33배 높음"
   ]
  },
  {
   "cell_type": "markdown",
   "id": "d1d9d444-5f3d-4a86-b46b-fa8f7df197cb",
   "metadata": {},
   "source": [
    "## 시나리오\n",
    "- A 팀 : 16회 진출, 12번 16강 진출 ==> 진출 탈락, 3:1\n",
    "- B 팀 : 16회 진출, 4번 16강 진출 ==> 진출 탈락, 1:3\n",
    "- 오즈비\n",
    "  + Odds_A = 3\n",
    "  + Odds_B = 1/3\n",
    "  + 9배 높음"
   ]
  },
  {
   "cell_type": "code",
   "execution_count": 42,
   "id": "42cca337-ffff-4677-953a-ab9673461f92",
   "metadata": {},
   "outputs": [
    {
     "name": "stdout",
     "output_type": "stream",
     "text": [
      "Odds Ratio = (12×12) / (4×4) = 9.00\n"
     ]
    }
   ],
   "source": [
    "# 국가 A와 B의 진출/탈락 횟수\n",
    "a = 12  # A팀 16강 진출\n",
    "b = 4   # A팀 탈락\n",
    "c = 4   # B팀 16강 진출\n",
    "d = 12  # B팀 탈락\n",
    "\n",
    "# 승산비 계산\n",
    "odds_ratio = (a * d) / (b * c)\n",
    "print(f\"Odds Ratio = ({a}×{d}) / ({b}×{c}) = {odds_ratio:.2f}\")"
   ]
  },
  {
   "cell_type": "markdown",
   "id": "b3ffaad9-0fd3-46bb-9eda-66cb02e464cd",
   "metadata": {},
   "source": [
    "### 승산비\n",
    "- 로지스틱 회귀에서 독립 변수의 계수가 $𝛽$\n",
    "  + 그 변수의 단위 증가가 종속 변수의 승산비를 $e^{𝛽}$배 변화시킨다.\n",
    "  + e : 자연상수, 2.718\n",
    "$$\n",
    "\\text{Odds Ratio} = e^{\\beta}\n",
    "$$\n",
    "\n"
   ]
  },
  {
   "cell_type": "markdown",
   "id": "36211ba4-8fc5-48c9-8f66-848d50c249ec",
   "metadata": {},
   "source": [
    "- $\\beta = \\log(2) \\Rightarrow e^{\\beta} = 2$\n",
    "- $e^{\\beta} = 2$ => 해당 변수 증가 시 승산이 2배 증가"
   ]
  },
  {
   "cell_type": "code",
   "execution_count": 43,
   "id": "8e033039-2a1c-446a-b447-93ec06d73bf2",
   "metadata": {},
   "outputs": [
    {
     "name": "stdout",
     "output_type": "stream",
     "text": [
      "1.9999056411060796\n"
     ]
    }
   ],
   "source": [
    "beta = 0.6931 # 로지스틱 회귀분석의 기울기\n",
    "print(np.exp(beta))  # 약 2.0"
   ]
  },
  {
   "cell_type": "markdown",
   "id": "bf46a312-6e84-415e-b7de-05a2d2e042c6",
   "metadata": {},
   "source": [
    "## 로지스틱 회귀 기본 개념"
   ]
  },
  {
   "cell_type": "code",
   "execution_count": 1,
   "id": "bf474d60-8181-4a78-b0e8-0dfb857156b7",
   "metadata": {},
   "outputs": [
    {
     "name": "stdout",
     "output_type": "stream",
     "text": [
      "(400, 5)\n",
      "   admit  gre   gpa  rank gender\n",
      "0      0  380  3.61     3      M\n",
      "1      1  660  3.67     3      F\n",
      "2      1  800  4.00     1      F\n",
      "3      1  640  3.19     4      M\n",
      "4      0  520  2.93     4      M\n"
     ]
    }
   ],
   "source": [
    "import pandas as pd\n",
    "import numpy as np\n",
    "admission_data = pd.read_csv('https://raw.githubusercontent.com/YoungjinBD/data/main/admission.csv')\n",
    "print(admission_data.shape)\n",
    "print(admission_data.head( ))"
   ]
  },
  {
   "cell_type": "markdown",
   "id": "45fa3a25-1e0b-4303-b17a-a2fc42111ebb",
   "metadata": {},
   "source": [
    "- 합격비율\n",
    "- 성공할 확률 p, 실패할 확률 1-p\n",
    "- p / (1-p)"
   ]
  },
  {
   "cell_type": "code",
   "execution_count": 2,
   "id": "6b3018a3-3e73-4309-8980-312c4ac3a3fb",
   "metadata": {},
   "outputs": [
    {
     "data": {
      "text/plain": [
       "(np.float64(0.3175), np.float64(0.6825))"
      ]
     },
     "execution_count": 2,
     "metadata": {},
     "output_type": "execute_result"
    }
   ],
   "source": [
    "p_hat = admission_data['admit'].mean()\n",
    "p_hat, 1-p_hat # 성공, 실패"
   ]
  },
  {
   "cell_type": "code",
   "execution_count": 4,
   "id": "de766c97-e35e-464c-bb5f-5c207036ea38",
   "metadata": {},
   "outputs": [
    {
     "name": "stdout",
     "output_type": "stream",
     "text": [
      "odds ratio: 0.4652014652014652\n"
     ]
    }
   ],
   "source": [
    "# 합격률은 입학에 실패할 확률의 약 46.5%정도 이다.\n",
    "print('odds ratio:', p_hat/(1-p_hat))"
   ]
  },
  {
   "cell_type": "markdown",
   "id": "2d276245-480b-435e-8266-6f6a39691690",
   "metadata": {},
   "source": [
    "## 범주형 변수를 사용한 오즈 계산\n",
    "- rank 변수"
   ]
  },
  {
   "cell_type": "code",
   "execution_count": 6,
   "id": "e9c75773-9fd4-4cda-99fd-1bd3d6eb8862",
   "metadata": {},
   "outputs": [
    {
     "data": {
      "text/plain": [
       "[np.int64(1), np.int64(2), np.int64(3), np.int64(4)]"
      ]
     },
     "execution_count": 6,
     "metadata": {},
     "output_type": "execute_result"
    }
   ],
   "source": [
    "sorted(admission_data['rank'].unique())"
   ]
  },
  {
   "cell_type": "markdown",
   "id": "6cf206bf-3695-4505-bcd2-e3a9f1028707",
   "metadata": {},
   "source": [
    "- OR = 1 : 두 그룹의 승산이 같다.\n",
    "- OR > 1 : 합격할 확률이 불합격할 확률보다 18% 높음\n",
    "- OR < 1 : 합격할 확률보다 불합격할 확률이 더 높음"
   ]
  },
  {
   "cell_type": "code",
   "execution_count": 8,
   "id": "4477a7c6-0d00-4521-b1a1-53127c5a4da7",
   "metadata": {},
   "outputs": [
    {
     "data": {
      "text/html": [
       "<div>\n",
       "<style scoped>\n",
       "    .dataframe tbody tr th:only-of-type {\n",
       "        vertical-align: middle;\n",
       "    }\n",
       "\n",
       "    .dataframe tbody tr th {\n",
       "        vertical-align: top;\n",
       "    }\n",
       "\n",
       "    .dataframe thead th {\n",
       "        text-align: right;\n",
       "    }\n",
       "</style>\n",
       "<table border=\"1\" class=\"dataframe\">\n",
       "  <thead>\n",
       "    <tr style=\"text-align: right;\">\n",
       "      <th></th>\n",
       "      <th>p_admit</th>\n",
       "      <th>odds</th>\n",
       "    </tr>\n",
       "    <tr>\n",
       "      <th>rank</th>\n",
       "      <th></th>\n",
       "      <th></th>\n",
       "    </tr>\n",
       "  </thead>\n",
       "  <tbody>\n",
       "    <tr>\n",
       "      <th>1</th>\n",
       "      <td>0.540984</td>\n",
       "      <td>1.178571</td>\n",
       "    </tr>\n",
       "    <tr>\n",
       "      <th>2</th>\n",
       "      <td>0.357616</td>\n",
       "      <td>0.556701</td>\n",
       "    </tr>\n",
       "    <tr>\n",
       "      <th>3</th>\n",
       "      <td>0.231405</td>\n",
       "      <td>0.301075</td>\n",
       "    </tr>\n",
       "    <tr>\n",
       "      <th>4</th>\n",
       "      <td>0.179104</td>\n",
       "      <td>0.218182</td>\n",
       "    </tr>\n",
       "  </tbody>\n",
       "</table>\n",
       "</div>"
      ],
      "text/plain": [
       "       p_admit      odds\n",
       "rank                    \n",
       "1     0.540984  1.178571\n",
       "2     0.357616  0.556701\n",
       "3     0.231405  0.301075\n",
       "4     0.179104  0.218182"
      ]
     },
     "execution_count": 8,
     "metadata": {},
     "output_type": "execute_result"
    }
   ],
   "source": [
    "# 각 등급별 입학에 대한 오즈 구하기\n",
    "\n",
    "# 랭크별 합격비율\n",
    "grouped_df = admission_data.groupby('rank').agg(p_admit = ('admit', 'mean'))\n",
    "# odds 바로 구하기\n",
    "grouped_df['odds'] = grouped_df['p_admit'] / (1-grouped_df['p_admit'])\n",
    "grouped_df"
   ]
  },
  {
   "cell_type": "code",
   "execution_count": 9,
   "id": "23a4b2b1-3a61-4277-b915-6bd86ebbd749",
   "metadata": {},
   "outputs": [
    {
     "data": {
      "text/plain": [
       "0.5408631772268135"
      ]
     },
     "execution_count": 9,
     "metadata": {},
     "output_type": "execute_result"
    }
   ],
   "source": [
    "1.178 / (1.178 +1)"
   ]
  },
  {
   "cell_type": "code",
   "execution_count": 10,
   "id": "f7d33a02-d1fa-48e1-8ab7-a82ad5318d71",
   "metadata": {},
   "outputs": [
    {
     "name": "stderr",
     "output_type": "stream",
     "text": [
      "C:\\Users\\Admin\\AppData\\Local\\Temp\\ipykernel_15920\\1683255327.py:5: RuntimeWarning: divide by zero encountered in divide\n",
      "  log_odds = np.log(p / (1 - p))\n",
      "C:\\Users\\Admin\\AppData\\Local\\Temp\\ipykernel_15920\\1683255327.py:5: RuntimeWarning: divide by zero encountered in log\n",
      "  log_odds = np.log(p / (1 - p))\n"
     ]
    },
    {
     "data": {
      "image/png": "[encoded data removed]",
      "text/plain": [
       "<Figure size 640x480 with 1 Axes>"
      ]
     },
     "metadata": {},
     "output_type": "display_data"
    }
   ],
   "source": [
    "import numpy as np\n",
    "import matplotlib.pyplot as plt\n",
    "\n",
    "p = np.arange(0, 1.01, 0.01)\n",
    "log_odds = np.log(p / (1 - p))\n",
    "\n",
    "plt.plot(p, log_odds)\n",
    "plt.xlabel('p')\n",
    "plt.ylabel('log_odds')\n",
    "plt.title('Plot of log odds')\n",
    "plt.show( )"
   ]
  },
  {
   "cell_type": "code",
   "execution_count": null,
   "id": "0e535a4f-797c-4c96-b701-5f66e7839788",
   "metadata": {},
   "outputs": [],
   "source": [
    "--------------------------------"
   ]
  },
  {
   "cell_type": "code",
   "execution_count": 11,
   "id": "a8b8c00b-241e-439f-ae36-7dd05d8570dc",
   "metadata": {},
   "outputs": [
    {
     "name": "stderr",
     "output_type": "stream",
     "text": [
      "C:\\Users\\Admin\\AppData\\Local\\Temp\\ipykernel_15920\\1683255327.py:5: RuntimeWarning: divide by zero encountered in divide\n",
      "  log_odds = np.log(p / (1 - p))\n",
      "C:\\Users\\Admin\\AppData\\Local\\Temp\\ipykernel_15920\\1683255327.py:5: RuntimeWarning: divide by zero encountered in log\n",
      "  log_odds = np.log(p / (1 - p))\n"
     ]
    },
    {
     "data": {
      "image/png": "[encoded data removed]",
      "text/plain": [
       "<Figure size 640x480 with 1 Axes>"
      ]
     },
     "metadata": {},
     "output_type": "display_data"
    }
   ],
   "source": [
    "import numpy as np\n",
    "import matplotlib.pyplot as plt\n",
    "\n",
    "p = np.arange(0, 1.01, 0.01)\n",
    "log_odds = np.log(p / (1 - p))\n",
    "\n",
    "plt.plot(p, log_odds)\n",
    "plt.xlabel('p')\n",
    "plt.ylabel('log_odds')\n",
    "plt.title('Plot of log odds')\n",
    "plt.show( )"
   ]
  },
  {
   "cell_type": "code",
   "execution_count": 12,
   "id": "56fde1ac-7ab6-4189-a4b4-8d01a332dc94",
   "metadata": {},
   "outputs": [
    {
     "data": {
      "text/html": [
       "<div>\n",
       "<style scoped>\n",
       "    .dataframe tbody tr th:only-of-type {\n",
       "        vertical-align: middle;\n",
       "    }\n",
       "\n",
       "    .dataframe tbody tr th {\n",
       "        vertical-align: top;\n",
       "    }\n",
       "\n",
       "    .dataframe thead th {\n",
       "        text-align: right;\n",
       "    }\n",
       "</style>\n",
       "<table border=\"1\" class=\"dataframe\">\n",
       "  <thead>\n",
       "    <tr style=\"text-align: right;\">\n",
       "      <th></th>\n",
       "      <th>p_admit</th>\n",
       "      <th>odds</th>\n",
       "      <th>log_odds</th>\n",
       "    </tr>\n",
       "    <tr>\n",
       "      <th>rank</th>\n",
       "      <th></th>\n",
       "      <th></th>\n",
       "      <th></th>\n",
       "    </tr>\n",
       "  </thead>\n",
       "  <tbody>\n",
       "    <tr>\n",
       "      <th>1</th>\n",
       "      <td>0.540984</td>\n",
       "      <td>1.178571</td>\n",
       "      <td>0.164303</td>\n",
       "    </tr>\n",
       "    <tr>\n",
       "      <th>2</th>\n",
       "      <td>0.357616</td>\n",
       "      <td>0.556701</td>\n",
       "      <td>-0.585727</td>\n",
       "    </tr>\n",
       "    <tr>\n",
       "      <th>3</th>\n",
       "      <td>0.231405</td>\n",
       "      <td>0.301075</td>\n",
       "      <td>-1.200395</td>\n",
       "    </tr>\n",
       "    <tr>\n",
       "      <th>4</th>\n",
       "      <td>0.179104</td>\n",
       "      <td>0.218182</td>\n",
       "      <td>-1.522427</td>\n",
       "    </tr>\n",
       "  </tbody>\n",
       "</table>\n",
       "</div>"
      ],
      "text/plain": [
       "       p_admit      odds  log_odds\n",
       "rank                              \n",
       "1     0.540984  1.178571  0.164303\n",
       "2     0.357616  0.556701 -0.585727\n",
       "3     0.231405  0.301075 -1.200395\n",
       "4     0.179104  0.218182 -1.522427"
      ]
     },
     "execution_count": 12,
     "metadata": {},
     "output_type": "execute_result"
    }
   ],
   "source": [
    "grouped_df= admission_data.groupby('rank').agg(p_admit = ('admit', 'mean'))\n",
    "grouped_df['odds'] = grouped_df['p_admit'] / (1 - grouped_df['p_admit'])\n",
    "grouped_df['log_odds'] = np.log(grouped_df['odds'])\n",
    "grouped_df"
   ]
  },
  {
   "cell_type": "code",
   "execution_count": 13,
   "id": "1c5cce81-4a3a-4a9f-8af7-b64ed17f65cc",
   "metadata": {},
   "outputs": [
    {
     "data": {
      "text/html": [
       "<div>\n",
       "<style scoped>\n",
       "    .dataframe tbody tr th:only-of-type {\n",
       "        vertical-align: middle;\n",
       "    }\n",
       "\n",
       "    .dataframe tbody tr th {\n",
       "        vertical-align: top;\n",
       "    }\n",
       "\n",
       "    .dataframe thead th {\n",
       "        text-align: right;\n",
       "    }\n",
       "</style>\n",
       "<table border=\"1\" class=\"dataframe\">\n",
       "  <thead>\n",
       "    <tr style=\"text-align: right;\">\n",
       "      <th></th>\n",
       "      <th>rank</th>\n",
       "      <th>p_admit</th>\n",
       "      <th>odds</th>\n",
       "      <th>log_odds</th>\n",
       "    </tr>\n",
       "  </thead>\n",
       "  <tbody>\n",
       "    <tr>\n",
       "      <th>0</th>\n",
       "      <td>1</td>\n",
       "      <td>0.540984</td>\n",
       "      <td>1.178571</td>\n",
       "      <td>0.164303</td>\n",
       "    </tr>\n",
       "    <tr>\n",
       "      <th>1</th>\n",
       "      <td>2</td>\n",
       "      <td>0.357616</td>\n",
       "      <td>0.556701</td>\n",
       "      <td>-0.585727</td>\n",
       "    </tr>\n",
       "    <tr>\n",
       "      <th>2</th>\n",
       "      <td>3</td>\n",
       "      <td>0.231405</td>\n",
       "      <td>0.301075</td>\n",
       "      <td>-1.200395</td>\n",
       "    </tr>\n",
       "    <tr>\n",
       "      <th>3</th>\n",
       "      <td>4</td>\n",
       "      <td>0.179104</td>\n",
       "      <td>0.218182</td>\n",
       "      <td>-1.522427</td>\n",
       "    </tr>\n",
       "  </tbody>\n",
       "</table>\n",
       "</div>"
      ],
      "text/plain": [
       "   rank   p_admit      odds  log_odds\n",
       "0     1  0.540984  1.178571  0.164303\n",
       "1     2  0.357616  0.556701 -0.585727\n",
       "2     3  0.231405  0.301075 -1.200395\n",
       "3     4  0.179104  0.218182 -1.522427"
      ]
     },
     "execution_count": 13,
     "metadata": {},
     "output_type": "execute_result"
    }
   ],
   "source": [
    "df =grouped_df.reset_index()\n",
    "df"
   ]
  },
  {
   "cell_type": "code",
   "execution_count": 14,
   "id": "8ab1e7f5-7f03-491f-8aa5-952e2ae66e31",
   "metadata": {},
   "outputs": [
    {
     "name": "stdout",
     "output_type": "stream",
     "text": [
      "                            OLS Regression Results                            \n",
      "==============================================================================\n",
      "Dep. Variable:               log_odds   R-squared:                       0.972\n",
      "Model:                            OLS   Adj. R-squared:                  0.957\n",
      "Method:                 Least Squares   F-statistic:                     68.47\n",
      "Date:                Fri, 16 May 2025   Prob (F-statistic):             0.0143\n",
      "Time:                        15:10:43   Log-Likelihood:                 3.2107\n",
      "No. Observations:                   4   AIC:                            -2.421\n",
      "Df Residuals:                       2   BIC:                            -3.649\n",
      "Df Model:                           1                                         \n",
      "Covariance Type:            nonrobust                                         \n",
      "==============================================================================\n",
      "                 coef    std err          t      P>|t|      [0.025      0.975]\n",
      "------------------------------------------------------------------------------\n",
      "Intercept      0.6327      0.188      3.368      0.078      -0.175       1.441\n",
      "rank          -0.5675      0.069     -8.275      0.014      -0.863      -0.272\n",
      "==============================================================================\n",
      "Omnibus:                          nan   Durbin-Watson:                   2.037\n",
      "Prob(Omnibus):                    nan   Jarque-Bera (JB):                0.602\n",
      "Skew:                          -0.062   Prob(JB):                        0.740\n",
      "Kurtosis:                       1.103   Cond. No.                         7.47\n",
      "==============================================================================\n",
      "\n",
      "Notes:\n",
      "[1] Standard Errors assume that the covariance matrix of the errors is correctly specified.\n"
     ]
    },
    {
     "name": "stderr",
     "output_type": "stream",
     "text": [
      "C:\\Users\\Admin\\Desktop\\LGSW_statistics\\.venv\\Lib\\site-packages\\statsmodels\\stats\\stattools.py:74: ValueWarning: omni_normtest is not valid with less than 8 observations; 4 samples were given.\n",
      "  warn(\"omni_normtest is not valid with less than 8 observations; %i \"\n"
     ]
    }
   ],
   "source": [
    "import statsmodels.formula.api as smf\n",
    "\n",
    "# 회귀식으로 처리가 됨\n",
    "model = smf.ols('log_odds ~ rank', data = df).fit()\n",
    "print(model.summary())"
   ]
  },
  {
   "cell_type": "markdown",
   "id": "dd87349f-4448-4f06-8977-23962d751573",
   "metadata": {},
   "source": [
    "## 모델 만들기 // 중요\n",
    "- rank, int64 => 숫자\n",
    "  + rank는 범주로 취급\n",
    "- gender, object => 아직 정의되지 않은 객체\n",
    "  + gender, 범주로 취급"
   ]
  },
  {
   "cell_type": "code",
   "execution_count": 16,
   "id": "b8e8f7f3-b6b1-418a-91d3-c9c93548a7b8",
   "metadata": {},
   "outputs": [
    {
     "name": "stdout",
     "output_type": "stream",
     "text": [
      "<class 'pandas.core.frame.DataFrame'>\n",
      "RangeIndex: 400 entries, 0 to 399\n",
      "Data columns (total 5 columns):\n",
      " #   Column  Non-Null Count  Dtype  \n",
      "---  ------  --------------  -----  \n",
      " 0   admit   400 non-null    int64  \n",
      " 1   gre     400 non-null    int64  \n",
      " 2   gpa     400 non-null    float64\n",
      " 3   rank    400 non-null    int64  \n",
      " 4   gender  400 non-null    object \n",
      "dtypes: float64(1), int64(3), object(1)\n",
      "memory usage: 15.8+ KB\n"
     ]
    }
   ],
   "source": [
    "# admission_data.head()\n",
    "admission_data.info()"
   ]
  },
  {
   "cell_type": "code",
   "execution_count": 17,
   "id": "e8b3228c-89e1-4605-9b82-9fa5f94a44e4",
   "metadata": {},
   "outputs": [
    {
     "name": "stdout",
     "output_type": "stream",
     "text": [
      "<class 'pandas.core.frame.DataFrame'>\n",
      "RangeIndex: 400 entries, 0 to 399\n",
      "Data columns (total 5 columns):\n",
      " #   Column  Non-Null Count  Dtype   \n",
      "---  ------  --------------  -----   \n",
      " 0   admit   400 non-null    int64   \n",
      " 1   gre     400 non-null    int64   \n",
      " 2   gpa     400 non-null    float64 \n",
      " 3   rank    400 non-null    category\n",
      " 4   gender  400 non-null    category\n",
      "dtypes: category(2), float64(1), int64(2)\n",
      "memory usage: 10.6 KB\n"
     ]
    }
   ],
   "source": [
    "admission_data['rank'] = admission_data['rank'].astype('category') # 범주형으로 취급\n",
    "admission_data['gender'] = admission_data['gender'].astype('category') # 범주형으로 취급\n",
    "\n",
    "admission_data.info()"
   ]
  },
  {
   "cell_type": "markdown",
   "id": "0dbe2128-a2f2-4a15-8bae-8b6a5d1d842a",
   "metadata": {},
   "source": [
    "### 가설설정\n",
    "- 기울기가 있냐 없냐?\n",
    "  + 전체식은 유의하냐?\n",
    "  + 각 개별적인 필드(컬럼), 변수의 기울기가 유의하냐?\n",
    "- 해석\n",
    "  + gender[T.M] : 남학생의 합격율과 여학생의 합격율의 차이는 없다. 성별은 입학여부에 관련이 없다."
   ]
  },
  {
   "cell_type": "code",
   "execution_count": 18,
   "id": "3020d154-6d1f-4ff6-a27d-ca712be2b7f3",
   "metadata": {},
   "outputs": [
    {
     "name": "stdout",
     "output_type": "stream",
     "text": [
      "Optimization terminated successfully.\n",
      "         Current function value: 0.573066\n",
      "         Iterations 6\n",
      "                           Logit Regression Results                           \n",
      "==============================================================================\n",
      "Dep. Variable:                  admit   No. Observations:                  400\n",
      "Model:                          Logit   Df Residuals:                      393\n",
      "Method:                           MLE   Df Model:                            6\n",
      "Date:                Fri, 16 May 2025   Pseudo R-squ.:                 0.08305\n",
      "Time:                        15:20:03   Log-Likelihood:                -229.23\n",
      "converged:                       True   LL-Null:                       -249.99\n",
      "Covariance Type:            nonrobust   LLR p-value:                 2.283e-07\n",
      "===============================================================================\n",
      "                  coef    std err          z      P>|z|      [0.025      0.975]\n",
      "-------------------------------------------------------------------------------\n",
      "Intercept      -3.9536      1.149     -3.442      0.001      -6.205      -1.702\n",
      "rank[T.2]      -0.6723      0.317     -2.123      0.034      -1.293      -0.052\n",
      "rank[T.3]      -1.3422      0.345     -3.887      0.000      -2.019      -0.665\n",
      "rank[T.4]      -1.5529      0.418     -3.717      0.000      -2.372      -0.734\n",
      "gender[T.M]    -0.0578      0.228     -0.254      0.800      -0.504       0.388\n",
      "gre             0.0023      0.001      2.062      0.039       0.000       0.004\n",
      "gpa             0.8032      0.332      2.420      0.016       0.153       1.454\n",
      "===============================================================================\n"
     ]
    }
   ],
   "source": [
    "model = smf.logit(\"admit ~ gre + gpa + rank + gender\", data = admission_data).fit()\n",
    "print(model.summary())"
   ]
  },
  {
   "cell_type": "markdown",
   "id": "dda3f841-49f4-4413-8af4-c344e317dbda",
   "metadata": {},
   "source": [
    "- 위 결과 해석 시 바로 보는 것이 아니라\n",
    "  승산비로 바꾸고 봐야됨."
   ]
  },
  {
   "cell_type": "markdown",
   "id": "6d433e62-f34a-4e2e-bdd7-56305a58c3a9",
   "metadata": {},
   "source": [
    "- 승산비 // 중요"
   ]
  },
  {
   "cell_type": "code",
   "execution_count": 19,
   "id": "898ec0da-7f27-439d-a9b6-3d5be2ab970f",
   "metadata": {},
   "outputs": [
    {
     "data": {
      "text/plain": [
       "np.float64(2.232674066397348)"
      ]
     },
     "execution_count": 19,
     "metadata": {},
     "output_type": "execute_result"
    }
   ],
   "source": [
    "# 승산비 구해야 함\n",
    "import numpy as np\n",
    "np.exp(0.8032) # 2.23배 증가 gpa가 1점 증가할 때마다 입학 합격률이 2.23배 증가"
   ]
  },
  {
   "cell_type": "code",
   "execution_count": 20,
   "id": "ed02ec48-2c16-4753-bb07-3b9800dffcf9",
   "metadata": {},
   "outputs": [
    {
     "data": {
      "text/plain": [
       "np.float64(1.002302647029)"
      ]
     },
     "execution_count": 20,
     "metadata": {},
     "output_type": "execute_result"
    }
   ],
   "source": [
    "np.exp(0.0023) # 1.002배 증가, gre가 1점 증가할 때마다 입학 합격률이 1.002배 증가"
   ]
  },
  {
   "cell_type": "markdown",
   "id": "cc385446-c404-45e9-badc-e3f75013c4c2",
   "metadata": {},
   "source": [
    "# 모델의 통계량 구하기"
   ]
  },
  {
   "cell_type": "code",
   "execution_count": 21,
   "id": "6d262a8d-b891-4bb3-991d-fe97455d09ba",
   "metadata": {},
   "outputs": [
    {
     "name": "stdout",
     "output_type": "stream",
     "text": [
      "-229.2265043299036\n",
      "-249.98825881093052\n"
     ]
    },
    {
     "data": {
      "text/plain": [
       "(None, None)"
      ]
     },
     "execution_count": 21,
     "metadata": {},
     "output_type": "execute_result"
    }
   ],
   "source": [
    "print(model.llf), print(model.llnull)"
   ]
  },
  {
   "cell_type": "code",
   "execution_count": 23,
   "id": "a2938282-a501-4b28-985b-d5c8d7a79879",
   "metadata": {},
   "outputs": [
    {
     "data": {
      "text/plain": [
       "np.float64(2.2832764721589096e-07)"
      ]
     },
     "execution_count": 23,
     "metadata": {},
     "output_type": "execute_result"
    }
   ],
   "source": [
    "test_statistic = -2 * (model.llnull - model.llf) # 기존 모델 - 새로운 모델\n",
    "test_statistic # 검정 통계량 ==> 카이제곱분포 따라감\n",
    "\n",
    "from scipy.stats import chi2\n",
    "\n",
    "# 자유도 계산\n",
    "df = model.df_model - 0 # 기저 모델은 자유도가 0\n",
    "\n",
    "p_value = chi2.sf(test_statistic, df)\n",
    "p_value"
   ]
  },
  {
   "cell_type": "markdown",
   "id": "517f6da5-60b4-48b0-a732-6b8283e0a333",
   "metadata": {},
   "source": [
    "# Tips 데이터를 활용"
   ]
  },
  {
   "cell_type": "code",
   "execution_count": null,
   "id": "e4ebd8f3-47a3-4d25-ac41-048047c53b17",
   "metadata": {},
   "outputs": [],
   "source": [
    "# size ==> category로 변경 후 코드 작성\n",
    "\n",
    "# tip에 영향을 주는 주요 요인 찾기\n",
    "## AIC, BIC를 활용해서 모델을 비교하면서 최적의 모델 찾기\n",
    "## 모형 해석\n",
    "## 독립성 검정, 잔차의 정규성 검정, 등분산성 검정, 다중공선성 (X)\n",
    "\n",
    "# smoker 흡연여부, 흡연여부에 영향을 주는 주요 요인 찾기\n",
    "## AIC, BIC를 활용해서 모델을 비교하면서 최적의 모델 찾기\n",
    "## 모형 해석 \n",
    "## 각 값에 대해 승산비 구하기"
   ]
  },
  {
   "cell_type": "code",
   "execution_count": 24,
   "id": "fb0849c9-5062-412f-9952-e7f5275dd065",
   "metadata": {},
   "outputs": [
    {
     "name": "stdout",
     "output_type": "stream",
     "text": [
      "<class 'pandas.core.frame.DataFrame'>\n",
      "RangeIndex: 244 entries, 0 to 243\n",
      "Data columns (total 7 columns):\n",
      " #   Column      Non-Null Count  Dtype   \n",
      "---  ------      --------------  -----   \n",
      " 0   total_bill  244 non-null    float64 \n",
      " 1   tip         244 non-null    float64 \n",
      " 2   sex         244 non-null    category\n",
      " 3   smoker      244 non-null    category\n",
      " 4   day         244 non-null    category\n",
      " 5   time        244 non-null    category\n",
      " 6   size        244 non-null    int64   \n",
      "dtypes: category(4), float64(2), int64(1)\n",
      "memory usage: 7.4 KB\n"
     ]
    }
   ],
   "source": [
    "import seaborn as sns\n",
    "tips = sns.load_dataset('tips')\n",
    "tips.info()"
   ]
  },
  {
   "cell_type": "code",
   "execution_count": null,
   "id": "ddd82156-8a6c-47e6-84fa-ad7a90d8af1b",
   "metadata": {},
   "outputs": [],
   "source": []
  }
 ],
 "metadata": {
  "kernelspec": {
   "display_name": "Python 3 (ipykernel)",
   "language": "python",
   "name": "python3"
  },
  "language_info": {
   "codemirror_mode": {
    "name": "ipython",
    "version": 3
   },
   "file_extension": ".py",
   "mimetype": "text/x-python",
   "name": "python",
   "nbconvert_exporter": "python",
   "pygments_lexer": "ipython3",
   "version": "3.11.12"
  }
 },
 "nbformat": 4,
 "nbformat_minor": 5
}
